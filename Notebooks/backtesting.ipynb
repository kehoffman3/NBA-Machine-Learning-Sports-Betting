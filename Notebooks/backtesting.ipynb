{
    "cells": [
        {
            "cell_type": "code",
            "execution_count": 36,
            "source": [
                "import time\n",
                "import numpy as np\n",
                "import pandas as pd\n",
                "import tensorflow as tf\n",
                "import xgboost as xgb\n",
                "from tensorflow.keras.callbacks import TensorBoard, EarlyStopping, ModelCheckpoint\n",
                "\n",
                "current_time = str(time.time())\n",
                "\n",
                "tensorboard = TensorBoard(log_dir='../Logs/{}'.format(current_time))\n",
                "earlyStopping = EarlyStopping(monitor='val_loss', patience=10, verbose=0, mode='min')\n",
                "mcp_save = ModelCheckpoint('../Models/Trained-Model-ML-' + current_time, save_best_only=True, monitor='val_loss', mode='min')\n",
                "\n",
                "data = pd.read_excel('../Datasets/Full-Data-Set-UnderOver-ML-Odds-2020-21.xlsx')\n",
                "data['Season'] = data[\"Date\"].str.split('-').str[2].astype(int)\n",
                "\n",
                "cutoff = 2016\n",
                "train_df = data[data[\"Season\"] < cutoff ]\n",
                "test_df = data[data[\"Season\"] >= cutoff ]\n",
                "#test_df = data[data[\"Season\"] == cutoff ]\n",
                "\n",
                "scores = train_df['Score']\n",
                "margin = train_df['Home-Team-Win']\n",
                "\n",
                "train_df.drop(['Score', 'Home-Team-Win', 'Unnamed: 0', 'TEAM_NAME', 'TEAM_NAME.1', 'Date', 'Date.1', 'OU', 'OU-Cover', 'Home-Odds', 'Away-Odds'], axis=1, inplace=True)\n",
                "\n",
                "train_df = train_df.values.astype(float)\n",
                "#data = data.astype(float)\n",
                "\n",
                "x_train = tf.keras.utils.normalize(train_df, axis=1)\n",
                "y_train = np.asarray(margin)\n",
                "\n",
                "margin = test_df['Home-Team-Win']\n",
                "\n",
                "test_df.drop(['Score', 'Home-Team-Win', 'Unnamed: 0', 'TEAM_NAME', 'TEAM_NAME.1', 'Date', 'Date.1', 'OU', 'OU-Cover', 'Home-Odds', 'Away-Odds'], axis=1, inplace=True)\n",
                "\n",
                "test_df = test_df.values.astype(float)\n",
                "#data = data.astype(float)\n",
                "\n",
                "x_test = tf.keras.utils.normalize(test_df, axis=1)\n",
                "y_test = np.asarray(margin)\n"
            ],
            "outputs": [
                {
                    "output_type": "stream",
                    "name": "stderr",
                    "text": [
                        "2021-09-14 06:50:01.950509: I tensorflow/core/profiler/lib/profiler_session.cc:131] Profiler session initializing.\n",
                        "2021-09-14 06:50:01.950527: I tensorflow/core/profiler/lib/profiler_session.cc:146] Profiler session started.\n",
                        "2021-09-14 06:50:01.950709: I tensorflow/core/profiler/lib/profiler_session.cc:164] Profiler session tear down.\n",
                        "/Users/kevin/repos/NBA-Machine-Learning-Sports-Betting/venv/lib/python3.7/site-packages/pandas/core/frame.py:4908: SettingWithCopyWarning: \n",
                        "A value is trying to be set on a copy of a slice from a DataFrame\n",
                        "\n",
                        "See the caveats in the documentation: https://pandas.pydata.org/pandas-docs/stable/user_guide/indexing.html#returning-a-view-versus-a-copy\n",
                        "  errors=errors,\n"
                    ]
                }
            ],
            "metadata": {}
        },
        {
            "cell_type": "markdown",
            "source": [
                "Tuning XGB"
            ],
            "metadata": {}
        },
        {
            "cell_type": "code",
            "execution_count": 2,
            "source": [
                "# Using a random forest to optimize\n",
                "!pip install scikit-optimize\n",
                "from skopt import forest_minimize\n",
                "from sklearn.model_selection import cross_val_score\n",
                "\n",
                "def tune_xgbc(params):\n",
                "# Implementation learned on a lesson of Mario Filho (Kagle Grandmaster) for parametes optmization.\n",
                "# Link to the video: https://www.youtube.com/watch?v=WhnkeasZNHI\n",
                "\n",
                "    \"\"\"Function to be passed as scikit-optimize minimizer/maximizer input\n",
                "\n",
                "    Parameters:\n",
                "    Tuples with information about the range that the optimizer should use for that parameter, \n",
                "    as well as the behaviour that it should follow in that range.\n",
                "\n",
                "    Returns:\n",
                "    float: the metric that should be minimized. If the objective is maximization, then the negative \n",
                "    of the desired metric must be returned. In this case, the negative AUC average generated by CV is returned.\n",
                "    \"\"\"\n",
                "\n",
                "\n",
                "    #Hyperparameters to be optimized\n",
                "    print(params)\n",
                "    learning_rate = params[0] \n",
                "    n_estimators = params[1] \n",
                "    max_depth = params[2]\n",
                "    min_child_weight = params[3]\n",
                "    gamma = params[4]\n",
                "    subsample = params[5]\n",
                "    colsample_bytree = params[6]\n",
                "\n",
                "\n",
                "    #Model to be optimized\n",
                "    mdl = xgb.XGBClassifier(learning_rate = learning_rate, \n",
                "                            n_estimators = n_estimators, \n",
                "                            max_depth = max_depth, \n",
                "                            min_child_weight = min_child_weight, \n",
                "                            gamma = gamma, \n",
                "                            subsample = subsample, \n",
                "                            colsample_bytree = colsample_bytree, seed = 42)\n",
                "\n",
                "\n",
                "    #Cross-Validation in order to avoid overfitting\n",
                "    acc = cross_val_score(mdl, x_train, y_train, cv = 5, scoring = 'accuracy')\n",
                "    \n",
                "    print(acc.mean())\n",
                "    # as the function is minimization (forest_minimize), we need to use the negative of the desired metric (AUC)\n",
                "    return -acc.mean()\n",
                "\n",
                "# Creating a sample space in which the initial randomic search should be performed\n",
                "space = [(1e-3, 1e-1, 'log-uniform'), # learning rate\n",
                "          (100, 2000), # n_estimators\n",
                "          (1, 10), # max_depth \n",
                "          (1, 6.), # min_child_weight \n",
                "          (0, 0.5), # gamma \n",
                "          (0.5, 1.), # subsample \n",
                "          (0.5, 1.)] # colsample_bytree \n",
                "\n",
                "# Minimization using a random forest with 20 random samples and 50 iterations for Bayesian optimization.\n",
                "result = forest_minimize(tune_xgbc, space, random_state = 42, n_random_starts = 20, n_calls  = 25, verbose = 1)"
            ],
            "outputs": [
                {
                    "output_type": "stream",
                    "name": "stdout",
                    "text": [
                        "Collecting scikit-optimize\n",
                        "\u001b[?25l  Downloading https://files.pythonhosted.org/packages/8b/03/be33e89f55866065a02e515c5b319304a801a9f1027a9b311a9b1d1f8dc7/scikit_optimize-0.8.1-py2.py3-none-any.whl (101kB)\n",
                        "\u001b[K     |████████████████████████████████| 102kB 1.2MB/s \n",
                        "\u001b[?25hRequirement already satisfied: scikit-learn>=0.20.0 in /Users/kevin/repos/NBA-Machine-Learning-Sports-Betting/venv/lib/python3.7/site-packages (from scikit-optimize) (0.24.2)\n",
                        "Requirement already satisfied: joblib>=0.11 in /Users/kevin/repos/NBA-Machine-Learning-Sports-Betting/venv/lib/python3.7/site-packages (from scikit-optimize) (1.0.1)\n",
                        "Requirement already satisfied: scipy>=0.19.1 in /Users/kevin/repos/NBA-Machine-Learning-Sports-Betting/venv/lib/python3.7/site-packages (from scikit-optimize) (1.7.1)\n",
                        "Collecting pyaml>=16.9 (from scikit-optimize)\n",
                        "  Downloading https://files.pythonhosted.org/packages/7b/33/12e2e89527df0e1f5bc07f94a039b981cc4a15f040f29a6cc978f8f99dd4/pyaml-21.8.3-py2.py3-none-any.whl\n",
                        "Requirement already satisfied: numpy>=1.13.3 in /Users/kevin/repos/NBA-Machine-Learning-Sports-Betting/venv/lib/python3.7/site-packages (from scikit-optimize) (1.21.2)\n",
                        "Requirement already satisfied: threadpoolctl>=2.0.0 in /Users/kevin/repos/NBA-Machine-Learning-Sports-Betting/venv/lib/python3.7/site-packages (from scikit-learn>=0.20.0->scikit-optimize) (2.2.0)\n",
                        "Collecting PyYAML (from pyaml>=16.9->scikit-optimize)\n",
                        "\u001b[?25l  Downloading https://files.pythonhosted.org/packages/6b/8c/674cc47282af12bd7f12eea6cc87d907ada593b15f5ba0b51638599500c9/PyYAML-5.4.1-cp37-cp37m-macosx_10_9_x86_64.whl (249kB)\n",
                        "\u001b[K     |████████████████████████████████| 256kB 307kB/s \n",
                        "\u001b[?25hInstalling collected packages: PyYAML, pyaml, scikit-optimize\n",
                        "Successfully installed PyYAML-5.4.1 pyaml-21.8.3 scikit-optimize-0.8.1\n",
                        "\u001b[33mWARNING: You are using pip version 19.2.3, however version 21.2.4 is available.\n",
                        "You should consider upgrading via the 'pip install --upgrade pip' command.\u001b[0m\n",
                        "Iteration No: 1 started. Evaluating function at random point.\n",
                        "[0.03918194347141743, 1394, 8, 3.9932924209851834, 0.07800932022121827, 0.5779972601681014, 0.5290418060840998]\n",
                        "[06:20:35] WARNING: /Users/travis/build/dmlc/xgboost/src/learner.cc:1095: Starting in XGBoost 1.3.0, the default evaluation metric used with the objective 'binary:logistic' was changed from 'error' to 'logloss'. Explicitly set eval_metric if you'd like to restore the old behavior.\n"
                    ]
                },
                {
                    "output_type": "stream",
                    "name": "stderr",
                    "text": [
                        "/Users/kevin/repos/NBA-Machine-Learning-Sports-Betting/venv/lib/python3.7/site-packages/xgboost/sklearn.py:1146: UserWarning: The use of label encoder in XGBClassifier is deprecated and will be removed in a future release. To remove this warning, do the following: 1) Pass option use_label_encoder=False when constructing XGBClassifier object; and 2) Encode your labels (y) as integers starting with 0, i.e. 0, 1, 2, ..., [num_class - 1].\n",
                        "  warnings.warn(label_encoder_deprecation_msg, UserWarning)\n",
                        "/Users/kevin/repos/NBA-Machine-Learning-Sports-Betting/venv/lib/python3.7/site-packages/xgboost/sklearn.py:1146: UserWarning: The use of label encoder in XGBClassifier is deprecated and will be removed in a future release. To remove this warning, do the following: 1) Pass option use_label_encoder=False when constructing XGBClassifier object; and 2) Encode your labels (y) as integers starting with 0, i.e. 0, 1, 2, ..., [num_class - 1].\n",
                        "  warnings.warn(label_encoder_deprecation_msg, UserWarning)\n"
                    ]
                },
                {
                    "output_type": "stream",
                    "name": "stdout",
                    "text": [
                        "[06:21:06] WARNING: /Users/travis/build/dmlc/xgboost/src/learner.cc:1095: Starting in XGBoost 1.3.0, the default evaluation metric used with the objective 'binary:logistic' was changed from 'error' to 'logloss'. Explicitly set eval_metric if you'd like to restore the old behavior.\n"
                    ]
                },
                {
                    "output_type": "stream",
                    "name": "stderr",
                    "text": [
                        "/Users/kevin/repos/NBA-Machine-Learning-Sports-Betting/venv/lib/python3.7/site-packages/xgboost/sklearn.py:1146: UserWarning: The use of label encoder in XGBClassifier is deprecated and will be removed in a future release. To remove this warning, do the following: 1) Pass option use_label_encoder=False when constructing XGBClassifier object; and 2) Encode your labels (y) as integers starting with 0, i.e. 0, 1, 2, ..., [num_class - 1].\n",
                        "  warnings.warn(label_encoder_deprecation_msg, UserWarning)\n"
                    ]
                },
                {
                    "output_type": "stream",
                    "name": "stdout",
                    "text": [
                        "[06:21:38] WARNING: /Users/travis/build/dmlc/xgboost/src/learner.cc:1095: Starting in XGBoost 1.3.0, the default evaluation metric used with the objective 'binary:logistic' was changed from 'error' to 'logloss'. Explicitly set eval_metric if you'd like to restore the old behavior.\n"
                    ]
                },
                {
                    "output_type": "stream",
                    "name": "stderr",
                    "text": [
                        "/Users/kevin/repos/NBA-Machine-Learning-Sports-Betting/venv/lib/python3.7/site-packages/xgboost/sklearn.py:1146: UserWarning: The use of label encoder in XGBClassifier is deprecated and will be removed in a future release. To remove this warning, do the following: 1) Pass option use_label_encoder=False when constructing XGBClassifier object; and 2) Encode your labels (y) as integers starting with 0, i.e. 0, 1, 2, ..., [num_class - 1].\n",
                        "  warnings.warn(label_encoder_deprecation_msg, UserWarning)\n"
                    ]
                },
                {
                    "output_type": "stream",
                    "name": "stdout",
                    "text": [
                        "[06:22:11] WARNING: /Users/travis/build/dmlc/xgboost/src/learner.cc:1095: Starting in XGBoost 1.3.0, the default evaluation metric used with the objective 'binary:logistic' was changed from 'error' to 'logloss'. Explicitly set eval_metric if you'd like to restore the old behavior.\n"
                    ]
                },
                {
                    "output_type": "stream",
                    "name": "stderr",
                    "text": [
                        "/Users/kevin/repos/NBA-Machine-Learning-Sports-Betting/venv/lib/python3.7/site-packages/xgboost/sklearn.py:1146: UserWarning: The use of label encoder in XGBClassifier is deprecated and will be removed in a future release. To remove this warning, do the following: 1) Pass option use_label_encoder=False when constructing XGBClassifier object; and 2) Encode your labels (y) as integers starting with 0, i.e. 0, 1, 2, ..., [num_class - 1].\n",
                        "  warnings.warn(label_encoder_deprecation_msg, UserWarning)\n"
                    ]
                },
                {
                    "output_type": "stream",
                    "name": "stdout",
                    "text": [
                        "[06:22:45] WARNING: /Users/travis/build/dmlc/xgboost/src/learner.cc:1095: Starting in XGBoost 1.3.0, the default evaluation metric used with the objective 'binary:logistic' was changed from 'error' to 'logloss'. Explicitly set eval_metric if you'd like to restore the old behavior.\n",
                        "0.6947830139292439\n",
                        "Iteration No: 1 ended. Evaluation done at random point.\n",
                        "Time taken: 163.8167\n",
                        "Function value obtained: -0.6948\n",
                        "Current minimum: -0.6948\n",
                        "Iteration No: 2 started. Evaluating function at random point.\n",
                        "[0.05399484409787437, 1223, 8, 4.540362888980228, 0.010292247147901225, 0.9849549260809973, 0.916221320400211]\n",
                        "[06:23:19] WARNING: /Users/travis/build/dmlc/xgboost/src/learner.cc:1095: Starting in XGBoost 1.3.0, the default evaluation metric used with the objective 'binary:logistic' was changed from 'error' to 'logloss'. Explicitly set eval_metric if you'd like to restore the old behavior.\n"
                    ]
                },
                {
                    "output_type": "stream",
                    "name": "stderr",
                    "text": [
                        "/Users/kevin/repos/NBA-Machine-Learning-Sports-Betting/venv/lib/python3.7/site-packages/xgboost/sklearn.py:1146: UserWarning: The use of label encoder in XGBClassifier is deprecated and will be removed in a future release. To remove this warning, do the following: 1) Pass option use_label_encoder=False when constructing XGBClassifier object; and 2) Encode your labels (y) as integers starting with 0, i.e. 0, 1, 2, ..., [num_class - 1].\n",
                        "  warnings.warn(label_encoder_deprecation_msg, UserWarning)\n",
                        "/Users/kevin/repos/NBA-Machine-Learning-Sports-Betting/venv/lib/python3.7/site-packages/xgboost/sklearn.py:1146: UserWarning: The use of label encoder in XGBClassifier is deprecated and will be removed in a future release. To remove this warning, do the following: 1) Pass option use_label_encoder=False when constructing XGBClassifier object; and 2) Encode your labels (y) as integers starting with 0, i.e. 0, 1, 2, ..., [num_class - 1].\n",
                        "  warnings.warn(label_encoder_deprecation_msg, UserWarning)\n"
                    ]
                },
                {
                    "output_type": "stream",
                    "name": "stdout",
                    "text": [
                        "[06:24:23] WARNING: /Users/travis/build/dmlc/xgboost/src/learner.cc:1095: Starting in XGBoost 1.3.0, the default evaluation metric used with the objective 'binary:logistic' was changed from 'error' to 'logloss'. Explicitly set eval_metric if you'd like to restore the old behavior.\n"
                    ]
                },
                {
                    "output_type": "stream",
                    "name": "stderr",
                    "text": [
                        "/Users/kevin/repos/NBA-Machine-Learning-Sports-Betting/venv/lib/python3.7/site-packages/xgboost/sklearn.py:1146: UserWarning: The use of label encoder in XGBClassifier is deprecated and will be removed in a future release. To remove this warning, do the following: 1) Pass option use_label_encoder=False when constructing XGBClassifier object; and 2) Encode your labels (y) as integers starting with 0, i.e. 0, 1, 2, ..., [num_class - 1].\n",
                        "  warnings.warn(label_encoder_deprecation_msg, UserWarning)\n"
                    ]
                },
                {
                    "output_type": "stream",
                    "name": "stdout",
                    "text": [
                        "[06:25:29] WARNING: /Users/travis/build/dmlc/xgboost/src/learner.cc:1095: Starting in XGBoost 1.3.0, the default evaluation metric used with the objective 'binary:logistic' was changed from 'error' to 'logloss'. Explicitly set eval_metric if you'd like to restore the old behavior.\n"
                    ]
                },
                {
                    "output_type": "stream",
                    "name": "stderr",
                    "text": [
                        "/Users/kevin/repos/NBA-Machine-Learning-Sports-Betting/venv/lib/python3.7/site-packages/xgboost/sklearn.py:1146: UserWarning: The use of label encoder in XGBClassifier is deprecated and will be removed in a future release. To remove this warning, do the following: 1) Pass option use_label_encoder=False when constructing XGBClassifier object; and 2) Encode your labels (y) as integers starting with 0, i.e. 0, 1, 2, ..., [num_class - 1].\n",
                        "  warnings.warn(label_encoder_deprecation_msg, UserWarning)\n"
                    ]
                },
                {
                    "output_type": "stream",
                    "name": "stdout",
                    "text": [
                        "[06:26:34] WARNING: /Users/travis/build/dmlc/xgboost/src/learner.cc:1095: Starting in XGBoost 1.3.0, the default evaluation metric used with the objective 'binary:logistic' was changed from 'error' to 'logloss'. Explicitly set eval_metric if you'd like to restore the old behavior.\n"
                    ]
                },
                {
                    "output_type": "stream",
                    "name": "stderr",
                    "text": [
                        "/Users/kevin/repos/NBA-Machine-Learning-Sports-Betting/venv/lib/python3.7/site-packages/xgboost/sklearn.py:1146: UserWarning: The use of label encoder in XGBClassifier is deprecated and will be removed in a future release. To remove this warning, do the following: 1) Pass option use_label_encoder=False when constructing XGBClassifier object; and 2) Encode your labels (y) as integers starting with 0, i.e. 0, 1, 2, ..., [num_class - 1].\n",
                        "  warnings.warn(label_encoder_deprecation_msg, UserWarning)\n"
                    ]
                },
                {
                    "output_type": "stream",
                    "name": "stdout",
                    "text": [
                        "[06:27:47] WARNING: /Users/travis/build/dmlc/xgboost/src/learner.cc:1095: Starting in XGBoost 1.3.0, the default evaluation metric used with the objective 'binary:logistic' was changed from 'error' to 'logloss'. Explicitly set eval_metric if you'd like to restore the old behavior.\n",
                        "0.6938535534250938\n",
                        "Iteration No: 2 ended. Evaluation done at random point.\n",
                        "Time taken: 335.4691\n",
                        "Function value obtained: -0.6939\n",
                        "Current minimum: -0.6948\n",
                        "Iteration No: 3 started. Evaluating function at random point.\n",
                        "[0.0026587543983272693, 1315, 5, 4.087407548138583, 0.3058265802441405, 0.5035331526098588, 0.5115312125207079]\n",
                        "[06:28:54] WARNING: /Users/travis/build/dmlc/xgboost/src/learner.cc:1095: Starting in XGBoost 1.3.0, the default evaluation metric used with the objective 'binary:logistic' was changed from 'error' to 'logloss'. Explicitly set eval_metric if you'd like to restore the old behavior.\n"
                    ]
                },
                {
                    "output_type": "stream",
                    "name": "stderr",
                    "text": [
                        "/Users/kevin/repos/NBA-Machine-Learning-Sports-Betting/venv/lib/python3.7/site-packages/xgboost/sklearn.py:1146: UserWarning: The use of label encoder in XGBClassifier is deprecated and will be removed in a future release. To remove this warning, do the following: 1) Pass option use_label_encoder=False when constructing XGBClassifier object; and 2) Encode your labels (y) as integers starting with 0, i.e. 0, 1, 2, ..., [num_class - 1].\n",
                        "  warnings.warn(label_encoder_deprecation_msg, UserWarning)\n",
                        "/Users/kevin/repos/NBA-Machine-Learning-Sports-Betting/venv/lib/python3.7/site-packages/xgboost/sklearn.py:1146: UserWarning: The use of label encoder in XGBClassifier is deprecated and will be removed in a future release. To remove this warning, do the following: 1) Pass option use_label_encoder=False when constructing XGBClassifier object; and 2) Encode your labels (y) as integers starting with 0, i.e. 0, 1, 2, ..., [num_class - 1].\n",
                        "  warnings.warn(label_encoder_deprecation_msg, UserWarning)\n"
                    ]
                },
                {
                    "output_type": "stream",
                    "name": "stdout",
                    "text": [
                        "[06:29:12] WARNING: /Users/travis/build/dmlc/xgboost/src/learner.cc:1095: Starting in XGBoost 1.3.0, the default evaluation metric used with the objective 'binary:logistic' was changed from 'error' to 'logloss'. Explicitly set eval_metric if you'd like to restore the old behavior.\n"
                    ]
                },
                {
                    "output_type": "stream",
                    "name": "stderr",
                    "text": [
                        "/Users/kevin/repos/NBA-Machine-Learning-Sports-Betting/venv/lib/python3.7/site-packages/xgboost/sklearn.py:1146: UserWarning: The use of label encoder in XGBClassifier is deprecated and will be removed in a future release. To remove this warning, do the following: 1) Pass option use_label_encoder=False when constructing XGBClassifier object; and 2) Encode your labels (y) as integers starting with 0, i.e. 0, 1, 2, ..., [num_class - 1].\n",
                        "  warnings.warn(label_encoder_deprecation_msg, UserWarning)\n"
                    ]
                },
                {
                    "output_type": "stream",
                    "name": "stdout",
                    "text": [
                        "[06:29:29] WARNING: /Users/travis/build/dmlc/xgboost/src/learner.cc:1095: Starting in XGBoost 1.3.0, the default evaluation metric used with the objective 'binary:logistic' was changed from 'error' to 'logloss'. Explicitly set eval_metric if you'd like to restore the old behavior.\n"
                    ]
                },
                {
                    "output_type": "stream",
                    "name": "stderr",
                    "text": [
                        "/Users/kevin/repos/NBA-Machine-Learning-Sports-Betting/venv/lib/python3.7/site-packages/xgboost/sklearn.py:1146: UserWarning: The use of label encoder in XGBClassifier is deprecated and will be removed in a future release. To remove this warning, do the following: 1) Pass option use_label_encoder=False when constructing XGBClassifier object; and 2) Encode your labels (y) as integers starting with 0, i.e. 0, 1, 2, ..., [num_class - 1].\n",
                        "  warnings.warn(label_encoder_deprecation_msg, UserWarning)\n"
                    ]
                },
                {
                    "output_type": "stream",
                    "name": "stdout",
                    "text": [
                        "[06:29:47] WARNING: /Users/travis/build/dmlc/xgboost/src/learner.cc:1095: Starting in XGBoost 1.3.0, the default evaluation metric used with the objective 'binary:logistic' was changed from 'error' to 'logloss'. Explicitly set eval_metric if you'd like to restore the old behavior.\n"
                    ]
                },
                {
                    "output_type": "stream",
                    "name": "stderr",
                    "text": [
                        "/Users/kevin/repos/NBA-Machine-Learning-Sports-Betting/venv/lib/python3.7/site-packages/xgboost/sklearn.py:1146: UserWarning: The use of label encoder in XGBClassifier is deprecated and will be removed in a future release. To remove this warning, do the following: 1) Pass option use_label_encoder=False when constructing XGBClassifier object; and 2) Encode your labels (y) as integers starting with 0, i.e. 0, 1, 2, ..., [num_class - 1].\n",
                        "  warnings.warn(label_encoder_deprecation_msg, UserWarning)\n"
                    ]
                },
                {
                    "output_type": "stream",
                    "name": "stdout",
                    "text": [
                        "[06:30:05] WARNING: /Users/travis/build/dmlc/xgboost/src/learner.cc:1095: Starting in XGBoost 1.3.0, the default evaluation metric used with the objective 'binary:logistic' was changed from 'error' to 'logloss'. Explicitly set eval_metric if you'd like to restore the old behavior.\n",
                        "0.7150241455352397\n",
                        "Iteration No: 3 ended. Evaluation done at random point.\n",
                        "Time taken: 88.4170\n",
                        "Function value obtained: -0.7150\n",
                        "Current minimum: -0.7150\n",
                        "Iteration No: 4 started. Evaluating function at random point.\n",
                        "[0.011208547084229371, 610, 10, 1.2333283160680772, 0.4868777594207297, 0.6163856702151521, 0.5453032172664104]\n",
                        "[06:30:22] WARNING: /Users/travis/build/dmlc/xgboost/src/learner.cc:1095: Starting in XGBoost 1.3.0, the default evaluation metric used with the objective 'binary:logistic' was changed from 'error' to 'logloss'. Explicitly set eval_metric if you'd like to restore the old behavior.\n"
                    ]
                },
                {
                    "output_type": "stream",
                    "name": "stderr",
                    "text": [
                        "/Users/kevin/repos/NBA-Machine-Learning-Sports-Betting/venv/lib/python3.7/site-packages/xgboost/sklearn.py:1146: UserWarning: The use of label encoder in XGBClassifier is deprecated and will be removed in a future release. To remove this warning, do the following: 1) Pass option use_label_encoder=False when constructing XGBClassifier object; and 2) Encode your labels (y) as integers starting with 0, i.e. 0, 1, 2, ..., [num_class - 1].\n",
                        "  warnings.warn(label_encoder_deprecation_msg, UserWarning)\n",
                        "/Users/kevin/repos/NBA-Machine-Learning-Sports-Betting/venv/lib/python3.7/site-packages/xgboost/sklearn.py:1146: UserWarning: The use of label encoder in XGBClassifier is deprecated and will be removed in a future release. To remove this warning, do the following: 1) Pass option use_label_encoder=False when constructing XGBClassifier object; and 2) Encode your labels (y) as integers starting with 0, i.e. 0, 1, 2, ..., [num_class - 1].\n",
                        "  warnings.warn(label_encoder_deprecation_msg, UserWarning)\n"
                    ]
                },
                {
                    "output_type": "stream",
                    "name": "stdout",
                    "text": [
                        "[06:30:42] WARNING: /Users/travis/build/dmlc/xgboost/src/learner.cc:1095: Starting in XGBoost 1.3.0, the default evaluation metric used with the objective 'binary:logistic' was changed from 'error' to 'logloss'. Explicitly set eval_metric if you'd like to restore the old behavior.\n"
                    ]
                },
                {
                    "output_type": "stream",
                    "name": "stderr",
                    "text": [
                        "/Users/kevin/repos/NBA-Machine-Learning-Sports-Betting/venv/lib/python3.7/site-packages/xgboost/sklearn.py:1146: UserWarning: The use of label encoder in XGBClassifier is deprecated and will be removed in a future release. To remove this warning, do the following: 1) Pass option use_label_encoder=False when constructing XGBClassifier object; and 2) Encode your labels (y) as integers starting with 0, i.e. 0, 1, 2, ..., [num_class - 1].\n",
                        "  warnings.warn(label_encoder_deprecation_msg, UserWarning)\n"
                    ]
                },
                {
                    "output_type": "stream",
                    "name": "stdout",
                    "text": [
                        "[06:31:02] WARNING: /Users/travis/build/dmlc/xgboost/src/learner.cc:1095: Starting in XGBoost 1.3.0, the default evaluation metric used with the objective 'binary:logistic' was changed from 'error' to 'logloss'. Explicitly set eval_metric if you'd like to restore the old behavior.\n"
                    ]
                },
                {
                    "output_type": "stream",
                    "name": "stderr",
                    "text": [
                        "/Users/kevin/repos/NBA-Machine-Learning-Sports-Betting/venv/lib/python3.7/site-packages/xgboost/sklearn.py:1146: UserWarning: The use of label encoder in XGBClassifier is deprecated and will be removed in a future release. To remove this warning, do the following: 1) Pass option use_label_encoder=False when constructing XGBClassifier object; and 2) Encode your labels (y) as integers starting with 0, i.e. 0, 1, 2, ..., [num_class - 1].\n",
                        "  warnings.warn(label_encoder_deprecation_msg, UserWarning)\n"
                    ]
                },
                {
                    "output_type": "stream",
                    "name": "stdout",
                    "text": [
                        "[06:31:22] WARNING: /Users/travis/build/dmlc/xgboost/src/learner.cc:1095: Starting in XGBoost 1.3.0, the default evaluation metric used with the objective 'binary:logistic' was changed from 'error' to 'logloss'. Explicitly set eval_metric if you'd like to restore the old behavior.\n"
                    ]
                },
                {
                    "output_type": "stream",
                    "name": "stderr",
                    "text": [
                        "/Users/kevin/repos/NBA-Machine-Learning-Sports-Betting/venv/lib/python3.7/site-packages/xgboost/sklearn.py:1146: UserWarning: The use of label encoder in XGBClassifier is deprecated and will be removed in a future release. To remove this warning, do the following: 1) Pass option use_label_encoder=False when constructing XGBClassifier object; and 2) Encode your labels (y) as integers starting with 0, i.e. 0, 1, 2, ..., [num_class - 1].\n",
                        "  warnings.warn(label_encoder_deprecation_msg, UserWarning)\n"
                    ]
                },
                {
                    "output_type": "stream",
                    "name": "stdout",
                    "text": [
                        "[06:31:42] WARNING: /Users/travis/build/dmlc/xgboost/src/learner.cc:1095: Starting in XGBoost 1.3.0, the default evaluation metric used with the objective 'binary:logistic' was changed from 'error' to 'logloss'. Explicitly set eval_metric if you'd like to restore the old behavior.\n",
                        "0.7071269577022022\n",
                        "Iteration No: 4 ended. Evaluation done at random point.\n",
                        "Time taken: 98.8934\n",
                        "Function value obtained: -0.7071\n",
                        "Current minimum: -0.7150\n",
                        "Iteration No: 5 started. Evaluating function at random point.\n",
                        "[0.017249321573179006, 1999, 7, 5.916154429033941, 0.23338144662399002, 0.9299702033681604, 0.8401537692938899]\n",
                        "[06:32:01] WARNING: /Users/travis/build/dmlc/xgboost/src/learner.cc:1095: Starting in XGBoost 1.3.0, the default evaluation metric used with the objective 'binary:logistic' was changed from 'error' to 'logloss'. Explicitly set eval_metric if you'd like to restore the old behavior.\n"
                    ]
                },
                {
                    "output_type": "stream",
                    "name": "stderr",
                    "text": [
                        "/Users/kevin/repos/NBA-Machine-Learning-Sports-Betting/venv/lib/python3.7/site-packages/xgboost/sklearn.py:1146: UserWarning: The use of label encoder in XGBClassifier is deprecated and will be removed in a future release. To remove this warning, do the following: 1) Pass option use_label_encoder=False when constructing XGBClassifier object; and 2) Encode your labels (y) as integers starting with 0, i.e. 0, 1, 2, ..., [num_class - 1].\n",
                        "  warnings.warn(label_encoder_deprecation_msg, UserWarning)\n",
                        "/Users/kevin/repos/NBA-Machine-Learning-Sports-Betting/venv/lib/python3.7/site-packages/xgboost/sklearn.py:1146: UserWarning: The use of label encoder in XGBClassifier is deprecated and will be removed in a future release. To remove this warning, do the following: 1) Pass option use_label_encoder=False when constructing XGBClassifier object; and 2) Encode your labels (y) as integers starting with 0, i.e. 0, 1, 2, ..., [num_class - 1].\n",
                        "  warnings.warn(label_encoder_deprecation_msg, UserWarning)\n"
                    ]
                },
                {
                    "output_type": "stream",
                    "name": "stdout",
                    "text": [
                        "[06:33:18] WARNING: /Users/travis/build/dmlc/xgboost/src/learner.cc:1095: Starting in XGBoost 1.3.0, the default evaluation metric used with the objective 'binary:logistic' was changed from 'error' to 'logloss'. Explicitly set eval_metric if you'd like to restore the old behavior.\n"
                    ]
                },
                {
                    "output_type": "stream",
                    "name": "stderr",
                    "text": [
                        "/Users/kevin/repos/NBA-Machine-Learning-Sports-Betting/venv/lib/python3.7/site-packages/xgboost/sklearn.py:1146: UserWarning: The use of label encoder in XGBClassifier is deprecated and will be removed in a future release. To remove this warning, do the following: 1) Pass option use_label_encoder=False when constructing XGBClassifier object; and 2) Encode your labels (y) as integers starting with 0, i.e. 0, 1, 2, ..., [num_class - 1].\n",
                        "  warnings.warn(label_encoder_deprecation_msg, UserWarning)\n"
                    ]
                },
                {
                    "output_type": "stream",
                    "name": "stdout",
                    "text": [
                        "[06:34:45] WARNING: /Users/travis/build/dmlc/xgboost/src/learner.cc:1095: Starting in XGBoost 1.3.0, the default evaluation metric used with the objective 'binary:logistic' was changed from 'error' to 'logloss'. Explicitly set eval_metric if you'd like to restore the old behavior.\n"
                    ]
                },
                {
                    "output_type": "stream",
                    "name": "stderr",
                    "text": [
                        "/Users/kevin/repos/NBA-Machine-Learning-Sports-Betting/venv/lib/python3.7/site-packages/xgboost/sklearn.py:1146: UserWarning: The use of label encoder in XGBClassifier is deprecated and will be removed in a future release. To remove this warning, do the following: 1) Pass option use_label_encoder=False when constructing XGBClassifier object; and 2) Encode your labels (y) as integers starting with 0, i.e. 0, 1, 2, ..., [num_class - 1].\n",
                        "  warnings.warn(label_encoder_deprecation_msg, UserWarning)\n"
                    ]
                },
                {
                    "output_type": "stream",
                    "name": "stdout",
                    "text": [
                        "[06:36:03] WARNING: /Users/travis/build/dmlc/xgboost/src/learner.cc:1095: Starting in XGBoost 1.3.0, the default evaluation metric used with the objective 'binary:logistic' was changed from 'error' to 'logloss'. Explicitly set eval_metric if you'd like to restore the old behavior.\n"
                    ]
                },
                {
                    "output_type": "stream",
                    "name": "stderr",
                    "text": [
                        "/Users/kevin/repos/NBA-Machine-Learning-Sports-Betting/venv/lib/python3.7/site-packages/xgboost/sklearn.py:1146: UserWarning: The use of label encoder in XGBClassifier is deprecated and will be removed in a future release. To remove this warning, do the following: 1) Pass option use_label_encoder=False when constructing XGBClassifier object; and 2) Encode your labels (y) as integers starting with 0, i.e. 0, 1, 2, ..., [num_class - 1].\n",
                        "  warnings.warn(label_encoder_deprecation_msg, UserWarning)\n"
                    ]
                },
                {
                    "output_type": "stream",
                    "name": "stdout",
                    "text": [
                        "[06:37:21] WARNING: /Users/travis/build/dmlc/xgboost/src/learner.cc:1095: Starting in XGBoost 1.3.0, the default evaluation metric used with the objective 'binary:logistic' was changed from 'error' to 'logloss'. Explicitly set eval_metric if you'd like to restore the old behavior.\n",
                        "0.6967074330191818\n",
                        "Iteration No: 5 ended. Evaluation done at random point.\n",
                        "Time taken: 396.6556\n",
                        "Function value obtained: -0.6967\n",
                        "Current minimum: -0.7150\n",
                        "Iteration No: 6 started. Evaluating function at random point.\n",
                        "[0.007961566078062952, 1397, 4, 5.711008778424264, 0.2816441089227697, 0.692708251269958, 0.5079831261101071]\n",
                        "[06:38:38] WARNING: /Users/travis/build/dmlc/xgboost/src/learner.cc:1095: Starting in XGBoost 1.3.0, the default evaluation metric used with the objective 'binary:logistic' was changed from 'error' to 'logloss'. Explicitly set eval_metric if you'd like to restore the old behavior.\n"
                    ]
                },
                {
                    "output_type": "stream",
                    "name": "stderr",
                    "text": [
                        "/Users/kevin/repos/NBA-Machine-Learning-Sports-Betting/venv/lib/python3.7/site-packages/xgboost/sklearn.py:1146: UserWarning: The use of label encoder in XGBClassifier is deprecated and will be removed in a future release. To remove this warning, do the following: 1) Pass option use_label_encoder=False when constructing XGBClassifier object; and 2) Encode your labels (y) as integers starting with 0, i.e. 0, 1, 2, ..., [num_class - 1].\n",
                        "  warnings.warn(label_encoder_deprecation_msg, UserWarning)\n",
                        "/Users/kevin/repos/NBA-Machine-Learning-Sports-Betting/venv/lib/python3.7/site-packages/xgboost/sklearn.py:1146: UserWarning: The use of label encoder in XGBClassifier is deprecated and will be removed in a future release. To remove this warning, do the following: 1) Pass option use_label_encoder=False when constructing XGBClassifier object; and 2) Encode your labels (y) as integers starting with 0, i.e. 0, 1, 2, ..., [num_class - 1].\n",
                        "  warnings.warn(label_encoder_deprecation_msg, UserWarning)\n"
                    ]
                },
                {
                    "output_type": "stream",
                    "name": "stdout",
                    "text": [
                        "[06:38:55] WARNING: /Users/travis/build/dmlc/xgboost/src/learner.cc:1095: Starting in XGBoost 1.3.0, the default evaluation metric used with the objective 'binary:logistic' was changed from 'error' to 'logloss'. Explicitly set eval_metric if you'd like to restore the old behavior.\n"
                    ]
                },
                {
                    "output_type": "stream",
                    "name": "stderr",
                    "text": [
                        "/Users/kevin/repos/NBA-Machine-Learning-Sports-Betting/venv/lib/python3.7/site-packages/xgboost/sklearn.py:1146: UserWarning: The use of label encoder in XGBClassifier is deprecated and will be removed in a future release. To remove this warning, do the following: 1) Pass option use_label_encoder=False when constructing XGBClassifier object; and 2) Encode your labels (y) as integers starting with 0, i.e. 0, 1, 2, ..., [num_class - 1].\n",
                        "  warnings.warn(label_encoder_deprecation_msg, UserWarning)\n"
                    ]
                },
                {
                    "output_type": "stream",
                    "name": "stdout",
                    "text": [
                        "[06:39:12] WARNING: /Users/travis/build/dmlc/xgboost/src/learner.cc:1095: Starting in XGBoost 1.3.0, the default evaluation metric used with the objective 'binary:logistic' was changed from 'error' to 'logloss'. Explicitly set eval_metric if you'd like to restore the old behavior.\n"
                    ]
                },
                {
                    "output_type": "stream",
                    "name": "stderr",
                    "text": [
                        "/Users/kevin/repos/NBA-Machine-Learning-Sports-Betting/venv/lib/python3.7/site-packages/xgboost/sklearn.py:1146: UserWarning: The use of label encoder in XGBClassifier is deprecated and will be removed in a future release. To remove this warning, do the following: 1) Pass option use_label_encoder=False when constructing XGBClassifier object; and 2) Encode your labels (y) as integers starting with 0, i.e. 0, 1, 2, ..., [num_class - 1].\n",
                        "  warnings.warn(label_encoder_deprecation_msg, UserWarning)\n"
                    ]
                },
                {
                    "output_type": "stream",
                    "name": "stdout",
                    "text": [
                        "[06:39:30] WARNING: /Users/travis/build/dmlc/xgboost/src/learner.cc:1095: Starting in XGBoost 1.3.0, the default evaluation metric used with the objective 'binary:logistic' was changed from 'error' to 'logloss'. Explicitly set eval_metric if you'd like to restore the old behavior.\n"
                    ]
                },
                {
                    "output_type": "stream",
                    "name": "stderr",
                    "text": [
                        "/Users/kevin/repos/NBA-Machine-Learning-Sports-Betting/venv/lib/python3.7/site-packages/xgboost/sklearn.py:1146: UserWarning: The use of label encoder in XGBClassifier is deprecated and will be removed in a future release. To remove this warning, do the following: 1) Pass option use_label_encoder=False when constructing XGBClassifier object; and 2) Encode your labels (y) as integers starting with 0, i.e. 0, 1, 2, ..., [num_class - 1].\n",
                        "  warnings.warn(label_encoder_deprecation_msg, UserWarning)\n"
                    ]
                },
                {
                    "output_type": "stream",
                    "name": "stdout",
                    "text": [
                        "[06:39:47] WARNING: /Users/travis/build/dmlc/xgboost/src/learner.cc:1095: Starting in XGBoost 1.3.0, the default evaluation metric used with the objective 'binary:logistic' was changed from 'error' to 'logloss'. Explicitly set eval_metric if you'd like to restore the old behavior.\n",
                        "0.7152229082073236\n",
                        "Iteration No: 6 ended. Evaluation done at random point.\n",
                        "Time taken: 86.3473\n",
                        "Function value obtained: -0.7152\n",
                        "Current minimum: -0.7152\n",
                        "Iteration No: 7 started. Evaluating function at random point.\n",
                        "[0.002895927274708839, 191, 7, 4.049983288913105, 0.4165974558680823, 0.5866823267538861, 0.6955303037866205]\n",
                        "[06:40:04] WARNING: /Users/travis/build/dmlc/xgboost/src/learner.cc:1095: Starting in XGBoost 1.3.0, the default evaluation metric used with the objective 'binary:logistic' was changed from 'error' to 'logloss'. Explicitly set eval_metric if you'd like to restore the old behavior.\n"
                    ]
                },
                {
                    "output_type": "stream",
                    "name": "stderr",
                    "text": [
                        "/Users/kevin/repos/NBA-Machine-Learning-Sports-Betting/venv/lib/python3.7/site-packages/xgboost/sklearn.py:1146: UserWarning: The use of label encoder in XGBClassifier is deprecated and will be removed in a future release. To remove this warning, do the following: 1) Pass option use_label_encoder=False when constructing XGBClassifier object; and 2) Encode your labels (y) as integers starting with 0, i.e. 0, 1, 2, ..., [num_class - 1].\n",
                        "  warnings.warn(label_encoder_deprecation_msg, UserWarning)\n",
                        "/Users/kevin/repos/NBA-Machine-Learning-Sports-Betting/venv/lib/python3.7/site-packages/xgboost/sklearn.py:1146: UserWarning: The use of label encoder in XGBClassifier is deprecated and will be removed in a future release. To remove this warning, do the following: 1) Pass option use_label_encoder=False when constructing XGBClassifier object; and 2) Encode your labels (y) as integers starting with 0, i.e. 0, 1, 2, ..., [num_class - 1].\n",
                        "  warnings.warn(label_encoder_deprecation_msg, UserWarning)\n"
                    ]
                },
                {
                    "output_type": "stream",
                    "name": "stdout",
                    "text": [
                        "[06:40:09] WARNING: /Users/travis/build/dmlc/xgboost/src/learner.cc:1095: Starting in XGBoost 1.3.0, the default evaluation metric used with the objective 'binary:logistic' was changed from 'error' to 'logloss'. Explicitly set eval_metric if you'd like to restore the old behavior.\n"
                    ]
                },
                {
                    "output_type": "stream",
                    "name": "stderr",
                    "text": [
                        "/Users/kevin/repos/NBA-Machine-Learning-Sports-Betting/venv/lib/python3.7/site-packages/xgboost/sklearn.py:1146: UserWarning: The use of label encoder in XGBClassifier is deprecated and will be removed in a future release. To remove this warning, do the following: 1) Pass option use_label_encoder=False when constructing XGBClassifier object; and 2) Encode your labels (y) as integers starting with 0, i.e. 0, 1, 2, ..., [num_class - 1].\n",
                        "  warnings.warn(label_encoder_deprecation_msg, UserWarning)\n"
                    ]
                },
                {
                    "output_type": "stream",
                    "name": "stdout",
                    "text": [
                        "[06:40:15] WARNING: /Users/travis/build/dmlc/xgboost/src/learner.cc:1095: Starting in XGBoost 1.3.0, the default evaluation metric used with the objective 'binary:logistic' was changed from 'error' to 'logloss'. Explicitly set eval_metric if you'd like to restore the old behavior.\n"
                    ]
                },
                {
                    "output_type": "stream",
                    "name": "stderr",
                    "text": [
                        "/Users/kevin/repos/NBA-Machine-Learning-Sports-Betting/venv/lib/python3.7/site-packages/xgboost/sklearn.py:1146: UserWarning: The use of label encoder in XGBClassifier is deprecated and will be removed in a future release. To remove this warning, do the following: 1) Pass option use_label_encoder=False when constructing XGBClassifier object; and 2) Encode your labels (y) as integers starting with 0, i.e. 0, 1, 2, ..., [num_class - 1].\n",
                        "  warnings.warn(label_encoder_deprecation_msg, UserWarning)\n"
                    ]
                },
                {
                    "output_type": "stream",
                    "name": "stdout",
                    "text": [
                        "[06:40:20] WARNING: /Users/travis/build/dmlc/xgboost/src/learner.cc:1095: Starting in XGBoost 1.3.0, the default evaluation metric used with the objective 'binary:logistic' was changed from 'error' to 'logloss'. Explicitly set eval_metric if you'd like to restore the old behavior.\n"
                    ]
                },
                {
                    "output_type": "stream",
                    "name": "stderr",
                    "text": [
                        "/Users/kevin/repos/NBA-Machine-Learning-Sports-Betting/venv/lib/python3.7/site-packages/xgboost/sklearn.py:1146: UserWarning: The use of label encoder in XGBClassifier is deprecated and will be removed in a future release. To remove this warning, do the following: 1) Pass option use_label_encoder=False when constructing XGBClassifier object; and 2) Encode your labels (y) as integers starting with 0, i.e. 0, 1, 2, ..., [num_class - 1].\n",
                        "  warnings.warn(label_encoder_deprecation_msg, UserWarning)\n"
                    ]
                },
                {
                    "output_type": "stream",
                    "name": "stdout",
                    "text": [
                        "[06:40:25] WARNING: /Users/travis/build/dmlc/xgboost/src/learner.cc:1095: Starting in XGBoost 1.3.0, the default evaluation metric used with the objective 'binary:logistic' was changed from 'error' to 'logloss'. Explicitly set eval_metric if you'd like to restore the old behavior.\n",
                        "0.7154221774213974\n",
                        "Iteration No: 7 ended. Evaluation done at random point.\n",
                        "Time taken: 25.9848\n",
                        "Function value obtained: -0.7154\n",
                        "Current minimum: -0.7154\n",
                        "Iteration No: 8 started. Evaluating function at random point.\n",
                        "[0.0023145798905204883, 1511, 2, 3.1257793724562237, 0.10397083143409444, 0.7838501639099957, 0.5156566462277793]\n",
                        "[06:40:30] WARNING: /Users/travis/build/dmlc/xgboost/src/learner.cc:1095: Starting in XGBoost 1.3.0, the default evaluation metric used with the objective 'binary:logistic' was changed from 'error' to 'logloss'. Explicitly set eval_metric if you'd like to restore the old behavior.\n"
                    ]
                },
                {
                    "output_type": "stream",
                    "name": "stderr",
                    "text": [
                        "/Users/kevin/repos/NBA-Machine-Learning-Sports-Betting/venv/lib/python3.7/site-packages/xgboost/sklearn.py:1146: UserWarning: The use of label encoder in XGBClassifier is deprecated and will be removed in a future release. To remove this warning, do the following: 1) Pass option use_label_encoder=False when constructing XGBClassifier object; and 2) Encode your labels (y) as integers starting with 0, i.e. 0, 1, 2, ..., [num_class - 1].\n",
                        "  warnings.warn(label_encoder_deprecation_msg, UserWarning)\n",
                        "/Users/kevin/repos/NBA-Machine-Learning-Sports-Betting/venv/lib/python3.7/site-packages/xgboost/sklearn.py:1146: UserWarning: The use of label encoder in XGBClassifier is deprecated and will be removed in a future release. To remove this warning, do the following: 1) Pass option use_label_encoder=False when constructing XGBClassifier object; and 2) Encode your labels (y) as integers starting with 0, i.e. 0, 1, 2, ..., [num_class - 1].\n",
                        "  warnings.warn(label_encoder_deprecation_msg, UserWarning)\n"
                    ]
                },
                {
                    "output_type": "stream",
                    "name": "stdout",
                    "text": [
                        "[06:40:41] WARNING: /Users/travis/build/dmlc/xgboost/src/learner.cc:1095: Starting in XGBoost 1.3.0, the default evaluation metric used with the objective 'binary:logistic' was changed from 'error' to 'logloss'. Explicitly set eval_metric if you'd like to restore the old behavior.\n"
                    ]
                },
                {
                    "output_type": "stream",
                    "name": "stderr",
                    "text": [
                        "/Users/kevin/repos/NBA-Machine-Learning-Sports-Betting/venv/lib/python3.7/site-packages/xgboost/sklearn.py:1146: UserWarning: The use of label encoder in XGBClassifier is deprecated and will be removed in a future release. To remove this warning, do the following: 1) Pass option use_label_encoder=False when constructing XGBClassifier object; and 2) Encode your labels (y) as integers starting with 0, i.e. 0, 1, 2, ..., [num_class - 1].\n",
                        "  warnings.warn(label_encoder_deprecation_msg, UserWarning)\n"
                    ]
                },
                {
                    "output_type": "stream",
                    "name": "stdout",
                    "text": [
                        "[06:40:52] WARNING: /Users/travis/build/dmlc/xgboost/src/learner.cc:1095: Starting in XGBoost 1.3.0, the default evaluation metric used with the objective 'binary:logistic' was changed from 'error' to 'logloss'. Explicitly set eval_metric if you'd like to restore the old behavior.\n"
                    ]
                },
                {
                    "output_type": "stream",
                    "name": "stderr",
                    "text": [
                        "/Users/kevin/repos/NBA-Machine-Learning-Sports-Betting/venv/lib/python3.7/site-packages/xgboost/sklearn.py:1146: UserWarning: The use of label encoder in XGBClassifier is deprecated and will be removed in a future release. To remove this warning, do the following: 1) Pass option use_label_encoder=False when constructing XGBClassifier object; and 2) Encode your labels (y) as integers starting with 0, i.e. 0, 1, 2, ..., [num_class - 1].\n",
                        "  warnings.warn(label_encoder_deprecation_msg, UserWarning)\n"
                    ]
                },
                {
                    "output_type": "stream",
                    "name": "stdout",
                    "text": [
                        "[06:41:03] WARNING: /Users/travis/build/dmlc/xgboost/src/learner.cc:1095: Starting in XGBoost 1.3.0, the default evaluation metric used with the objective 'binary:logistic' was changed from 'error' to 'logloss'. Explicitly set eval_metric if you'd like to restore the old behavior.\n"
                    ]
                },
                {
                    "output_type": "stream",
                    "name": "stderr",
                    "text": [
                        "/Users/kevin/repos/NBA-Machine-Learning-Sports-Betting/venv/lib/python3.7/site-packages/xgboost/sklearn.py:1146: UserWarning: The use of label encoder in XGBClassifier is deprecated and will be removed in a future release. To remove this warning, do the following: 1) Pass option use_label_encoder=False when constructing XGBClassifier object; and 2) Encode your labels (y) as integers starting with 0, i.e. 0, 1, 2, ..., [num_class - 1].\n",
                        "  warnings.warn(label_encoder_deprecation_msg, UserWarning)\n"
                    ]
                },
                {
                    "output_type": "stream",
                    "name": "stdout",
                    "text": [
                        "[06:41:14] WARNING: /Users/travis/build/dmlc/xgboost/src/learner.cc:1095: Starting in XGBoost 1.3.0, the default evaluation metric used with the objective 'binary:logistic' was changed from 'error' to 'logloss'. Explicitly set eval_metric if you'd like to restore the old behavior.\n",
                        "0.7171477016978627\n",
                        "Iteration No: 8 ended. Evaluation done at random point.\n",
                        "Time taken: 54.6742\n",
                        "Function value obtained: -0.7171\n",
                        "Current minimum: -0.7171\n",
                        "Iteration No: 9 started. Evaluating function at random point.\n",
                        "[0.04836927180682224, 1679, 2, 2.9757511800090723, 0.4633294328968972, 0.8636359979282104, 0.6632703844029177]\n",
                        "[06:41:25] WARNING: /Users/travis/build/dmlc/xgboost/src/learner.cc:1095: Starting in XGBoost 1.3.0, the default evaluation metric used with the objective 'binary:logistic' was changed from 'error' to 'logloss'. Explicitly set eval_metric if you'd like to restore the old behavior.\n"
                    ]
                },
                {
                    "output_type": "stream",
                    "name": "stderr",
                    "text": [
                        "/Users/kevin/repos/NBA-Machine-Learning-Sports-Betting/venv/lib/python3.7/site-packages/xgboost/sklearn.py:1146: UserWarning: The use of label encoder in XGBClassifier is deprecated and will be removed in a future release. To remove this warning, do the following: 1) Pass option use_label_encoder=False when constructing XGBClassifier object; and 2) Encode your labels (y) as integers starting with 0, i.e. 0, 1, 2, ..., [num_class - 1].\n",
                        "  warnings.warn(label_encoder_deprecation_msg, UserWarning)\n",
                        "/Users/kevin/repos/NBA-Machine-Learning-Sports-Betting/venv/lib/python3.7/site-packages/xgboost/sklearn.py:1146: UserWarning: The use of label encoder in XGBClassifier is deprecated and will be removed in a future release. To remove this warning, do the following: 1) Pass option use_label_encoder=False when constructing XGBClassifier object; and 2) Encode your labels (y) as integers starting with 0, i.e. 0, 1, 2, ..., [num_class - 1].\n",
                        "  warnings.warn(label_encoder_deprecation_msg, UserWarning)\n"
                    ]
                },
                {
                    "output_type": "stream",
                    "name": "stdout",
                    "text": [
                        "[06:41:40] WARNING: /Users/travis/build/dmlc/xgboost/src/learner.cc:1095: Starting in XGBoost 1.3.0, the default evaluation metric used with the objective 'binary:logistic' was changed from 'error' to 'logloss'. Explicitly set eval_metric if you'd like to restore the old behavior.\n"
                    ]
                },
                {
                    "output_type": "stream",
                    "name": "stderr",
                    "text": [
                        "/Users/kevin/repos/NBA-Machine-Learning-Sports-Betting/venv/lib/python3.7/site-packages/xgboost/sklearn.py:1146: UserWarning: The use of label encoder in XGBClassifier is deprecated and will be removed in a future release. To remove this warning, do the following: 1) Pass option use_label_encoder=False when constructing XGBClassifier object; and 2) Encode your labels (y) as integers starting with 0, i.e. 0, 1, 2, ..., [num_class - 1].\n",
                        "  warnings.warn(label_encoder_deprecation_msg, UserWarning)\n"
                    ]
                },
                {
                    "output_type": "stream",
                    "name": "stdout",
                    "text": [
                        "[06:41:55] WARNING: /Users/travis/build/dmlc/xgboost/src/learner.cc:1095: Starting in XGBoost 1.3.0, the default evaluation metric used with the objective 'binary:logistic' was changed from 'error' to 'logloss'. Explicitly set eval_metric if you'd like to restore the old behavior.\n"
                    ]
                },
                {
                    "output_type": "stream",
                    "name": "stderr",
                    "text": [
                        "/Users/kevin/repos/NBA-Machine-Learning-Sports-Betting/venv/lib/python3.7/site-packages/xgboost/sklearn.py:1146: UserWarning: The use of label encoder in XGBClassifier is deprecated and will be removed in a future release. To remove this warning, do the following: 1) Pass option use_label_encoder=False when constructing XGBClassifier object; and 2) Encode your labels (y) as integers starting with 0, i.e. 0, 1, 2, ..., [num_class - 1].\n",
                        "  warnings.warn(label_encoder_deprecation_msg, UserWarning)\n"
                    ]
                },
                {
                    "output_type": "stream",
                    "name": "stdout",
                    "text": [
                        "[06:42:11] WARNING: /Users/travis/build/dmlc/xgboost/src/learner.cc:1095: Starting in XGBoost 1.3.0, the default evaluation metric used with the objective 'binary:logistic' was changed from 'error' to 'logloss'. Explicitly set eval_metric if you'd like to restore the old behavior.\n"
                    ]
                },
                {
                    "output_type": "stream",
                    "name": "stderr",
                    "text": [
                        "/Users/kevin/repos/NBA-Machine-Learning-Sports-Betting/venv/lib/python3.7/site-packages/xgboost/sklearn.py:1146: UserWarning: The use of label encoder in XGBClassifier is deprecated and will be removed in a future release. To remove this warning, do the following: 1) Pass option use_label_encoder=False when constructing XGBClassifier object; and 2) Encode your labels (y) as integers starting with 0, i.e. 0, 1, 2, ..., [num_class - 1].\n",
                        "  warnings.warn(label_encoder_deprecation_msg, UserWarning)\n"
                    ]
                },
                {
                    "output_type": "stream",
                    "name": "stdout",
                    "text": [
                        "[06:42:26] WARNING: /Users/travis/build/dmlc/xgboost/src/learner.cc:1095: Starting in XGBoost 1.3.0, the default evaluation metric used with the objective 'binary:logistic' was changed from 'error' to 'logloss'. Explicitly set eval_metric if you'd like to restore the old behavior.\n",
                        "0.7063972509305506\n",
                        "Iteration No: 9 ended. Evaluation done at random point.\n",
                        "Time taken: 76.0096\n",
                        "Function value obtained: -0.7064\n",
                        "Current minimum: -0.7171\n",
                        "Iteration No: 10 started. Evaluating function at random point.\n",
                        "[0.013832094546570485, 1375, 9, 5.805860121746746, 0.4222669243390758, 0.8736600550686905, 0.7698460661945399]\n",
                        "[06:42:41] WARNING: /Users/travis/build/dmlc/xgboost/src/learner.cc:1095: Starting in XGBoost 1.3.0, the default evaluation metric used with the objective 'binary:logistic' was changed from 'error' to 'logloss'. Explicitly set eval_metric if you'd like to restore the old behavior.\n"
                    ]
                },
                {
                    "output_type": "stream",
                    "name": "stderr",
                    "text": [
                        "/Users/kevin/repos/NBA-Machine-Learning-Sports-Betting/venv/lib/python3.7/site-packages/xgboost/sklearn.py:1146: UserWarning: The use of label encoder in XGBClassifier is deprecated and will be removed in a future release. To remove this warning, do the following: 1) Pass option use_label_encoder=False when constructing XGBClassifier object; and 2) Encode your labels (y) as integers starting with 0, i.e. 0, 1, 2, ..., [num_class - 1].\n",
                        "  warnings.warn(label_encoder_deprecation_msg, UserWarning)\n",
                        "/Users/kevin/repos/NBA-Machine-Learning-Sports-Betting/venv/lib/python3.7/site-packages/xgboost/sklearn.py:1146: UserWarning: The use of label encoder in XGBClassifier is deprecated and will be removed in a future release. To remove this warning, do the following: 1) Pass option use_label_encoder=False when constructing XGBClassifier object; and 2) Encode your labels (y) as integers starting with 0, i.e. 0, 1, 2, ..., [num_class - 1].\n",
                        "  warnings.warn(label_encoder_deprecation_msg, UserWarning)\n"
                    ]
                },
                {
                    "output_type": "stream",
                    "name": "stdout",
                    "text": [
                        "[06:43:39] WARNING: /Users/travis/build/dmlc/xgboost/src/learner.cc:1095: Starting in XGBoost 1.3.0, the default evaluation metric used with the objective 'binary:logistic' was changed from 'error' to 'logloss'. Explicitly set eval_metric if you'd like to restore the old behavior.\n"
                    ]
                },
                {
                    "output_type": "stream",
                    "name": "stderr",
                    "text": [
                        "/Users/kevin/repos/NBA-Machine-Learning-Sports-Betting/venv/lib/python3.7/site-packages/xgboost/sklearn.py:1146: UserWarning: The use of label encoder in XGBClassifier is deprecated and will be removed in a future release. To remove this warning, do the following: 1) Pass option use_label_encoder=False when constructing XGBClassifier object; and 2) Encode your labels (y) as integers starting with 0, i.e. 0, 1, 2, ..., [num_class - 1].\n",
                        "  warnings.warn(label_encoder_deprecation_msg, UserWarning)\n"
                    ]
                },
                {
                    "output_type": "stream",
                    "name": "stdout",
                    "text": [
                        "[06:44:38] WARNING: /Users/travis/build/dmlc/xgboost/src/learner.cc:1095: Starting in XGBoost 1.3.0, the default evaluation metric used with the objective 'binary:logistic' was changed from 'error' to 'logloss'. Explicitly set eval_metric if you'd like to restore the old behavior.\n"
                    ]
                },
                {
                    "output_type": "stream",
                    "name": "stderr",
                    "text": [
                        "/Users/kevin/repos/NBA-Machine-Learning-Sports-Betting/venv/lib/python3.7/site-packages/xgboost/sklearn.py:1146: UserWarning: The use of label encoder in XGBClassifier is deprecated and will be removed in a future release. To remove this warning, do the following: 1) Pass option use_label_encoder=False when constructing XGBClassifier object; and 2) Encode your labels (y) as integers starting with 0, i.e. 0, 1, 2, ..., [num_class - 1].\n",
                        "  warnings.warn(label_encoder_deprecation_msg, UserWarning)\n"
                    ]
                },
                {
                    "output_type": "stream",
                    "name": "stdout",
                    "text": [
                        "[06:45:37] WARNING: /Users/travis/build/dmlc/xgboost/src/learner.cc:1095: Starting in XGBoost 1.3.0, the default evaluation metric used with the objective 'binary:logistic' was changed from 'error' to 'logloss'. Explicitly set eval_metric if you'd like to restore the old behavior.\n"
                    ]
                },
                {
                    "output_type": "stream",
                    "name": "stderr",
                    "text": [
                        "/Users/kevin/repos/NBA-Machine-Learning-Sports-Betting/venv/lib/python3.7/site-packages/xgboost/sklearn.py:1146: UserWarning: The use of label encoder in XGBClassifier is deprecated and will be removed in a future release. To remove this warning, do the following: 1) Pass option use_label_encoder=False when constructing XGBClassifier object; and 2) Encode your labels (y) as integers starting with 0, i.e. 0, 1, 2, ..., [num_class - 1].\n",
                        "  warnings.warn(label_encoder_deprecation_msg, UserWarning)\n"
                    ]
                },
                {
                    "output_type": "stream",
                    "name": "stdout",
                    "text": [
                        "[06:46:35] WARNING: /Users/travis/build/dmlc/xgboost/src/learner.cc:1095: Starting in XGBoost 1.3.0, the default evaluation metric used with the objective 'binary:logistic' was changed from 'error' to 'logloss'. Explicitly set eval_metric if you'd like to restore the old behavior.\n",
                        "0.7012866166540875\n",
                        "Iteration No: 10 ended. Evaluation done at random point.\n",
                        "Time taken: 292.7788\n",
                        "Function value obtained: -0.7013\n",
                        "Current minimum: -0.7171\n",
                        "Iteration No: 11 started. Evaluating function at random point.\n",
                        "[0.014910847596941088, 316, 9, 2.481367528520412, 0.08263346953150126, 0.507818203370597, 0.7117007403531849]\n",
                        "[06:47:34] WARNING: /Users/travis/build/dmlc/xgboost/src/learner.cc:1095: Starting in XGBoost 1.3.0, the default evaluation metric used with the objective 'binary:logistic' was changed from 'error' to 'logloss'. Explicitly set eval_metric if you'd like to restore the old behavior.\n"
                    ]
                },
                {
                    "output_type": "stream",
                    "name": "stderr",
                    "text": [
                        "/Users/kevin/repos/NBA-Machine-Learning-Sports-Betting/venv/lib/python3.7/site-packages/xgboost/sklearn.py:1146: UserWarning: The use of label encoder in XGBClassifier is deprecated and will be removed in a future release. To remove this warning, do the following: 1) Pass option use_label_encoder=False when constructing XGBClassifier object; and 2) Encode your labels (y) as integers starting with 0, i.e. 0, 1, 2, ..., [num_class - 1].\n",
                        "  warnings.warn(label_encoder_deprecation_msg, UserWarning)\n",
                        "/Users/kevin/repos/NBA-Machine-Learning-Sports-Betting/venv/lib/python3.7/site-packages/xgboost/sklearn.py:1146: UserWarning: The use of label encoder in XGBClassifier is deprecated and will be removed in a future release. To remove this warning, do the following: 1) Pass option use_label_encoder=False when constructing XGBClassifier object; and 2) Encode your labels (y) as integers starting with 0, i.e. 0, 1, 2, ..., [num_class - 1].\n",
                        "  warnings.warn(label_encoder_deprecation_msg, UserWarning)\n"
                    ]
                },
                {
                    "output_type": "stream",
                    "name": "stdout",
                    "text": [
                        "[06:47:44] WARNING: /Users/travis/build/dmlc/xgboost/src/learner.cc:1095: Starting in XGBoost 1.3.0, the default evaluation metric used with the objective 'binary:logistic' was changed from 'error' to 'logloss'. Explicitly set eval_metric if you'd like to restore the old behavior.\n"
                    ]
                },
                {
                    "output_type": "stream",
                    "name": "stderr",
                    "text": [
                        "/Users/kevin/repos/NBA-Machine-Learning-Sports-Betting/venv/lib/python3.7/site-packages/xgboost/sklearn.py:1146: UserWarning: The use of label encoder in XGBClassifier is deprecated and will be removed in a future release. To remove this warning, do the following: 1) Pass option use_label_encoder=False when constructing XGBClassifier object; and 2) Encode your labels (y) as integers starting with 0, i.e. 0, 1, 2, ..., [num_class - 1].\n",
                        "  warnings.warn(label_encoder_deprecation_msg, UserWarning)\n"
                    ]
                },
                {
                    "output_type": "stream",
                    "name": "stdout",
                    "text": [
                        "[06:47:53] WARNING: /Users/travis/build/dmlc/xgboost/src/learner.cc:1095: Starting in XGBoost 1.3.0, the default evaluation metric used with the objective 'binary:logistic' was changed from 'error' to 'logloss'. Explicitly set eval_metric if you'd like to restore the old behavior.\n"
                    ]
                },
                {
                    "output_type": "stream",
                    "name": "stderr",
                    "text": [
                        "/Users/kevin/repos/NBA-Machine-Learning-Sports-Betting/venv/lib/python3.7/site-packages/xgboost/sklearn.py:1146: UserWarning: The use of label encoder in XGBClassifier is deprecated and will be removed in a future release. To remove this warning, do the following: 1) Pass option use_label_encoder=False when constructing XGBClassifier object; and 2) Encode your labels (y) as integers starting with 0, i.e. 0, 1, 2, ..., [num_class - 1].\n",
                        "  warnings.warn(label_encoder_deprecation_msg, UserWarning)\n"
                    ]
                },
                {
                    "output_type": "stream",
                    "name": "stdout",
                    "text": [
                        "[06:48:03] WARNING: /Users/travis/build/dmlc/xgboost/src/learner.cc:1095: Starting in XGBoost 1.3.0, the default evaluation metric used with the objective 'binary:logistic' was changed from 'error' to 'logloss'. Explicitly set eval_metric if you'd like to restore the old behavior.\n"
                    ]
                },
                {
                    "output_type": "stream",
                    "name": "stderr",
                    "text": [
                        "/Users/kevin/repos/NBA-Machine-Learning-Sports-Betting/venv/lib/python3.7/site-packages/xgboost/sklearn.py:1146: UserWarning: The use of label encoder in XGBClassifier is deprecated and will be removed in a future release. To remove this warning, do the following: 1) Pass option use_label_encoder=False when constructing XGBClassifier object; and 2) Encode your labels (y) as integers starting with 0, i.e. 0, 1, 2, ..., [num_class - 1].\n",
                        "  warnings.warn(label_encoder_deprecation_msg, UserWarning)\n"
                    ]
                },
                {
                    "output_type": "stream",
                    "name": "stdout",
                    "text": [
                        "[06:48:13] WARNING: /Users/travis/build/dmlc/xgboost/src/learner.cc:1095: Starting in XGBoost 1.3.0, the default evaluation metric used with the objective 'binary:logistic' was changed from 'error' to 'logloss'. Explicitly set eval_metric if you'd like to restore the old behavior.\n",
                        "0.7108430598571861\n",
                        "Iteration No: 11 ended. Evaluation done at random point.\n",
                        "Time taken: 48.9890\n",
                        "Function value obtained: -0.7108\n",
                        "Current minimum: -0.7171\n",
                        "Iteration No: 12 started. Evaluating function at random point.\n",
                        "[0.006162586615353729, 747, 8, 1.0703991135754223, 0.0994212020444026, 0.8556709763743251, 0.8950877702656029]\n",
                        "[06:48:23] WARNING: /Users/travis/build/dmlc/xgboost/src/learner.cc:1095: Starting in XGBoost 1.3.0, the default evaluation metric used with the objective 'binary:logistic' was changed from 'error' to 'logloss'. Explicitly set eval_metric if you'd like to restore the old behavior.\n"
                    ]
                },
                {
                    "output_type": "stream",
                    "name": "stderr",
                    "text": [
                        "/Users/kevin/repos/NBA-Machine-Learning-Sports-Betting/venv/lib/python3.7/site-packages/xgboost/sklearn.py:1146: UserWarning: The use of label encoder in XGBClassifier is deprecated and will be removed in a future release. To remove this warning, do the following: 1) Pass option use_label_encoder=False when constructing XGBClassifier object; and 2) Encode your labels (y) as integers starting with 0, i.e. 0, 1, 2, ..., [num_class - 1].\n",
                        "  warnings.warn(label_encoder_deprecation_msg, UserWarning)\n",
                        "/Users/kevin/repos/NBA-Machine-Learning-Sports-Betting/venv/lib/python3.7/site-packages/xgboost/sklearn.py:1146: UserWarning: The use of label encoder in XGBClassifier is deprecated and will be removed in a future release. To remove this warning, do the following: 1) Pass option use_label_encoder=False when constructing XGBClassifier object; and 2) Encode your labels (y) as integers starting with 0, i.e. 0, 1, 2, ..., [num_class - 1].\n",
                        "  warnings.warn(label_encoder_deprecation_msg, UserWarning)\n"
                    ]
                },
                {
                    "output_type": "stream",
                    "name": "stdout",
                    "text": [
                        "[06:48:58] WARNING: /Users/travis/build/dmlc/xgboost/src/learner.cc:1095: Starting in XGBoost 1.3.0, the default evaluation metric used with the objective 'binary:logistic' was changed from 'error' to 'logloss'. Explicitly set eval_metric if you'd like to restore the old behavior.\n"
                    ]
                },
                {
                    "output_type": "stream",
                    "name": "stderr",
                    "text": [
                        "/Users/kevin/repos/NBA-Machine-Learning-Sports-Betting/venv/lib/python3.7/site-packages/xgboost/sklearn.py:1146: UserWarning: The use of label encoder in XGBClassifier is deprecated and will be removed in a future release. To remove this warning, do the following: 1) Pass option use_label_encoder=False when constructing XGBClassifier object; and 2) Encode your labels (y) as integers starting with 0, i.e. 0, 1, 2, ..., [num_class - 1].\n",
                        "  warnings.warn(label_encoder_deprecation_msg, UserWarning)\n"
                    ]
                },
                {
                    "output_type": "stream",
                    "name": "stdout",
                    "text": [
                        "[06:49:33] WARNING: /Users/travis/build/dmlc/xgboost/src/learner.cc:1095: Starting in XGBoost 1.3.0, the default evaluation metric used with the objective 'binary:logistic' was changed from 'error' to 'logloss'. Explicitly set eval_metric if you'd like to restore the old behavior.\n"
                    ]
                },
                {
                    "output_type": "stream",
                    "name": "stderr",
                    "text": [
                        "/Users/kevin/repos/NBA-Machine-Learning-Sports-Betting/venv/lib/python3.7/site-packages/xgboost/sklearn.py:1146: UserWarning: The use of label encoder in XGBClassifier is deprecated and will be removed in a future release. To remove this warning, do the following: 1) Pass option use_label_encoder=False when constructing XGBClassifier object; and 2) Encode your labels (y) as integers starting with 0, i.e. 0, 1, 2, ..., [num_class - 1].\n",
                        "  warnings.warn(label_encoder_deprecation_msg, UserWarning)\n"
                    ]
                },
                {
                    "output_type": "stream",
                    "name": "stdout",
                    "text": [
                        "[06:50:09] WARNING: /Users/travis/build/dmlc/xgboost/src/learner.cc:1095: Starting in XGBoost 1.3.0, the default evaluation metric used with the objective 'binary:logistic' was changed from 'error' to 'logloss'. Explicitly set eval_metric if you'd like to restore the old behavior.\n"
                    ]
                },
                {
                    "output_type": "stream",
                    "name": "stderr",
                    "text": [
                        "/Users/kevin/repos/NBA-Machine-Learning-Sports-Betting/venv/lib/python3.7/site-packages/xgboost/sklearn.py:1146: UserWarning: The use of label encoder in XGBClassifier is deprecated and will be removed in a future release. To remove this warning, do the following: 1) Pass option use_label_encoder=False when constructing XGBClassifier object; and 2) Encode your labels (y) as integers starting with 0, i.e. 0, 1, 2, ..., [num_class - 1].\n",
                        "  warnings.warn(label_encoder_deprecation_msg, UserWarning)\n"
                    ]
                },
                {
                    "output_type": "stream",
                    "name": "stdout",
                    "text": [
                        "[06:50:44] WARNING: /Users/travis/build/dmlc/xgboost/src/learner.cc:1095: Starting in XGBoost 1.3.0, the default evaluation metric used with the objective 'binary:logistic' was changed from 'error' to 'logloss'. Explicitly set eval_metric if you'd like to restore the old behavior.\n",
                        "0.7103787810881887\n",
                        "Iteration No: 12 ended. Evaluation done at random point.\n",
                        "Time taken: 176.1527\n",
                        "Function value obtained: -0.7104\n",
                        "Current minimum: -0.7171\n",
                        "Iteration No: 13 started. Evaluating function at random point.\n",
                        "[0.016289957436723502, 1613, 7, 4.255385127509722, 0.4574798377718905, 0.9250192888948998, 0.7247253370691018]\n",
                        "[06:51:19] WARNING: /Users/travis/build/dmlc/xgboost/src/learner.cc:1095: Starting in XGBoost 1.3.0, the default evaluation metric used with the objective 'binary:logistic' was changed from 'error' to 'logloss'. Explicitly set eval_metric if you'd like to restore the old behavior.\n"
                    ]
                },
                {
                    "output_type": "stream",
                    "name": "stderr",
                    "text": [
                        "/Users/kevin/repos/NBA-Machine-Learning-Sports-Betting/venv/lib/python3.7/site-packages/xgboost/sklearn.py:1146: UserWarning: The use of label encoder in XGBClassifier is deprecated and will be removed in a future release. To remove this warning, do the following: 1) Pass option use_label_encoder=False when constructing XGBClassifier object; and 2) Encode your labels (y) as integers starting with 0, i.e. 0, 1, 2, ..., [num_class - 1].\n",
                        "  warnings.warn(label_encoder_deprecation_msg, UserWarning)\n",
                        "/Users/kevin/repos/NBA-Machine-Learning-Sports-Betting/venv/lib/python3.7/site-packages/xgboost/sklearn.py:1146: UserWarning: The use of label encoder in XGBClassifier is deprecated and will be removed in a future release. To remove this warning, do the following: 1) Pass option use_label_encoder=False when constructing XGBClassifier object; and 2) Encode your labels (y) as integers starting with 0, i.e. 0, 1, 2, ..., [num_class - 1].\n",
                        "  warnings.warn(label_encoder_deprecation_msg, UserWarning)\n"
                    ]
                },
                {
                    "output_type": "stream",
                    "name": "stdout",
                    "text": [
                        "[06:52:14] WARNING: /Users/travis/build/dmlc/xgboost/src/learner.cc:1095: Starting in XGBoost 1.3.0, the default evaluation metric used with the objective 'binary:logistic' was changed from 'error' to 'logloss'. Explicitly set eval_metric if you'd like to restore the old behavior.\n"
                    ]
                },
                {
                    "output_type": "stream",
                    "name": "stderr",
                    "text": [
                        "/Users/kevin/repos/NBA-Machine-Learning-Sports-Betting/venv/lib/python3.7/site-packages/xgboost/sklearn.py:1146: UserWarning: The use of label encoder in XGBClassifier is deprecated and will be removed in a future release. To remove this warning, do the following: 1) Pass option use_label_encoder=False when constructing XGBClassifier object; and 2) Encode your labels (y) as integers starting with 0, i.e. 0, 1, 2, ..., [num_class - 1].\n",
                        "  warnings.warn(label_encoder_deprecation_msg, UserWarning)\n"
                    ]
                },
                {
                    "output_type": "stream",
                    "name": "stdout",
                    "text": [
                        "[06:53:10] WARNING: /Users/travis/build/dmlc/xgboost/src/learner.cc:1095: Starting in XGBoost 1.3.0, the default evaluation metric used with the objective 'binary:logistic' was changed from 'error' to 'logloss'. Explicitly set eval_metric if you'd like to restore the old behavior.\n"
                    ]
                },
                {
                    "output_type": "stream",
                    "name": "stderr",
                    "text": [
                        "/Users/kevin/repos/NBA-Machine-Learning-Sports-Betting/venv/lib/python3.7/site-packages/xgboost/sklearn.py:1146: UserWarning: The use of label encoder in XGBClassifier is deprecated and will be removed in a future release. To remove this warning, do the following: 1) Pass option use_label_encoder=False when constructing XGBClassifier object; and 2) Encode your labels (y) as integers starting with 0, i.e. 0, 1, 2, ..., [num_class - 1].\n",
                        "  warnings.warn(label_encoder_deprecation_msg, UserWarning)\n"
                    ]
                },
                {
                    "output_type": "stream",
                    "name": "stdout",
                    "text": [
                        "[06:54:05] WARNING: /Users/travis/build/dmlc/xgboost/src/learner.cc:1095: Starting in XGBoost 1.3.0, the default evaluation metric used with the objective 'binary:logistic' was changed from 'error' to 'logloss'. Explicitly set eval_metric if you'd like to restore the old behavior.\n"
                    ]
                },
                {
                    "output_type": "stream",
                    "name": "stderr",
                    "text": [
                        "/Users/kevin/repos/NBA-Machine-Learning-Sports-Betting/venv/lib/python3.7/site-packages/xgboost/sklearn.py:1146: UserWarning: The use of label encoder in XGBClassifier is deprecated and will be removed in a future release. To remove this warning, do the following: 1) Pass option use_label_encoder=False when constructing XGBClassifier object; and 2) Encode your labels (y) as integers starting with 0, i.e. 0, 1, 2, ..., [num_class - 1].\n",
                        "  warnings.warn(label_encoder_deprecation_msg, UserWarning)\n"
                    ]
                },
                {
                    "output_type": "stream",
                    "name": "stdout",
                    "text": [
                        "[06:55:01] WARNING: /Users/travis/build/dmlc/xgboost/src/learner.cc:1095: Starting in XGBoost 1.3.0, the default evaluation metric used with the objective 'binary:logistic' was changed from 'error' to 'logloss'. Explicitly set eval_metric if you'd like to restore the old behavior.\n",
                        "0.7011541669355377\n",
                        "Iteration No: 13 ended. Evaluation done at random point.\n",
                        "Time taken: 280.7118\n",
                        "Function value obtained: -0.7012\n",
                        "Current minimum: -0.7171\n",
                        "Iteration No: 14 started. Evaluating function at random point.\n",
                        "[0.0015517445651473882, 602, 7, 4.344206263318037, 0.3329611783087484, 0.7956488938538636, 0.6373608964950321]\n",
                        "[06:56:00] WARNING: /Users/travis/build/dmlc/xgboost/src/learner.cc:1095: Starting in XGBoost 1.3.0, the default evaluation metric used with the objective 'binary:logistic' was changed from 'error' to 'logloss'. Explicitly set eval_metric if you'd like to restore the old behavior.\n"
                    ]
                },
                {
                    "output_type": "stream",
                    "name": "stderr",
                    "text": [
                        "/Users/kevin/repos/NBA-Machine-Learning-Sports-Betting/venv/lib/python3.7/site-packages/xgboost/sklearn.py:1146: UserWarning: The use of label encoder in XGBClassifier is deprecated and will be removed in a future release. To remove this warning, do the following: 1) Pass option use_label_encoder=False when constructing XGBClassifier object; and 2) Encode your labels (y) as integers starting with 0, i.e. 0, 1, 2, ..., [num_class - 1].\n",
                        "  warnings.warn(label_encoder_deprecation_msg, UserWarning)\n",
                        "/Users/kevin/repos/NBA-Machine-Learning-Sports-Betting/venv/lib/python3.7/site-packages/xgboost/sklearn.py:1146: UserWarning: The use of label encoder in XGBClassifier is deprecated and will be removed in a future release. To remove this warning, do the following: 1) Pass option use_label_encoder=False when constructing XGBClassifier object; and 2) Encode your labels (y) as integers starting with 0, i.e. 0, 1, 2, ..., [num_class - 1].\n",
                        "  warnings.warn(label_encoder_deprecation_msg, UserWarning)\n"
                    ]
                },
                {
                    "output_type": "stream",
                    "name": "stdout",
                    "text": [
                        "[06:56:20] WARNING: /Users/travis/build/dmlc/xgboost/src/learner.cc:1095: Starting in XGBoost 1.3.0, the default evaluation metric used with the objective 'binary:logistic' was changed from 'error' to 'logloss'. Explicitly set eval_metric if you'd like to restore the old behavior.\n"
                    ]
                },
                {
                    "output_type": "stream",
                    "name": "stderr",
                    "text": [
                        "/Users/kevin/repos/NBA-Machine-Learning-Sports-Betting/venv/lib/python3.7/site-packages/xgboost/sklearn.py:1146: UserWarning: The use of label encoder in XGBClassifier is deprecated and will be removed in a future release. To remove this warning, do the following: 1) Pass option use_label_encoder=False when constructing XGBClassifier object; and 2) Encode your labels (y) as integers starting with 0, i.e. 0, 1, 2, ..., [num_class - 1].\n",
                        "  warnings.warn(label_encoder_deprecation_msg, UserWarning)\n"
                    ]
                },
                {
                    "output_type": "stream",
                    "name": "stdout",
                    "text": [
                        "[06:56:40] WARNING: /Users/travis/build/dmlc/xgboost/src/learner.cc:1095: Starting in XGBoost 1.3.0, the default evaluation metric used with the objective 'binary:logistic' was changed from 'error' to 'logloss'. Explicitly set eval_metric if you'd like to restore the old behavior.\n"
                    ]
                },
                {
                    "output_type": "stream",
                    "name": "stderr",
                    "text": [
                        "/Users/kevin/repos/NBA-Machine-Learning-Sports-Betting/venv/lib/python3.7/site-packages/xgboost/sklearn.py:1146: UserWarning: The use of label encoder in XGBClassifier is deprecated and will be removed in a future release. To remove this warning, do the following: 1) Pass option use_label_encoder=False when constructing XGBClassifier object; and 2) Encode your labels (y) as integers starting with 0, i.e. 0, 1, 2, ..., [num_class - 1].\n",
                        "  warnings.warn(label_encoder_deprecation_msg, UserWarning)\n"
                    ]
                },
                {
                    "output_type": "stream",
                    "name": "stdout",
                    "text": [
                        "[06:57:00] WARNING: /Users/travis/build/dmlc/xgboost/src/learner.cc:1095: Starting in XGBoost 1.3.0, the default evaluation metric used with the objective 'binary:logistic' was changed from 'error' to 'logloss'. Explicitly set eval_metric if you'd like to restore the old behavior.\n"
                    ]
                },
                {
                    "output_type": "stream",
                    "name": "stderr",
                    "text": [
                        "/Users/kevin/repos/NBA-Machine-Learning-Sports-Betting/venv/lib/python3.7/site-packages/xgboost/sklearn.py:1146: UserWarning: The use of label encoder in XGBClassifier is deprecated and will be removed in a future release. To remove this warning, do the following: 1) Pass option use_label_encoder=False when constructing XGBClassifier object; and 2) Encode your labels (y) as integers starting with 0, i.e. 0, 1, 2, ..., [num_class - 1].\n",
                        "  warnings.warn(label_encoder_deprecation_msg, UserWarning)\n"
                    ]
                },
                {
                    "output_type": "stream",
                    "name": "stdout",
                    "text": [
                        "[06:57:20] WARNING: /Users/travis/build/dmlc/xgboost/src/learner.cc:1095: Starting in XGBoost 1.3.0, the default evaluation metric used with the objective 'binary:logistic' was changed from 'error' to 'logloss'. Explicitly set eval_metric if you'd like to restore the old behavior.\n",
                        "0.7142941965043758\n",
                        "Iteration No: 14 ended. Evaluation done at random point.\n",
                        "Time taken: 99.0407\n",
                        "Function value obtained: -0.7143\n",
                        "Current minimum: -0.7171\n",
                        "Iteration No: 15 started. Evaluating function at random point.\n",
                        "[0.013258269776216493, 1862, 5, 5.858560476945519, 0.42445691213304204, 0.8608647605824367, 0.6179924598744779]\n",
                        "[06:57:39] WARNING: /Users/travis/build/dmlc/xgboost/src/learner.cc:1095: Starting in XGBoost 1.3.0, the default evaluation metric used with the objective 'binary:logistic' was changed from 'error' to 'logloss'. Explicitly set eval_metric if you'd like to restore the old behavior.\n"
                    ]
                },
                {
                    "output_type": "stream",
                    "name": "stderr",
                    "text": [
                        "/Users/kevin/repos/NBA-Machine-Learning-Sports-Betting/venv/lib/python3.7/site-packages/xgboost/sklearn.py:1146: UserWarning: The use of label encoder in XGBClassifier is deprecated and will be removed in a future release. To remove this warning, do the following: 1) Pass option use_label_encoder=False when constructing XGBClassifier object; and 2) Encode your labels (y) as integers starting with 0, i.e. 0, 1, 2, ..., [num_class - 1].\n",
                        "  warnings.warn(label_encoder_deprecation_msg, UserWarning)\n",
                        "/Users/kevin/repos/NBA-Machine-Learning-Sports-Betting/venv/lib/python3.7/site-packages/xgboost/sklearn.py:1146: UserWarning: The use of label encoder in XGBClassifier is deprecated and will be removed in a future release. To remove this warning, do the following: 1) Pass option use_label_encoder=False when constructing XGBClassifier object; and 2) Encode your labels (y) as integers starting with 0, i.e. 0, 1, 2, ..., [num_class - 1].\n",
                        "  warnings.warn(label_encoder_deprecation_msg, UserWarning)\n"
                    ]
                },
                {
                    "output_type": "stream",
                    "name": "stdout",
                    "text": [
                        "[06:58:17] WARNING: /Users/travis/build/dmlc/xgboost/src/learner.cc:1095: Starting in XGBoost 1.3.0, the default evaluation metric used with the objective 'binary:logistic' was changed from 'error' to 'logloss'. Explicitly set eval_metric if you'd like to restore the old behavior.\n"
                    ]
                },
                {
                    "output_type": "stream",
                    "name": "stderr",
                    "text": [
                        "/Users/kevin/repos/NBA-Machine-Learning-Sports-Betting/venv/lib/python3.7/site-packages/xgboost/sklearn.py:1146: UserWarning: The use of label encoder in XGBClassifier is deprecated and will be removed in a future release. To remove this warning, do the following: 1) Pass option use_label_encoder=False when constructing XGBClassifier object; and 2) Encode your labels (y) as integers starting with 0, i.e. 0, 1, 2, ..., [num_class - 1].\n",
                        "  warnings.warn(label_encoder_deprecation_msg, UserWarning)\n"
                    ]
                },
                {
                    "output_type": "stream",
                    "name": "stdout",
                    "text": [
                        "[06:58:58] WARNING: /Users/travis/build/dmlc/xgboost/src/learner.cc:1095: Starting in XGBoost 1.3.0, the default evaluation metric used with the objective 'binary:logistic' was changed from 'error' to 'logloss'. Explicitly set eval_metric if you'd like to restore the old behavior.\n"
                    ]
                },
                {
                    "output_type": "stream",
                    "name": "stderr",
                    "text": [
                        "/Users/kevin/repos/NBA-Machine-Learning-Sports-Betting/venv/lib/python3.7/site-packages/xgboost/sklearn.py:1146: UserWarning: The use of label encoder in XGBClassifier is deprecated and will be removed in a future release. To remove this warning, do the following: 1) Pass option use_label_encoder=False when constructing XGBClassifier object; and 2) Encode your labels (y) as integers starting with 0, i.e. 0, 1, 2, ..., [num_class - 1].\n",
                        "  warnings.warn(label_encoder_deprecation_msg, UserWarning)\n"
                    ]
                },
                {
                    "output_type": "stream",
                    "name": "stdout",
                    "text": [
                        "[07:32:44] WARNING: /Users/travis/build/dmlc/xgboost/src/learner.cc:1095: Starting in XGBoost 1.3.0, the default evaluation metric used with the objective 'binary:logistic' was changed from 'error' to 'logloss'. Explicitly set eval_metric if you'd like to restore the old behavior.\n"
                    ]
                },
                {
                    "output_type": "stream",
                    "name": "stderr",
                    "text": [
                        "/Users/kevin/repos/NBA-Machine-Learning-Sports-Betting/venv/lib/python3.7/site-packages/xgboost/sklearn.py:1146: UserWarning: The use of label encoder in XGBClassifier is deprecated and will be removed in a future release. To remove this warning, do the following: 1) Pass option use_label_encoder=False when constructing XGBClassifier object; and 2) Encode your labels (y) as integers starting with 0, i.e. 0, 1, 2, ..., [num_class - 1].\n",
                        "  warnings.warn(label_encoder_deprecation_msg, UserWarning)\n"
                    ]
                },
                {
                    "output_type": "stream",
                    "name": "stdout",
                    "text": [
                        "[07:45:46] WARNING: /Users/travis/build/dmlc/xgboost/src/learner.cc:1095: Starting in XGBoost 1.3.0, the default evaluation metric used with the objective 'binary:logistic' was changed from 'error' to 'logloss'. Explicitly set eval_metric if you'd like to restore the old behavior.\n",
                        "0.701286572606958\n",
                        "Iteration No: 15 ended. Evaluation done at random point.\n",
                        "Time taken: 5790.7340\n",
                        "Function value obtained: -0.7013\n",
                        "Current minimum: -0.7171\n",
                        "Iteration No: 16 started. Evaluating function at random point.\n",
                        "[0.003251895982771604, 894, 9, 4.553314448428937, 0.05544541040591568, 0.7196682509328851, 0.6008596011676981]\n"
                    ]
                },
                {
                    "output_type": "stream",
                    "name": "stderr",
                    "text": [
                        "/Users/kevin/repos/NBA-Machine-Learning-Sports-Betting/venv/lib/python3.7/site-packages/xgboost/sklearn.py:1146: UserWarning: The use of label encoder in XGBClassifier is deprecated and will be removed in a future release. To remove this warning, do the following: 1) Pass option use_label_encoder=False when constructing XGBClassifier object; and 2) Encode your labels (y) as integers starting with 0, i.e. 0, 1, 2, ..., [num_class - 1].\n",
                        "  warnings.warn(label_encoder_deprecation_msg, UserWarning)\n"
                    ]
                },
                {
                    "output_type": "stream",
                    "name": "stdout",
                    "text": [
                        "[08:34:10] WARNING: /Users/travis/build/dmlc/xgboost/src/learner.cc:1095: Starting in XGBoost 1.3.0, the default evaluation metric used with the objective 'binary:logistic' was changed from 'error' to 'logloss'. Explicitly set eval_metric if you'd like to restore the old behavior.\n"
                    ]
                },
                {
                    "output_type": "stream",
                    "name": "stderr",
                    "text": [
                        "/Users/kevin/repos/NBA-Machine-Learning-Sports-Betting/venv/lib/python3.7/site-packages/xgboost/sklearn.py:1146: UserWarning: The use of label encoder in XGBClassifier is deprecated and will be removed in a future release. To remove this warning, do the following: 1) Pass option use_label_encoder=False when constructing XGBClassifier object; and 2) Encode your labels (y) as integers starting with 0, i.e. 0, 1, 2, ..., [num_class - 1].\n",
                        "  warnings.warn(label_encoder_deprecation_msg, UserWarning)\n"
                    ]
                },
                {
                    "output_type": "stream",
                    "name": "stdout",
                    "text": [
                        "[08:36:53] WARNING: /Users/travis/build/dmlc/xgboost/src/learner.cc:1095: Starting in XGBoost 1.3.0, the default evaluation metric used with the objective 'binary:logistic' was changed from 'error' to 'logloss'. Explicitly set eval_metric if you'd like to restore the old behavior.\n"
                    ]
                },
                {
                    "output_type": "stream",
                    "name": "stderr",
                    "text": [
                        "/Users/kevin/repos/NBA-Machine-Learning-Sports-Betting/venv/lib/python3.7/site-packages/xgboost/sklearn.py:1146: UserWarning: The use of label encoder in XGBClassifier is deprecated and will be removed in a future release. To remove this warning, do the following: 1) Pass option use_label_encoder=False when constructing XGBClassifier object; and 2) Encode your labels (y) as integers starting with 0, i.e. 0, 1, 2, ..., [num_class - 1].\n",
                        "  warnings.warn(label_encoder_deprecation_msg, UserWarning)\n"
                    ]
                },
                {
                    "output_type": "stream",
                    "name": "stdout",
                    "text": [
                        "[08:39:36] WARNING: /Users/travis/build/dmlc/xgboost/src/learner.cc:1095: Starting in XGBoost 1.3.0, the default evaluation metric used with the objective 'binary:logistic' was changed from 'error' to 'logloss'. Explicitly set eval_metric if you'd like to restore the old behavior.\n"
                    ]
                },
                {
                    "output_type": "stream",
                    "name": "stderr",
                    "text": [
                        "/Users/kevin/repos/NBA-Machine-Learning-Sports-Betting/venv/lib/python3.7/site-packages/xgboost/sklearn.py:1146: UserWarning: The use of label encoder in XGBClassifier is deprecated and will be removed in a future release. To remove this warning, do the following: 1) Pass option use_label_encoder=False when constructing XGBClassifier object; and 2) Encode your labels (y) as integers starting with 0, i.e. 0, 1, 2, ..., [num_class - 1].\n",
                        "  warnings.warn(label_encoder_deprecation_msg, UserWarning)\n"
                    ]
                },
                {
                    "output_type": "stream",
                    "name": "stdout",
                    "text": [
                        "[08:42:19] WARNING: /Users/travis/build/dmlc/xgboost/src/learner.cc:1095: Starting in XGBoost 1.3.0, the default evaluation metric used with the objective 'binary:logistic' was changed from 'error' to 'logloss'. Explicitly set eval_metric if you'd like to restore the old behavior.\n"
                    ]
                },
                {
                    "output_type": "stream",
                    "name": "stderr",
                    "text": [
                        "/Users/kevin/repos/NBA-Machine-Learning-Sports-Betting/venv/lib/python3.7/site-packages/xgboost/sklearn.py:1146: UserWarning: The use of label encoder in XGBClassifier is deprecated and will be removed in a future release. To remove this warning, do the following: 1) Pass option use_label_encoder=False when constructing XGBClassifier object; and 2) Encode your labels (y) as integers starting with 0, i.e. 0, 1, 2, ..., [num_class - 1].\n",
                        "  warnings.warn(label_encoder_deprecation_msg, UserWarning)\n"
                    ]
                },
                {
                    "output_type": "stream",
                    "name": "stdout",
                    "text": [
                        "[08:45:03] WARNING: /Users/travis/build/dmlc/xgboost/src/learner.cc:1095: Starting in XGBoost 1.3.0, the default evaluation metric used with the objective 'binary:logistic' was changed from 'error' to 'logloss'. Explicitly set eval_metric if you'd like to restore the old behavior.\n",
                        "0.711374158121707\n",
                        "Iteration No: 16 ended. Evaluation done at random point.\n",
                        "Time taken: 817.2811\n",
                        "Function value obtained: -0.7114\n",
                        "Current minimum: -0.7171\n",
                        "Iteration No: 17 started. Evaluating function at random point.\n",
                        "[0.061876706758809547, 1364, 4, 3.8163778598819187, 0.3477580432130638, 0.5696657272029378, 0.8022086896389087]\n"
                    ]
                },
                {
                    "output_type": "stream",
                    "name": "stderr",
                    "text": [
                        "/Users/kevin/repos/NBA-Machine-Learning-Sports-Betting/venv/lib/python3.7/site-packages/xgboost/sklearn.py:1146: UserWarning: The use of label encoder in XGBClassifier is deprecated and will be removed in a future release. To remove this warning, do the following: 1) Pass option use_label_encoder=False when constructing XGBClassifier object; and 2) Encode your labels (y) as integers starting with 0, i.e. 0, 1, 2, ..., [num_class - 1].\n",
                        "  warnings.warn(label_encoder_deprecation_msg, UserWarning)\n"
                    ]
                },
                {
                    "output_type": "stream",
                    "name": "stdout",
                    "text": [
                        "[08:47:47] WARNING: /Users/travis/build/dmlc/xgboost/src/learner.cc:1095: Starting in XGBoost 1.3.0, the default evaluation metric used with the objective 'binary:logistic' was changed from 'error' to 'logloss'. Explicitly set eval_metric if you'd like to restore the old behavior.\n"
                    ]
                },
                {
                    "output_type": "stream",
                    "name": "stderr",
                    "text": [
                        "/Users/kevin/repos/NBA-Machine-Learning-Sports-Betting/venv/lib/python3.7/site-packages/xgboost/sklearn.py:1146: UserWarning: The use of label encoder in XGBClassifier is deprecated and will be removed in a future release. To remove this warning, do the following: 1) Pass option use_label_encoder=False when constructing XGBClassifier object; and 2) Encode your labels (y) as integers starting with 0, i.e. 0, 1, 2, ..., [num_class - 1].\n",
                        "  warnings.warn(label_encoder_deprecation_msg, UserWarning)\n"
                    ]
                },
                {
                    "output_type": "stream",
                    "name": "stdout",
                    "text": [
                        "[08:49:42] WARNING: /Users/travis/build/dmlc/xgboost/src/learner.cc:1095: Starting in XGBoost 1.3.0, the default evaluation metric used with the objective 'binary:logistic' was changed from 'error' to 'logloss'. Explicitly set eval_metric if you'd like to restore the old behavior.\n"
                    ]
                },
                {
                    "output_type": "stream",
                    "name": "stderr",
                    "text": [
                        "/Users/kevin/repos/NBA-Machine-Learning-Sports-Betting/venv/lib/python3.7/site-packages/xgboost/sklearn.py:1146: UserWarning: The use of label encoder in XGBClassifier is deprecated and will be removed in a future release. To remove this warning, do the following: 1) Pass option use_label_encoder=False when constructing XGBClassifier object; and 2) Encode your labels (y) as integers starting with 0, i.e. 0, 1, 2, ..., [num_class - 1].\n",
                        "  warnings.warn(label_encoder_deprecation_msg, UserWarning)\n"
                    ]
                },
                {
                    "output_type": "stream",
                    "name": "stdout",
                    "text": [
                        "[08:51:35] WARNING: /Users/travis/build/dmlc/xgboost/src/learner.cc:1095: Starting in XGBoost 1.3.0, the default evaluation metric used with the objective 'binary:logistic' was changed from 'error' to 'logloss'. Explicitly set eval_metric if you'd like to restore the old behavior.\n"
                    ]
                },
                {
                    "output_type": "stream",
                    "name": "stderr",
                    "text": [
                        "/Users/kevin/repos/NBA-Machine-Learning-Sports-Betting/venv/lib/python3.7/site-packages/xgboost/sklearn.py:1146: UserWarning: The use of label encoder in XGBClassifier is deprecated and will be removed in a future release. To remove this warning, do the following: 1) Pass option use_label_encoder=False when constructing XGBClassifier object; and 2) Encode your labels (y) as integers starting with 0, i.e. 0, 1, 2, ..., [num_class - 1].\n",
                        "  warnings.warn(label_encoder_deprecation_msg, UserWarning)\n"
                    ]
                },
                {
                    "output_type": "stream",
                    "name": "stdout",
                    "text": [
                        "[08:53:28] WARNING: /Users/travis/build/dmlc/xgboost/src/learner.cc:1095: Starting in XGBoost 1.3.0, the default evaluation metric used with the objective 'binary:logistic' was changed from 'error' to 'logloss'. Explicitly set eval_metric if you'd like to restore the old behavior.\n"
                    ]
                },
                {
                    "output_type": "stream",
                    "name": "stderr",
                    "text": [
                        "/Users/kevin/repos/NBA-Machine-Learning-Sports-Betting/venv/lib/python3.7/site-packages/xgboost/sklearn.py:1146: UserWarning: The use of label encoder in XGBClassifier is deprecated and will be removed in a future release. To remove this warning, do the following: 1) Pass option use_label_encoder=False when constructing XGBClassifier object; and 2) Encode your labels (y) as integers starting with 0, i.e. 0, 1, 2, ..., [num_class - 1].\n",
                        "  warnings.warn(label_encoder_deprecation_msg, UserWarning)\n"
                    ]
                },
                {
                    "output_type": "stream",
                    "name": "stdout",
                    "text": [
                        "[08:55:22] WARNING: /Users/travis/build/dmlc/xgboost/src/learner.cc:1095: Starting in XGBoost 1.3.0, the default evaluation metric used with the objective 'binary:logistic' was changed from 'error' to 'logloss'. Explicitly set eval_metric if you'd like to restore the old behavior.\n",
                        "0.6841640438436318\n",
                        "Iteration No: 17 ended. Evaluation done at random point.\n",
                        "Time taken: 569.8003\n",
                        "Function value obtained: -0.6842\n",
                        "Current minimum: -0.7171\n",
                        "Iteration No: 18 started. Evaluating function at random point.\n",
                        "[0.012013849374287178, 640, 4, 5.714267852789906, 0.29943273324426806, 0.8473924665198523, 0.940233919507629]\n"
                    ]
                },
                {
                    "output_type": "stream",
                    "name": "stderr",
                    "text": [
                        "/Users/kevin/repos/NBA-Machine-Learning-Sports-Betting/venv/lib/python3.7/site-packages/xgboost/sklearn.py:1146: UserWarning: The use of label encoder in XGBClassifier is deprecated and will be removed in a future release. To remove this warning, do the following: 1) Pass option use_label_encoder=False when constructing XGBClassifier object; and 2) Encode your labels (y) as integers starting with 0, i.e. 0, 1, 2, ..., [num_class - 1].\n",
                        "  warnings.warn(label_encoder_deprecation_msg, UserWarning)\n"
                    ]
                },
                {
                    "output_type": "stream",
                    "name": "stdout",
                    "text": [
                        "[08:57:17] WARNING: /Users/travis/build/dmlc/xgboost/src/learner.cc:1095: Starting in XGBoost 1.3.0, the default evaluation metric used with the objective 'binary:logistic' was changed from 'error' to 'logloss'. Explicitly set eval_metric if you'd like to restore the old behavior.\n"
                    ]
                },
                {
                    "output_type": "stream",
                    "name": "stderr",
                    "text": [
                        "/Users/kevin/repos/NBA-Machine-Learning-Sports-Betting/venv/lib/python3.7/site-packages/xgboost/sklearn.py:1146: UserWarning: The use of label encoder in XGBClassifier is deprecated and will be removed in a future release. To remove this warning, do the following: 1) Pass option use_label_encoder=False when constructing XGBClassifier object; and 2) Encode your labels (y) as integers starting with 0, i.e. 0, 1, 2, ..., [num_class - 1].\n",
                        "  warnings.warn(label_encoder_deprecation_msg, UserWarning)\n"
                    ]
                },
                {
                    "output_type": "stream",
                    "name": "stdout",
                    "text": [
                        "[08:58:34] WARNING: /Users/travis/build/dmlc/xgboost/src/learner.cc:1095: Starting in XGBoost 1.3.0, the default evaluation metric used with the objective 'binary:logistic' was changed from 'error' to 'logloss'. Explicitly set eval_metric if you'd like to restore the old behavior.\n"
                    ]
                },
                {
                    "output_type": "stream",
                    "name": "stderr",
                    "text": [
                        "/Users/kevin/repos/NBA-Machine-Learning-Sports-Betting/venv/lib/python3.7/site-packages/xgboost/sklearn.py:1146: UserWarning: The use of label encoder in XGBClassifier is deprecated and will be removed in a future release. To remove this warning, do the following: 1) Pass option use_label_encoder=False when constructing XGBClassifier object; and 2) Encode your labels (y) as integers starting with 0, i.e. 0, 1, 2, ..., [num_class - 1].\n",
                        "  warnings.warn(label_encoder_deprecation_msg, UserWarning)\n"
                    ]
                },
                {
                    "output_type": "stream",
                    "name": "stdout",
                    "text": [
                        "[08:59:51] WARNING: /Users/travis/build/dmlc/xgboost/src/learner.cc:1095: Starting in XGBoost 1.3.0, the default evaluation metric used with the objective 'binary:logistic' was changed from 'error' to 'logloss'. Explicitly set eval_metric if you'd like to restore the old behavior.\n"
                    ]
                },
                {
                    "output_type": "stream",
                    "name": "stderr",
                    "text": [
                        "/Users/kevin/repos/NBA-Machine-Learning-Sports-Betting/venv/lib/python3.7/site-packages/xgboost/sklearn.py:1146: UserWarning: The use of label encoder in XGBClassifier is deprecated and will be removed in a future release. To remove this warning, do the following: 1) Pass option use_label_encoder=False when constructing XGBClassifier object; and 2) Encode your labels (y) as integers starting with 0, i.e. 0, 1, 2, ..., [num_class - 1].\n",
                        "  warnings.warn(label_encoder_deprecation_msg, UserWarning)\n"
                    ]
                },
                {
                    "output_type": "stream",
                    "name": "stdout",
                    "text": [
                        "[09:01:08] WARNING: /Users/travis/build/dmlc/xgboost/src/learner.cc:1095: Starting in XGBoost 1.3.0, the default evaluation metric used with the objective 'binary:logistic' was changed from 'error' to 'logloss'. Explicitly set eval_metric if you'd like to restore the old behavior.\n"
                    ]
                },
                {
                    "output_type": "stream",
                    "name": "stderr",
                    "text": [
                        "/Users/kevin/repos/NBA-Machine-Learning-Sports-Betting/venv/lib/python3.7/site-packages/xgboost/sklearn.py:1146: UserWarning: The use of label encoder in XGBClassifier is deprecated and will be removed in a future release. To remove this warning, do the following: 1) Pass option use_label_encoder=False when constructing XGBClassifier object; and 2) Encode your labels (y) as integers starting with 0, i.e. 0, 1, 2, ..., [num_class - 1].\n",
                        "  warnings.warn(label_encoder_deprecation_msg, UserWarning)\n"
                    ]
                },
                {
                    "output_type": "stream",
                    "name": "stdout",
                    "text": [
                        "[09:02:25] WARNING: /Users/travis/build/dmlc/xgboost/src/learner.cc:1095: Starting in XGBoost 1.3.0, the default evaluation metric used with the objective 'binary:logistic' was changed from 'error' to 'logloss'. Explicitly set eval_metric if you'd like to restore the old behavior.\n",
                        "0.7138959884297\n",
                        "Iteration No: 18 ended. Evaluation done at random point.\n",
                        "Time taken: 385.7373\n",
                        "Function value obtained: -0.7139\n",
                        "Current minimum: -0.7171\n",
                        "Iteration No: 19 started. Evaluating function at random point.\n",
                        "[0.01772997389934229, 1697, 9, 1.5274712991513533, 0.22826728524145518, 0.6092202186084168, 0.7082549739351831]\n"
                    ]
                },
                {
                    "output_type": "stream",
                    "name": "stderr",
                    "text": [
                        "/Users/kevin/repos/NBA-Machine-Learning-Sports-Betting/venv/lib/python3.7/site-packages/xgboost/sklearn.py:1146: UserWarning: The use of label encoder in XGBClassifier is deprecated and will be removed in a future release. To remove this warning, do the following: 1) Pass option use_label_encoder=False when constructing XGBClassifier object; and 2) Encode your labels (y) as integers starting with 0, i.e. 0, 1, 2, ..., [num_class - 1].\n",
                        "  warnings.warn(label_encoder_deprecation_msg, UserWarning)\n"
                    ]
                },
                {
                    "output_type": "stream",
                    "name": "stdout",
                    "text": [
                        "[09:03:43] WARNING: /Users/travis/build/dmlc/xgboost/src/learner.cc:1095: Starting in XGBoost 1.3.0, the default evaluation metric used with the objective 'binary:logistic' was changed from 'error' to 'logloss'. Explicitly set eval_metric if you'd like to restore the old behavior.\n"
                    ]
                },
                {
                    "output_type": "stream",
                    "name": "stderr",
                    "text": [
                        "/Users/kevin/repos/NBA-Machine-Learning-Sports-Betting/venv/lib/python3.7/site-packages/xgboost/sklearn.py:1146: UserWarning: The use of label encoder in XGBClassifier is deprecated and will be removed in a future release. To remove this warning, do the following: 1) Pass option use_label_encoder=False when constructing XGBClassifier object; and 2) Encode your labels (y) as integers starting with 0, i.e. 0, 1, 2, ..., [num_class - 1].\n",
                        "  warnings.warn(label_encoder_deprecation_msg, UserWarning)\n"
                    ]
                },
                {
                    "output_type": "stream",
                    "name": "stdout",
                    "text": [
                        "[09:08:54] WARNING: /Users/travis/build/dmlc/xgboost/src/learner.cc:1095: Starting in XGBoost 1.3.0, the default evaluation metric used with the objective 'binary:logistic' was changed from 'error' to 'logloss'. Explicitly set eval_metric if you'd like to restore the old behavior.\n"
                    ]
                },
                {
                    "output_type": "stream",
                    "name": "stderr",
                    "text": [
                        "/Users/kevin/repos/NBA-Machine-Learning-Sports-Betting/venv/lib/python3.7/site-packages/xgboost/sklearn.py:1146: UserWarning: The use of label encoder in XGBClassifier is deprecated and will be removed in a future release. To remove this warning, do the following: 1) Pass option use_label_encoder=False when constructing XGBClassifier object; and 2) Encode your labels (y) as integers starting with 0, i.e. 0, 1, 2, ..., [num_class - 1].\n",
                        "  warnings.warn(label_encoder_deprecation_msg, UserWarning)\n"
                    ]
                },
                {
                    "output_type": "stream",
                    "name": "stdout",
                    "text": [
                        "[09:14:04] WARNING: /Users/travis/build/dmlc/xgboost/src/learner.cc:1095: Starting in XGBoost 1.3.0, the default evaluation metric used with the objective 'binary:logistic' was changed from 'error' to 'logloss'. Explicitly set eval_metric if you'd like to restore the old behavior.\n"
                    ]
                },
                {
                    "output_type": "stream",
                    "name": "stderr",
                    "text": [
                        "/Users/kevin/repos/NBA-Machine-Learning-Sports-Betting/venv/lib/python3.7/site-packages/xgboost/sklearn.py:1146: UserWarning: The use of label encoder in XGBClassifier is deprecated and will be removed in a future release. To remove this warning, do the following: 1) Pass option use_label_encoder=False when constructing XGBClassifier object; and 2) Encode your labels (y) as integers starting with 0, i.e. 0, 1, 2, ..., [num_class - 1].\n",
                        "  warnings.warn(label_encoder_deprecation_msg, UserWarning)\n"
                    ]
                },
                {
                    "output_type": "stream",
                    "name": "stdout",
                    "text": [
                        "[09:19:15] WARNING: /Users/travis/build/dmlc/xgboost/src/learner.cc:1095: Starting in XGBoost 1.3.0, the default evaluation metric used with the objective 'binary:logistic' was changed from 'error' to 'logloss'. Explicitly set eval_metric if you'd like to restore the old behavior.\n"
                    ]
                },
                {
                    "output_type": "stream",
                    "name": "stderr",
                    "text": [
                        "/Users/kevin/repos/NBA-Machine-Learning-Sports-Betting/venv/lib/python3.7/site-packages/xgboost/sklearn.py:1146: UserWarning: The use of label encoder in XGBClassifier is deprecated and will be removed in a future release. To remove this warning, do the following: 1) Pass option use_label_encoder=False when constructing XGBClassifier object; and 2) Encode your labels (y) as integers starting with 0, i.e. 0, 1, 2, ..., [num_class - 1].\n",
                        "  warnings.warn(label_encoder_deprecation_msg, UserWarning)\n"
                    ]
                },
                {
                    "output_type": "stream",
                    "name": "stdout",
                    "text": [
                        "[09:24:24] WARNING: /Users/travis/build/dmlc/xgboost/src/learner.cc:1095: Starting in XGBoost 1.3.0, the default evaluation metric used with the objective 'binary:logistic' was changed from 'error' to 'logloss'. Explicitly set eval_metric if you'd like to restore the old behavior.\n",
                        "0.6993622856584087\n",
                        "Iteration No: 19 ended. Evaluation done at random point.\n",
                        "Time taken: 1490.5230\n",
                        "Function value obtained: -0.6994\n",
                        "Current minimum: -0.7171\n",
                        "Iteration No: 20 started. Evaluating function at random point.\n",
                        "[0.05841986080198009, 1763, 10, 1.6104397735033669, 0.17814891903848748, 0.9534142207728771, 0.6360661246923177]\n",
                        "[09:28:33] WARNING: /Users/travis/build/dmlc/xgboost/src/learner.cc:1095: Starting in XGBoost 1.3.0, the default evaluation metric used with the objective 'binary:logistic' was changed from 'error' to 'logloss'. Explicitly set eval_metric if you'd like to restore the old behavior.\n"
                    ]
                },
                {
                    "output_type": "stream",
                    "name": "stderr",
                    "text": [
                        "/Users/kevin/repos/NBA-Machine-Learning-Sports-Betting/venv/lib/python3.7/site-packages/xgboost/sklearn.py:1146: UserWarning: The use of label encoder in XGBClassifier is deprecated and will be removed in a future release. To remove this warning, do the following: 1) Pass option use_label_encoder=False when constructing XGBClassifier object; and 2) Encode your labels (y) as integers starting with 0, i.e. 0, 1, 2, ..., [num_class - 1].\n",
                        "  warnings.warn(label_encoder_deprecation_msg, UserWarning)\n",
                        "/Users/kevin/repos/NBA-Machine-Learning-Sports-Betting/venv/lib/python3.7/site-packages/xgboost/sklearn.py:1146: UserWarning: The use of label encoder in XGBClassifier is deprecated and will be removed in a future release. To remove this warning, do the following: 1) Pass option use_label_encoder=False when constructing XGBClassifier object; and 2) Encode your labels (y) as integers starting with 0, i.e. 0, 1, 2, ..., [num_class - 1].\n",
                        "  warnings.warn(label_encoder_deprecation_msg, UserWarning)\n"
                    ]
                },
                {
                    "output_type": "stream",
                    "name": "stdout",
                    "text": [
                        "[09:29:58] WARNING: /Users/travis/build/dmlc/xgboost/src/learner.cc:1095: Starting in XGBoost 1.3.0, the default evaluation metric used with the objective 'binary:logistic' was changed from 'error' to 'logloss'. Explicitly set eval_metric if you'd like to restore the old behavior.\n"
                    ]
                },
                {
                    "output_type": "stream",
                    "name": "stderr",
                    "text": [
                        "/Users/kevin/repos/NBA-Machine-Learning-Sports-Betting/venv/lib/python3.7/site-packages/xgboost/sklearn.py:1146: UserWarning: The use of label encoder in XGBClassifier is deprecated and will be removed in a future release. To remove this warning, do the following: 1) Pass option use_label_encoder=False when constructing XGBClassifier object; and 2) Encode your labels (y) as integers starting with 0, i.e. 0, 1, 2, ..., [num_class - 1].\n",
                        "  warnings.warn(label_encoder_deprecation_msg, UserWarning)\n"
                    ]
                },
                {
                    "output_type": "stream",
                    "name": "stdout",
                    "text": [
                        "[09:31:22] WARNING: /Users/travis/build/dmlc/xgboost/src/learner.cc:1095: Starting in XGBoost 1.3.0, the default evaluation metric used with the objective 'binary:logistic' was changed from 'error' to 'logloss'. Explicitly set eval_metric if you'd like to restore the old behavior.\n"
                    ]
                },
                {
                    "output_type": "stream",
                    "name": "stderr",
                    "text": [
                        "/Users/kevin/repos/NBA-Machine-Learning-Sports-Betting/venv/lib/python3.7/site-packages/xgboost/sklearn.py:1146: UserWarning: The use of label encoder in XGBClassifier is deprecated and will be removed in a future release. To remove this warning, do the following: 1) Pass option use_label_encoder=False when constructing XGBClassifier object; and 2) Encode your labels (y) as integers starting with 0, i.e. 0, 1, 2, ..., [num_class - 1].\n",
                        "  warnings.warn(label_encoder_deprecation_msg, UserWarning)\n"
                    ]
                },
                {
                    "output_type": "stream",
                    "name": "stdout",
                    "text": [
                        "[09:32:46] WARNING: /Users/travis/build/dmlc/xgboost/src/learner.cc:1095: Starting in XGBoost 1.3.0, the default evaluation metric used with the objective 'binary:logistic' was changed from 'error' to 'logloss'. Explicitly set eval_metric if you'd like to restore the old behavior.\n"
                    ]
                },
                {
                    "output_type": "stream",
                    "name": "stderr",
                    "text": [
                        "/Users/kevin/repos/NBA-Machine-Learning-Sports-Betting/venv/lib/python3.7/site-packages/xgboost/sklearn.py:1146: UserWarning: The use of label encoder in XGBClassifier is deprecated and will be removed in a future release. To remove this warning, do the following: 1) Pass option use_label_encoder=False when constructing XGBClassifier object; and 2) Encode your labels (y) as integers starting with 0, i.e. 0, 1, 2, ..., [num_class - 1].\n",
                        "  warnings.warn(label_encoder_deprecation_msg, UserWarning)\n"
                    ]
                },
                {
                    "output_type": "stream",
                    "name": "stdout",
                    "text": [
                        "[09:34:10] WARNING: /Users/travis/build/dmlc/xgboost/src/learner.cc:1095: Starting in XGBoost 1.3.0, the default evaluation metric used with the objective 'binary:logistic' was changed from 'error' to 'logloss'. Explicitly set eval_metric if you'd like to restore the old behavior.\n",
                        "0.6959108406813121\n",
                        "Iteration No: 20 ended. Evaluation done at random point.\n",
                        "Time taken: 422.8800\n",
                        "Function value obtained: -0.6959\n",
                        "Current minimum: -0.7171\n",
                        "Iteration No: 21 started. Searching for the next optimal point.\n",
                        "[0.0010866153080558865, 1658, 1, 1.9042900829002667, 0.36158963054612175, 0.9097057330643863, 0.8095825071139461]\n",
                        "[09:35:36] WARNING: /Users/travis/build/dmlc/xgboost/src/learner.cc:1095: Starting in XGBoost 1.3.0, the default evaluation metric used with the objective 'binary:logistic' was changed from 'error' to 'logloss'. Explicitly set eval_metric if you'd like to restore the old behavior.\n"
                    ]
                },
                {
                    "output_type": "stream",
                    "name": "stderr",
                    "text": [
                        "/Users/kevin/repos/NBA-Machine-Learning-Sports-Betting/venv/lib/python3.7/site-packages/xgboost/sklearn.py:1146: UserWarning: The use of label encoder in XGBClassifier is deprecated and will be removed in a future release. To remove this warning, do the following: 1) Pass option use_label_encoder=False when constructing XGBClassifier object; and 2) Encode your labels (y) as integers starting with 0, i.e. 0, 1, 2, ..., [num_class - 1].\n",
                        "  warnings.warn(label_encoder_deprecation_msg, UserWarning)\n",
                        "/Users/kevin/repos/NBA-Machine-Learning-Sports-Betting/venv/lib/python3.7/site-packages/xgboost/sklearn.py:1146: UserWarning: The use of label encoder in XGBClassifier is deprecated and will be removed in a future release. To remove this warning, do the following: 1) Pass option use_label_encoder=False when constructing XGBClassifier object; and 2) Encode your labels (y) as integers starting with 0, i.e. 0, 1, 2, ..., [num_class - 1].\n",
                        "  warnings.warn(label_encoder_deprecation_msg, UserWarning)\n"
                    ]
                },
                {
                    "output_type": "stream",
                    "name": "stdout",
                    "text": [
                        "[09:35:47] WARNING: /Users/travis/build/dmlc/xgboost/src/learner.cc:1095: Starting in XGBoost 1.3.0, the default evaluation metric used with the objective 'binary:logistic' was changed from 'error' to 'logloss'. Explicitly set eval_metric if you'd like to restore the old behavior.\n"
                    ]
                },
                {
                    "output_type": "stream",
                    "name": "stderr",
                    "text": [
                        "/Users/kevin/repos/NBA-Machine-Learning-Sports-Betting/venv/lib/python3.7/site-packages/xgboost/sklearn.py:1146: UserWarning: The use of label encoder in XGBClassifier is deprecated and will be removed in a future release. To remove this warning, do the following: 1) Pass option use_label_encoder=False when constructing XGBClassifier object; and 2) Encode your labels (y) as integers starting with 0, i.e. 0, 1, 2, ..., [num_class - 1].\n",
                        "  warnings.warn(label_encoder_deprecation_msg, UserWarning)\n"
                    ]
                },
                {
                    "output_type": "stream",
                    "name": "stdout",
                    "text": [
                        "[09:35:59] WARNING: /Users/travis/build/dmlc/xgboost/src/learner.cc:1095: Starting in XGBoost 1.3.0, the default evaluation metric used with the objective 'binary:logistic' was changed from 'error' to 'logloss'. Explicitly set eval_metric if you'd like to restore the old behavior.\n"
                    ]
                },
                {
                    "output_type": "stream",
                    "name": "stderr",
                    "text": [
                        "/Users/kevin/repos/NBA-Machine-Learning-Sports-Betting/venv/lib/python3.7/site-packages/xgboost/sklearn.py:1146: UserWarning: The use of label encoder in XGBClassifier is deprecated and will be removed in a future release. To remove this warning, do the following: 1) Pass option use_label_encoder=False when constructing XGBClassifier object; and 2) Encode your labels (y) as integers starting with 0, i.e. 0, 1, 2, ..., [num_class - 1].\n",
                        "  warnings.warn(label_encoder_deprecation_msg, UserWarning)\n"
                    ]
                },
                {
                    "output_type": "stream",
                    "name": "stdout",
                    "text": [
                        "[09:36:11] WARNING: /Users/travis/build/dmlc/xgboost/src/learner.cc:1095: Starting in XGBoost 1.3.0, the default evaluation metric used with the objective 'binary:logistic' was changed from 'error' to 'logloss'. Explicitly set eval_metric if you'd like to restore the old behavior.\n"
                    ]
                },
                {
                    "output_type": "stream",
                    "name": "stderr",
                    "text": [
                        "/Users/kevin/repos/NBA-Machine-Learning-Sports-Betting/venv/lib/python3.7/site-packages/xgboost/sklearn.py:1146: UserWarning: The use of label encoder in XGBClassifier is deprecated and will be removed in a future release. To remove this warning, do the following: 1) Pass option use_label_encoder=False when constructing XGBClassifier object; and 2) Encode your labels (y) as integers starting with 0, i.e. 0, 1, 2, ..., [num_class - 1].\n",
                        "  warnings.warn(label_encoder_deprecation_msg, UserWarning)\n"
                    ]
                },
                {
                    "output_type": "stream",
                    "name": "stdout",
                    "text": [
                        "[09:36:22] WARNING: /Users/travis/build/dmlc/xgboost/src/learner.cc:1095: Starting in XGBoost 1.3.0, the default evaluation metric used with the objective 'binary:logistic' was changed from 'error' to 'logloss'. Explicitly set eval_metric if you'd like to restore the old behavior.\n",
                        "0.701485423373301\n",
                        "Iteration No: 21 ended. Search finished for the next optimal point.\n",
                        "Time taken: 58.6746\n",
                        "Function value obtained: -0.7015\n",
                        "Current minimum: -0.7171\n",
                        "Iteration No: 22 started. Searching for the next optimal point.\n",
                        "[0.001629328167154967, 1423, 2, 5.609600291609011, 0.3189165376103678, 0.5291454112607878, 0.8349479677696355]\n",
                        "[09:36:34] WARNING: /Users/travis/build/dmlc/xgboost/src/learner.cc:1095: Starting in XGBoost 1.3.0, the default evaluation metric used with the objective 'binary:logistic' was changed from 'error' to 'logloss'. Explicitly set eval_metric if you'd like to restore the old behavior.\n"
                    ]
                },
                {
                    "output_type": "stream",
                    "name": "stderr",
                    "text": [
                        "/Users/kevin/repos/NBA-Machine-Learning-Sports-Betting/venv/lib/python3.7/site-packages/xgboost/sklearn.py:1146: UserWarning: The use of label encoder in XGBClassifier is deprecated and will be removed in a future release. To remove this warning, do the following: 1) Pass option use_label_encoder=False when constructing XGBClassifier object; and 2) Encode your labels (y) as integers starting with 0, i.e. 0, 1, 2, ..., [num_class - 1].\n",
                        "  warnings.warn(label_encoder_deprecation_msg, UserWarning)\n",
                        "/Users/kevin/repos/NBA-Machine-Learning-Sports-Betting/venv/lib/python3.7/site-packages/xgboost/sklearn.py:1146: UserWarning: The use of label encoder in XGBClassifier is deprecated and will be removed in a future release. To remove this warning, do the following: 1) Pass option use_label_encoder=False when constructing XGBClassifier object; and 2) Encode your labels (y) as integers starting with 0, i.e. 0, 1, 2, ..., [num_class - 1].\n",
                        "  warnings.warn(label_encoder_deprecation_msg, UserWarning)\n"
                    ]
                },
                {
                    "output_type": "stream",
                    "name": "stdout",
                    "text": [
                        "[09:36:49] WARNING: /Users/travis/build/dmlc/xgboost/src/learner.cc:1095: Starting in XGBoost 1.3.0, the default evaluation metric used with the objective 'binary:logistic' was changed from 'error' to 'logloss'. Explicitly set eval_metric if you'd like to restore the old behavior.\n"
                    ]
                },
                {
                    "output_type": "stream",
                    "name": "stderr",
                    "text": [
                        "/Users/kevin/repos/NBA-Machine-Learning-Sports-Betting/venv/lib/python3.7/site-packages/xgboost/sklearn.py:1146: UserWarning: The use of label encoder in XGBClassifier is deprecated and will be removed in a future release. To remove this warning, do the following: 1) Pass option use_label_encoder=False when constructing XGBClassifier object; and 2) Encode your labels (y) as integers starting with 0, i.e. 0, 1, 2, ..., [num_class - 1].\n",
                        "  warnings.warn(label_encoder_deprecation_msg, UserWarning)\n"
                    ]
                },
                {
                    "output_type": "stream",
                    "name": "stdout",
                    "text": [
                        "[09:37:08] WARNING: /Users/travis/build/dmlc/xgboost/src/learner.cc:1095: Starting in XGBoost 1.3.0, the default evaluation metric used with the objective 'binary:logistic' was changed from 'error' to 'logloss'. Explicitly set eval_metric if you'd like to restore the old behavior.\n"
                    ]
                },
                {
                    "output_type": "stream",
                    "name": "stderr",
                    "text": [
                        "/Users/kevin/repos/NBA-Machine-Learning-Sports-Betting/venv/lib/python3.7/site-packages/xgboost/sklearn.py:1146: UserWarning: The use of label encoder in XGBClassifier is deprecated and will be removed in a future release. To remove this warning, do the following: 1) Pass option use_label_encoder=False when constructing XGBClassifier object; and 2) Encode your labels (y) as integers starting with 0, i.e. 0, 1, 2, ..., [num_class - 1].\n",
                        "  warnings.warn(label_encoder_deprecation_msg, UserWarning)\n"
                    ]
                },
                {
                    "output_type": "stream",
                    "name": "stdout",
                    "text": [
                        "[09:37:25] WARNING: /Users/travis/build/dmlc/xgboost/src/learner.cc:1095: Starting in XGBoost 1.3.0, the default evaluation metric used with the objective 'binary:logistic' was changed from 'error' to 'logloss'. Explicitly set eval_metric if you'd like to restore the old behavior.\n"
                    ]
                },
                {
                    "output_type": "stream",
                    "name": "stderr",
                    "text": [
                        "/Users/kevin/repos/NBA-Machine-Learning-Sports-Betting/venv/lib/python3.7/site-packages/xgboost/sklearn.py:1146: UserWarning: The use of label encoder in XGBClassifier is deprecated and will be removed in a future release. To remove this warning, do the following: 1) Pass option use_label_encoder=False when constructing XGBClassifier object; and 2) Encode your labels (y) as integers starting with 0, i.e. 0, 1, 2, ..., [num_class - 1].\n",
                        "  warnings.warn(label_encoder_deprecation_msg, UserWarning)\n"
                    ]
                },
                {
                    "output_type": "stream",
                    "name": "stdout",
                    "text": [
                        "[09:37:39] WARNING: /Users/travis/build/dmlc/xgboost/src/learner.cc:1095: Starting in XGBoost 1.3.0, the default evaluation metric used with the objective 'binary:logistic' was changed from 'error' to 'logloss'. Explicitly set eval_metric if you'd like to restore the old behavior.\n",
                        "0.7146922724376628\n",
                        "Iteration No: 22 ended. Search finished for the next optimal point.\n",
                        "Time taken: 78.2429\n",
                        "Function value obtained: -0.7147\n",
                        "Current minimum: -0.7171\n",
                        "Iteration No: 23 started. Searching for the next optimal point.\n",
                        "[0.004159997836199091, 1475, 4, 4.765382091385118, 0.20312441043505292, 0.962982618418049, 0.5031297367086623]\n",
                        "[09:37:53] WARNING: /Users/travis/build/dmlc/xgboost/src/learner.cc:1095: Starting in XGBoost 1.3.0, the default evaluation metric used with the objective 'binary:logistic' was changed from 'error' to 'logloss'. Explicitly set eval_metric if you'd like to restore the old behavior.\n"
                    ]
                },
                {
                    "output_type": "stream",
                    "name": "stderr",
                    "text": [
                        "/Users/kevin/repos/NBA-Machine-Learning-Sports-Betting/venv/lib/python3.7/site-packages/xgboost/sklearn.py:1146: UserWarning: The use of label encoder in XGBClassifier is deprecated and will be removed in a future release. To remove this warning, do the following: 1) Pass option use_label_encoder=False when constructing XGBClassifier object; and 2) Encode your labels (y) as integers starting with 0, i.e. 0, 1, 2, ..., [num_class - 1].\n",
                        "  warnings.warn(label_encoder_deprecation_msg, UserWarning)\n",
                        "/Users/kevin/repos/NBA-Machine-Learning-Sports-Betting/venv/lib/python3.7/site-packages/xgboost/sklearn.py:1146: UserWarning: The use of label encoder in XGBClassifier is deprecated and will be removed in a future release. To remove this warning, do the following: 1) Pass option use_label_encoder=False when constructing XGBClassifier object; and 2) Encode your labels (y) as integers starting with 0, i.e. 0, 1, 2, ..., [num_class - 1].\n",
                        "  warnings.warn(label_encoder_deprecation_msg, UserWarning)\n"
                    ]
                },
                {
                    "output_type": "stream",
                    "name": "stdout",
                    "text": [
                        "[09:38:18] WARNING: /Users/travis/build/dmlc/xgboost/src/learner.cc:1095: Starting in XGBoost 1.3.0, the default evaluation metric used with the objective 'binary:logistic' was changed from 'error' to 'logloss'. Explicitly set eval_metric if you'd like to restore the old behavior.\n"
                    ]
                },
                {
                    "output_type": "stream",
                    "name": "stderr",
                    "text": [
                        "/Users/kevin/repos/NBA-Machine-Learning-Sports-Betting/venv/lib/python3.7/site-packages/xgboost/sklearn.py:1146: UserWarning: The use of label encoder in XGBClassifier is deprecated and will be removed in a future release. To remove this warning, do the following: 1) Pass option use_label_encoder=False when constructing XGBClassifier object; and 2) Encode your labels (y) as integers starting with 0, i.e. 0, 1, 2, ..., [num_class - 1].\n",
                        "  warnings.warn(label_encoder_deprecation_msg, UserWarning)\n"
                    ]
                },
                {
                    "output_type": "stream",
                    "name": "stdout",
                    "text": [
                        "[09:38:43] WARNING: /Users/travis/build/dmlc/xgboost/src/learner.cc:1095: Starting in XGBoost 1.3.0, the default evaluation metric used with the objective 'binary:logistic' was changed from 'error' to 'logloss'. Explicitly set eval_metric if you'd like to restore the old behavior.\n"
                    ]
                },
                {
                    "output_type": "stream",
                    "name": "stderr",
                    "text": [
                        "/Users/kevin/repos/NBA-Machine-Learning-Sports-Betting/venv/lib/python3.7/site-packages/xgboost/sklearn.py:1146: UserWarning: The use of label encoder in XGBClassifier is deprecated and will be removed in a future release. To remove this warning, do the following: 1) Pass option use_label_encoder=False when constructing XGBClassifier object; and 2) Encode your labels (y) as integers starting with 0, i.e. 0, 1, 2, ..., [num_class - 1].\n",
                        "  warnings.warn(label_encoder_deprecation_msg, UserWarning)\n"
                    ]
                },
                {
                    "output_type": "stream",
                    "name": "stdout",
                    "text": [
                        "[09:39:08] WARNING: /Users/travis/build/dmlc/xgboost/src/learner.cc:1095: Starting in XGBoost 1.3.0, the default evaluation metric used with the objective 'binary:logistic' was changed from 'error' to 'logloss'. Explicitly set eval_metric if you'd like to restore the old behavior.\n"
                    ]
                },
                {
                    "output_type": "stream",
                    "name": "stderr",
                    "text": [
                        "/Users/kevin/repos/NBA-Machine-Learning-Sports-Betting/venv/lib/python3.7/site-packages/xgboost/sklearn.py:1146: UserWarning: The use of label encoder in XGBClassifier is deprecated and will be removed in a future release. To remove this warning, do the following: 1) Pass option use_label_encoder=False when constructing XGBClassifier object; and 2) Encode your labels (y) as integers starting with 0, i.e. 0, 1, 2, ..., [num_class - 1].\n",
                        "  warnings.warn(label_encoder_deprecation_msg, UserWarning)\n"
                    ]
                },
                {
                    "output_type": "stream",
                    "name": "stdout",
                    "text": [
                        "[09:39:33] WARNING: /Users/travis/build/dmlc/xgboost/src/learner.cc:1095: Starting in XGBoost 1.3.0, the default evaluation metric used with the objective 'binary:logistic' was changed from 'error' to 'logloss'. Explicitly set eval_metric if you'd like to restore the old behavior.\n",
                        "0.715156661324484\n",
                        "Iteration No: 23 ended. Search finished for the next optimal point.\n",
                        "Time taken: 126.0456\n",
                        "Function value obtained: -0.7152\n",
                        "Current minimum: -0.7171\n",
                        "Iteration No: 24 started. Searching for the next optimal point.\n",
                        "[0.025646625216165557, 113, 4, 4.416540153405012, 0.3299278215909489, 0.7741116053874737, 0.5458348139505973]\n",
                        "[09:39:59] WARNING: /Users/travis/build/dmlc/xgboost/src/learner.cc:1095: Starting in XGBoost 1.3.0, the default evaluation metric used with the objective 'binary:logistic' was changed from 'error' to 'logloss'. Explicitly set eval_metric if you'd like to restore the old behavior.\n"
                    ]
                },
                {
                    "output_type": "stream",
                    "name": "stderr",
                    "text": [
                        "/Users/kevin/repos/NBA-Machine-Learning-Sports-Betting/venv/lib/python3.7/site-packages/xgboost/sklearn.py:1146: UserWarning: The use of label encoder in XGBClassifier is deprecated and will be removed in a future release. To remove this warning, do the following: 1) Pass option use_label_encoder=False when constructing XGBClassifier object; and 2) Encode your labels (y) as integers starting with 0, i.e. 0, 1, 2, ..., [num_class - 1].\n",
                        "  warnings.warn(label_encoder_deprecation_msg, UserWarning)\n",
                        "/Users/kevin/repos/NBA-Machine-Learning-Sports-Betting/venv/lib/python3.7/site-packages/xgboost/sklearn.py:1146: UserWarning: The use of label encoder in XGBClassifier is deprecated and will be removed in a future release. To remove this warning, do the following: 1) Pass option use_label_encoder=False when constructing XGBClassifier object; and 2) Encode your labels (y) as integers starting with 0, i.e. 0, 1, 2, ..., [num_class - 1].\n",
                        "  warnings.warn(label_encoder_deprecation_msg, UserWarning)\n"
                    ]
                },
                {
                    "output_type": "stream",
                    "name": "stdout",
                    "text": [
                        "[09:40:00] WARNING: /Users/travis/build/dmlc/xgboost/src/learner.cc:1095: Starting in XGBoost 1.3.0, the default evaluation metric used with the objective 'binary:logistic' was changed from 'error' to 'logloss'. Explicitly set eval_metric if you'd like to restore the old behavior.\n"
                    ]
                },
                {
                    "output_type": "stream",
                    "name": "stderr",
                    "text": [
                        "/Users/kevin/repos/NBA-Machine-Learning-Sports-Betting/venv/lib/python3.7/site-packages/xgboost/sklearn.py:1146: UserWarning: The use of label encoder in XGBClassifier is deprecated and will be removed in a future release. To remove this warning, do the following: 1) Pass option use_label_encoder=False when constructing XGBClassifier object; and 2) Encode your labels (y) as integers starting with 0, i.e. 0, 1, 2, ..., [num_class - 1].\n",
                        "  warnings.warn(label_encoder_deprecation_msg, UserWarning)\n"
                    ]
                },
                {
                    "output_type": "stream",
                    "name": "stdout",
                    "text": [
                        "[09:40:02] WARNING: /Users/travis/build/dmlc/xgboost/src/learner.cc:1095: Starting in XGBoost 1.3.0, the default evaluation metric used with the objective 'binary:logistic' was changed from 'error' to 'logloss'. Explicitly set eval_metric if you'd like to restore the old behavior.\n"
                    ]
                },
                {
                    "output_type": "stream",
                    "name": "stderr",
                    "text": [
                        "/Users/kevin/repos/NBA-Machine-Learning-Sports-Betting/venv/lib/python3.7/site-packages/xgboost/sklearn.py:1146: UserWarning: The use of label encoder in XGBClassifier is deprecated and will be removed in a future release. To remove this warning, do the following: 1) Pass option use_label_encoder=False when constructing XGBClassifier object; and 2) Encode your labels (y) as integers starting with 0, i.e. 0, 1, 2, ..., [num_class - 1].\n",
                        "  warnings.warn(label_encoder_deprecation_msg, UserWarning)\n"
                    ]
                },
                {
                    "output_type": "stream",
                    "name": "stdout",
                    "text": [
                        "[09:40:04] WARNING: /Users/travis/build/dmlc/xgboost/src/learner.cc:1095: Starting in XGBoost 1.3.0, the default evaluation metric used with the objective 'binary:logistic' was changed from 'error' to 'logloss'. Explicitly set eval_metric if you'd like to restore the old behavior.\n"
                    ]
                },
                {
                    "output_type": "stream",
                    "name": "stderr",
                    "text": [
                        "/Users/kevin/repos/NBA-Machine-Learning-Sports-Betting/venv/lib/python3.7/site-packages/xgboost/sklearn.py:1146: UserWarning: The use of label encoder in XGBClassifier is deprecated and will be removed in a future release. To remove this warning, do the following: 1) Pass option use_label_encoder=False when constructing XGBClassifier object; and 2) Encode your labels (y) as integers starting with 0, i.e. 0, 1, 2, ..., [num_class - 1].\n",
                        "  warnings.warn(label_encoder_deprecation_msg, UserWarning)\n"
                    ]
                },
                {
                    "output_type": "stream",
                    "name": "stdout",
                    "text": [
                        "[09:40:06] WARNING: /Users/travis/build/dmlc/xgboost/src/learner.cc:1095: Starting in XGBoost 1.3.0, the default evaluation metric used with the objective 'binary:logistic' was changed from 'error' to 'logloss'. Explicitly set eval_metric if you'd like to restore the old behavior.\n",
                        "0.71575398444828\n",
                        "Iteration No: 24 ended. Search finished for the next optimal point.\n",
                        "Time taken: 9.8979\n",
                        "Function value obtained: -0.7158\n",
                        "Current minimum: -0.7171\n",
                        "Iteration No: 25 started. Searching for the next optimal point.\n",
                        "[0.028631870996981813, 232, 4, 3.9337975062971333, 0.33111854688985387, 0.7428496131737277, 0.8033297124704355]\n",
                        "[09:40:08] WARNING: /Users/travis/build/dmlc/xgboost/src/learner.cc:1095: Starting in XGBoost 1.3.0, the default evaluation metric used with the objective 'binary:logistic' was changed from 'error' to 'logloss'. Explicitly set eval_metric if you'd like to restore the old behavior.\n"
                    ]
                },
                {
                    "output_type": "stream",
                    "name": "stderr",
                    "text": [
                        "/Users/kevin/repos/NBA-Machine-Learning-Sports-Betting/venv/lib/python3.7/site-packages/xgboost/sklearn.py:1146: UserWarning: The use of label encoder in XGBClassifier is deprecated and will be removed in a future release. To remove this warning, do the following: 1) Pass option use_label_encoder=False when constructing XGBClassifier object; and 2) Encode your labels (y) as integers starting with 0, i.e. 0, 1, 2, ..., [num_class - 1].\n",
                        "  warnings.warn(label_encoder_deprecation_msg, UserWarning)\n",
                        "/Users/kevin/repos/NBA-Machine-Learning-Sports-Betting/venv/lib/python3.7/site-packages/xgboost/sklearn.py:1146: UserWarning: The use of label encoder in XGBClassifier is deprecated and will be removed in a future release. To remove this warning, do the following: 1) Pass option use_label_encoder=False when constructing XGBClassifier object; and 2) Encode your labels (y) as integers starting with 0, i.e. 0, 1, 2, ..., [num_class - 1].\n",
                        "  warnings.warn(label_encoder_deprecation_msg, UserWarning)\n"
                    ]
                },
                {
                    "output_type": "stream",
                    "name": "stdout",
                    "text": [
                        "[09:40:13] WARNING: /Users/travis/build/dmlc/xgboost/src/learner.cc:1095: Starting in XGBoost 1.3.0, the default evaluation metric used with the objective 'binary:logistic' was changed from 'error' to 'logloss'. Explicitly set eval_metric if you'd like to restore the old behavior.\n"
                    ]
                },
                {
                    "output_type": "stream",
                    "name": "stderr",
                    "text": [
                        "/Users/kevin/repos/NBA-Machine-Learning-Sports-Betting/venv/lib/python3.7/site-packages/xgboost/sklearn.py:1146: UserWarning: The use of label encoder in XGBClassifier is deprecated and will be removed in a future release. To remove this warning, do the following: 1) Pass option use_label_encoder=False when constructing XGBClassifier object; and 2) Encode your labels (y) as integers starting with 0, i.e. 0, 1, 2, ..., [num_class - 1].\n",
                        "  warnings.warn(label_encoder_deprecation_msg, UserWarning)\n"
                    ]
                },
                {
                    "output_type": "stream",
                    "name": "stdout",
                    "text": [
                        "[09:40:19] WARNING: /Users/travis/build/dmlc/xgboost/src/learner.cc:1095: Starting in XGBoost 1.3.0, the default evaluation metric used with the objective 'binary:logistic' was changed from 'error' to 'logloss'. Explicitly set eval_metric if you'd like to restore the old behavior.\n"
                    ]
                },
                {
                    "output_type": "stream",
                    "name": "stderr",
                    "text": [
                        "/Users/kevin/repos/NBA-Machine-Learning-Sports-Betting/venv/lib/python3.7/site-packages/xgboost/sklearn.py:1146: UserWarning: The use of label encoder in XGBClassifier is deprecated and will be removed in a future release. To remove this warning, do the following: 1) Pass option use_label_encoder=False when constructing XGBClassifier object; and 2) Encode your labels (y) as integers starting with 0, i.e. 0, 1, 2, ..., [num_class - 1].\n",
                        "  warnings.warn(label_encoder_deprecation_msg, UserWarning)\n"
                    ]
                },
                {
                    "output_type": "stream",
                    "name": "stdout",
                    "text": [
                        "[09:40:23] WARNING: /Users/travis/build/dmlc/xgboost/src/learner.cc:1095: Starting in XGBoost 1.3.0, the default evaluation metric used with the objective 'binary:logistic' was changed from 'error' to 'logloss'. Explicitly set eval_metric if you'd like to restore the old behavior.\n"
                    ]
                },
                {
                    "output_type": "stream",
                    "name": "stderr",
                    "text": [
                        "/Users/kevin/repos/NBA-Machine-Learning-Sports-Betting/venv/lib/python3.7/site-packages/xgboost/sklearn.py:1146: UserWarning: The use of label encoder in XGBClassifier is deprecated and will be removed in a future release. To remove this warning, do the following: 1) Pass option use_label_encoder=False when constructing XGBClassifier object; and 2) Encode your labels (y) as integers starting with 0, i.e. 0, 1, 2, ..., [num_class - 1].\n",
                        "  warnings.warn(label_encoder_deprecation_msg, UserWarning)\n"
                    ]
                },
                {
                    "output_type": "stream",
                    "name": "stdout",
                    "text": [
                        "[09:40:29] WARNING: /Users/travis/build/dmlc/xgboost/src/learner.cc:1095: Starting in XGBoost 1.3.0, the default evaluation metric used with the objective 'binary:logistic' was changed from 'error' to 'logloss'. Explicitly set eval_metric if you'd like to restore the old behavior.\n",
                        "0.7158868085674309\n",
                        "Iteration No: 25 ended. Search finished for the next optimal point.\n",
                        "Time taken: 25.3266\n",
                        "Function value obtained: -0.7159\n",
                        "Current minimum: -0.7171\n"
                    ]
                }
            ],
            "metadata": {}
        },
        {
            "cell_type": "code",
            "execution_count": 37,
            "source": [
                "model = tf.keras.models.Sequential()\n",
                "model.add(tf.keras.layers.Flatten())\n",
                "# model.add(tf.keras.layers.Dense(512, activation=tf.nn.relu6))\n",
                "# model.add(tf.keras.layers.Dense(256, activation=tf.nn.relu6))\n",
                "#model.add(tf.keras.layers.Dense(128, activation=tf.nn.relu6))\n",
                "model.add(tf.keras.layers.Dense(64, activation=tf.nn.relu6))\n",
                "model.add(tf.keras.layers.Dense(32, activation=tf.nn.relu6))\n",
                "model.add(tf.keras.layers.Dense(16, activation=tf.nn.relu6))\n",
                "model.add(tf.keras.layers.Dense(8, activation=tf.nn.relu6))\n",
                "model.add(tf.keras.layers.Dense(4, activation=tf.nn.relu6))\n",
                "model.add(tf.keras.layers.Dense(2, activation=tf.nn.softmax))\n",
                "\n",
                "model.compile(optimizer='adam', loss='sparse_categorical_crossentropy', metrics=['accuracy'])\n",
                "model.fit(x_train, y_train, epochs=100, validation_split=0.1, batch_size=32,\n",
                "          callbacks=[tensorboard, earlyStopping, mcp_save])\n",
                "\n",
                "y_pred = model.predict(x_test)"
            ],
            "outputs": [
                {
                    "output_type": "stream",
                    "name": "stdout",
                    "text": [
                        "Epoch 1/100\n",
                        "102/321 [========>.....................] - ETA: 0s - loss: 0.6784 - accuracy: 0.5892"
                    ]
                },
                {
                    "output_type": "stream",
                    "name": "stderr",
                    "text": [
                        "2021-09-14 06:50:24.892952: I tensorflow/core/profiler/lib/profiler_session.cc:131] Profiler session initializing.\n",
                        "2021-09-14 06:50:24.892966: I tensorflow/core/profiler/lib/profiler_session.cc:146] Profiler session started.\n",
                        "2021-09-14 06:50:24.929461: I tensorflow/core/profiler/lib/profiler_session.cc:66] Profiler session collecting data.\n",
                        "2021-09-14 06:50:24.930508: I tensorflow/core/profiler/lib/profiler_session.cc:164] Profiler session tear down.\n",
                        "2021-09-14 06:50:24.931608: I tensorflow/core/profiler/rpc/client/save_profile.cc:136] Creating directory: ../Logs/1631616601.950391/train/plugins/profile/2021_09_14_06_50_24\n",
                        "\n",
                        "2021-09-14 06:50:24.932212: I tensorflow/core/profiler/rpc/client/save_profile.cc:142] Dumped gzipped tool data for trace.json.gz to ../Logs/1631616601.950391/train/plugins/profile/2021_09_14_06_50_24/Kevins-MacBook-Pro.local.trace.json.gz\n",
                        "2021-09-14 06:50:24.933887: I tensorflow/core/profiler/rpc/client/save_profile.cc:136] Creating directory: ../Logs/1631616601.950391/train/plugins/profile/2021_09_14_06_50_24\n",
                        "\n",
                        "2021-09-14 06:50:24.934122: I tensorflow/core/profiler/rpc/client/save_profile.cc:142] Dumped gzipped tool data for memory_profile.json.gz to ../Logs/1631616601.950391/train/plugins/profile/2021_09_14_06_50_24/Kevins-MacBook-Pro.local.memory_profile.json.gz\n",
                        "2021-09-14 06:50:24.935479: I tensorflow/core/profiler/rpc/client/capture_profile.cc:251] Creating directory: ../Logs/1631616601.950391/train/plugins/profile/2021_09_14_06_50_24\n",
                        "Dumped tool data for xplane.pb to ../Logs/1631616601.950391/train/plugins/profile/2021_09_14_06_50_24/Kevins-MacBook-Pro.local.xplane.pb\n",
                        "Dumped tool data for overview_page.pb to ../Logs/1631616601.950391/train/plugins/profile/2021_09_14_06_50_24/Kevins-MacBook-Pro.local.overview_page.pb\n",
                        "Dumped tool data for input_pipeline.pb to ../Logs/1631616601.950391/train/plugins/profile/2021_09_14_06_50_24/Kevins-MacBook-Pro.local.input_pipeline.pb\n",
                        "Dumped tool data for tensorflow_stats.pb to ../Logs/1631616601.950391/train/plugins/profile/2021_09_14_06_50_24/Kevins-MacBook-Pro.local.tensorflow_stats.pb\n",
                        "Dumped tool data for kernel_stats.pb to ../Logs/1631616601.950391/train/plugins/profile/2021_09_14_06_50_24/Kevins-MacBook-Pro.local.kernel_stats.pb\n",
                        "\n"
                    ]
                },
                {
                    "output_type": "stream",
                    "name": "stdout",
                    "text": [
                        "321/321 [==============================] - 1s 2ms/step - loss: 0.6659 - accuracy: 0.5980 - val_loss: 0.6304 - val_accuracy: 0.5970\n",
                        "INFO:tensorflow:Assets written to: ../Models/Trained-Model-ML-1631616601.950391/assets\n",
                        "Epoch 2/100\n",
                        "321/321 [==============================] - 0s 1ms/step - loss: 0.5751 - accuracy: 0.6995 - val_loss: 0.5788 - val_accuracy: 0.7006\n",
                        "INFO:tensorflow:Assets written to: ../Models/Trained-Model-ML-1631616601.950391/assets\n",
                        "Epoch 3/100\n",
                        "321/321 [==============================] - 0s 1ms/step - loss: 0.5583 - accuracy: 0.7134 - val_loss: 0.5479 - val_accuracy: 0.7243\n",
                        "INFO:tensorflow:Assets written to: ../Models/Trained-Model-ML-1631616601.950391/assets\n",
                        "Epoch 4/100\n",
                        "321/321 [==============================] - 0s 990us/step - loss: 0.5514 - accuracy: 0.7197 - val_loss: 0.5478 - val_accuracy: 0.7261\n",
                        "INFO:tensorflow:Assets written to: ../Models/Trained-Model-ML-1631616601.950391/assets\n",
                        "Epoch 5/100\n",
                        "321/321 [==============================] - 0s 1ms/step - loss: 0.5556 - accuracy: 0.7153 - val_loss: 0.5476 - val_accuracy: 0.7296\n",
                        "INFO:tensorflow:Assets written to: ../Models/Trained-Model-ML-1631616601.950391/assets\n",
                        "Epoch 6/100\n",
                        "321/321 [==============================] - 0s 1ms/step - loss: 0.5488 - accuracy: 0.7202 - val_loss: 0.5519 - val_accuracy: 0.7270\n",
                        "Epoch 7/100\n",
                        "321/321 [==============================] - 0s 983us/step - loss: 0.5489 - accuracy: 0.7204 - val_loss: 0.5508 - val_accuracy: 0.7261\n",
                        "Epoch 8/100\n",
                        "321/321 [==============================] - 0s 940us/step - loss: 0.5492 - accuracy: 0.7211 - val_loss: 0.5509 - val_accuracy: 0.7270\n",
                        "Epoch 9/100\n",
                        "321/321 [==============================] - 1s 2ms/step - loss: 0.5475 - accuracy: 0.7206 - val_loss: 0.5647 - val_accuracy: 0.7068\n",
                        "Epoch 10/100\n",
                        "321/321 [==============================] - 0s 1ms/step - loss: 0.5492 - accuracy: 0.7171 - val_loss: 0.5473 - val_accuracy: 0.7340\n",
                        "INFO:tensorflow:Assets written to: ../Models/Trained-Model-ML-1631616601.950391/assets\n",
                        "Epoch 11/100\n",
                        "321/321 [==============================] - 0s 960us/step - loss: 0.5470 - accuracy: 0.7225 - val_loss: 0.5472 - val_accuracy: 0.7322\n",
                        "INFO:tensorflow:Assets written to: ../Models/Trained-Model-ML-1631616601.950391/assets\n",
                        "Epoch 12/100\n",
                        "321/321 [==============================] - 0s 1ms/step - loss: 0.5465 - accuracy: 0.7234 - val_loss: 0.5505 - val_accuracy: 0.7226\n",
                        "Epoch 13/100\n",
                        "321/321 [==============================] - 0s 1ms/step - loss: 0.5482 - accuracy: 0.7202 - val_loss: 0.5478 - val_accuracy: 0.7322\n",
                        "Epoch 14/100\n",
                        "321/321 [==============================] - 0s 957us/step - loss: 0.5473 - accuracy: 0.7188 - val_loss: 0.5562 - val_accuracy: 0.7182\n",
                        "Epoch 15/100\n",
                        "321/321 [==============================] - 0s 1ms/step - loss: 0.5474 - accuracy: 0.7181 - val_loss: 0.5471 - val_accuracy: 0.7366\n",
                        "INFO:tensorflow:Assets written to: ../Models/Trained-Model-ML-1631616601.950391/assets\n",
                        "Epoch 16/100\n",
                        "321/321 [==============================] - 0s 997us/step - loss: 0.5453 - accuracy: 0.7178 - val_loss: 0.5488 - val_accuracy: 0.7226\n",
                        "Epoch 17/100\n",
                        "321/321 [==============================] - 0s 985us/step - loss: 0.5444 - accuracy: 0.7216 - val_loss: 0.5478 - val_accuracy: 0.7331\n",
                        "Epoch 18/100\n",
                        "321/321 [==============================] - 0s 1ms/step - loss: 0.5462 - accuracy: 0.7226 - val_loss: 0.5480 - val_accuracy: 0.7305\n",
                        "Epoch 19/100\n",
                        "321/321 [==============================] - 0s 1ms/step - loss: 0.5441 - accuracy: 0.7234 - val_loss: 0.5528 - val_accuracy: 0.7208\n",
                        "Epoch 20/100\n",
                        "321/321 [==============================] - 0s 1ms/step - loss: 0.5440 - accuracy: 0.7198 - val_loss: 0.5473 - val_accuracy: 0.7340\n",
                        "Epoch 21/100\n",
                        "321/321 [==============================] - 0s 1ms/step - loss: 0.5433 - accuracy: 0.7239 - val_loss: 0.5498 - val_accuracy: 0.7305\n",
                        "Epoch 22/100\n",
                        "321/321 [==============================] - 0s 1ms/step - loss: 0.5437 - accuracy: 0.7215 - val_loss: 0.5473 - val_accuracy: 0.7331\n",
                        "Epoch 23/100\n",
                        "321/321 [==============================] - 0s 972us/step - loss: 0.5422 - accuracy: 0.7245 - val_loss: 0.5480 - val_accuracy: 0.7340\n",
                        "Epoch 24/100\n",
                        "321/321 [==============================] - 0s 974us/step - loss: 0.5424 - accuracy: 0.7233 - val_loss: 0.5612 - val_accuracy: 0.7068\n",
                        "Epoch 25/100\n",
                        "321/321 [==============================] - 0s 1ms/step - loss: 0.5437 - accuracy: 0.7218 - val_loss: 0.5523 - val_accuracy: 0.7226\n"
                    ]
                }
            ],
            "metadata": {}
        },
        {
            "cell_type": "code",
            "execution_count": 22,
            "source": [
                "from sklearn.metrics import accuracy_score\n",
                "train = xgb.DMatrix(x_train, label=y_train)\n",
                "test = xgb.DMatrix(x_test, label=y_test)\n",
                "param = {\n",
                "    'max_depth': 6,\n",
                "    'eta': 0.01,\n",
                "    'objective': 'multi:softprob',\n",
                "    'num_class': 2\n",
                "}\n",
                "epochs = 500\n",
                "\n",
                "# param = {\n",
                "#     'learning_rate': 0.0023145798905204883,\n",
                "#     #'n_estimators': 1511,\n",
                "#     'max_depth':2,\n",
                "#     'min_child_weight':3.1257793724562237,\n",
                "#     'gamma': 0.10397083143409444,\n",
                "#     'subsample': 0.7838501639099957,\n",
                "#     'colsample_bytree': 0.5156566462277793,\n",
                "#     #'eta': 0.01,\n",
                "#     'objective': 'multi:softprob',\n",
                "#     'num_class': 2\n",
                "# }\n",
                "\n",
                "model = xgb.train(param, train, epochs)\n",
                "predictions = model.predict(test)\n",
                "y = []\n",
                "\n",
                "for z in predictions:\n",
                "    y.append(np.argmax(z))\n",
                "\n",
                "acc = round(accuracy_score(y_test, y), 3) * 100\n",
                "print(acc)"
            ],
            "outputs": [
                {
                    "output_type": "stream",
                    "name": "stdout",
                    "text": [
                        "[06:35:59] WARNING: /Users/travis/build/dmlc/xgboost/src/learner.cc:1095: Starting in XGBoost 1.3.0, the default evaluation metric used with the objective 'multi:softprob' was changed from 'merror' to 'mlogloss'. Explicitly set eval_metric if you'd like to restore the old behavior.\n",
                        "69.6\n"
                    ]
                }
            ],
            "metadata": {}
        },
        {
            "cell_type": "code",
            "execution_count": 10,
            "source": [
                "#!pip install sklearn\n",
                "#!pip install matplotlib\n",
                "from sklearn import metrics\n",
                "import matplotlib.pyplot as plt \n",
                "def get_bet_results(Y_pred, Y_test, test_df):\n",
                "    profits = []\n",
                "    dates = []\n",
                "    for idx,y in enumerate(Y_test):\n",
                "        odds = int(test_df.iloc[idx]['Home-Odds']) if Y_pred[idx] else int(test_df.iloc[idx]['Away-Odds'])\n",
                "        d = test_df.iloc[idx]['Date']\n",
                "        #print(d)\n",
                "        date = test_df.iloc[idx]['Date'][:-3] if int(test_df.iloc[idx]['Date'].split('-')[0]) > 9 else d[:-7] + d[-2:]\n",
                "        #print(date)\n",
                "        profit = 0\n",
                "        # Try skipping long odds\n",
                "        if odds < -300:\n",
                "             continue\n",
                "        if y - Y_pred[idx] == 0:\n",
                "            profit = odds/100 if odds > 0 else -100/odds\n",
                "        else:\n",
                "            profit = -1\n",
                "        profits.append(profit)\n",
                "        #print(date)\n",
                "        dates.append(date)\n",
                "    profit_cum = np.cumsum(profits)  # returns a numpy.ndarray\n",
                "    data = {\n",
                "        \"dates\": dates,\n",
                "        \"profit\": profits\n",
                "    }\n",
                "    agg = pd.DataFrame(data).groupby(['dates']).agg({\"profit\":\"sum\",\"dates\":\"count\"}).rename({\"dates\":\"dates_count\"}, axis=1)\n",
                "    agg.reset_index(level=0, inplace=True)\n",
                "    agg[\"dates\"] = pd.to_datetime(agg['dates'])\n",
                "    agg.sort_values(by=[\"dates\"], inplace=True)\n",
                "    agg[\"cumulative\"] = np.cumsum(agg[\"profit\"])\n",
                "    \n",
                "    plt.figure()\n",
                "    _ = agg.plot(x=\"dates\", y=\"cumulative\")\n",
                "    plt.ylabel('units')\n",
                "    plt.show()\n",
                "    display(f\"Accuracy: {metrics.accuracy_score(Y_pred, Y_test)}\")\n",
                "    display(f\"Total Profit: {agg['cumulative'].iloc[-1]}\")\n",
                "    display(f\"Best 7 days: {agg['profit'].rolling(7).sum().max()}\")\n",
                "    display(f\"Worst 7 days: {agg['profit'].rolling(7).sum().min()}\")\n",
                "    display(f\"Best 30 days: {agg['profit'].rolling(30).sum().max()}\")\n",
                "    display(f\"Worst 30 days: {agg['profit'].rolling(30).sum().min()}\")\n",
                "    return agg"
            ],
            "outputs": [],
            "metadata": {}
        },
        {
            "cell_type": "code",
            "execution_count": 38,
            "source": [
                "y_preds = np.argmax(y_pred, axis=1)\n",
                "#y_preds = np.argmax(predictions, axis=1)\n",
                "_ = get_bet_results(y_preds, y_test, data[data[\"Season\"] >= cutoff ])\n",
                "#res.to_csv('res.csv')"
            ],
            "outputs": [
                {
                    "output_type": "display_data",
                    "data": {
                        "text/plain": [
                            "<Figure size 432x288 with 0 Axes>"
                        ]
                    },
                    "metadata": {}
                },
                {
                    "output_type": "display_data",
                    "data": {
                        "image/png": "[encoded data removed]",
                        "image/svg+xml": "<?xml version=\"1.0\" encoding=\"utf-8\" standalone=\"no\"?>\n<!DOCTYPE svg PUBLIC \"-//W3C//DTD SVG 1.1//EN\"\n  \"http://www.w3.org/Graphics/SVG/1.1/DTD/svg11.dtd\">\n<svg height=\"260.191033pt\" version=\"1.1\" viewBox=\"0 0 388.965625 260.191033\" width=\"388.965625pt\" xmlns=\"http://www.w3.org/2000/svg\" xmlns:xlink=\"http://www.w3.org/1999/xlink\">\n <metadata>\n  <rdf:RDF xmlns:cc=\"http://creativecommons.org/ns#\" xmlns:dc=\"http://purl.org/dc/elements/1.1/\" xmlns:rdf=\"http://www.w3.org/1999/02/22-rdf-syntax-ns#\">\n   <cc:Work>\n    <dc:type rdf:resource=\"http://purl.org/dc/dcmitype/StillImage\"/>\n    <dc:date>2021-09-14T06:50:48.594993</dc:date>\n    <dc:format>image/svg+xml</dc:format>\n    <dc:creator>\n     <cc:Agent>\n      <dc:title>Matplotlib v3.4.3, https://matplotlib.org/</dc:title>\n     </cc:Agent>\n    </dc:creator>\n   </cc:Work>\n  </rdf:RDF>\n </metadata>\n <defs>\n  <style type=\"text/css\">*{stroke-linecap:butt;stroke-linejoin:round;}</style>\n </defs>\n <g id=\"figure_1\">\n  <g id=\"patch_1\">\n   <path d=\"M -0 260.191033 \nL 388.965625 260.191033 \nL 388.965625 0 \nL -0 0 \nz\n\" style=\"fill:none;\"/>\n  </g>\n  <g id=\"axes_1\">\n   <g id=\"patch_2\">\n    <path d=\"M 46.965625 203.04 \nL 381.765625 203.04 \nL 381.765625 7.2 \nL 46.965625 7.2 \nz\n\" style=\"fill:#ffffff;\"/>\n   </g>\n   <g id=\"matplotlib.axis_1\">\n    <g id=\"xtick_1\">\n     <g id=\"line2d_1\">\n      <defs>\n       <path d=\"M 0 0 \nL 0 3.5 \n\" id=\"mddb149a2bd\" style=\"stroke:#000000;stroke-width:0.8;\"/>\n      </defs>\n      <g>\n       <use style=\"stroke:#000000;stroke-width:0.8;\" x=\"75.379992\" xlink:href=\"#mddb149a2bd\" y=\"203.04\"/>\n      </g>\n     </g>\n     <g id=\"text_1\">\n      <!-- 2017-01 -->\n      <g transform=\"translate(38.155172 237.511846)rotate(-30)scale(0.1 -0.1)\">\n       <defs>\n        <path d=\"M 1228 531 \nL 3431 531 \nL 3431 0 \nL 469 0 \nL 469 531 \nQ 828 903 1448 1529 \nQ 2069 2156 2228 2338 \nQ 2531 2678 2651 2914 \nQ 2772 3150 2772 3378 \nQ 2772 3750 2511 3984 \nQ 2250 4219 1831 4219 \nQ 1534 4219 1204 4116 \nQ 875 4013 500 3803 \nL 500 4441 \nQ 881 4594 1212 4672 \nQ 1544 4750 1819 4750 \nQ 2544 4750 2975 4387 \nQ 3406 4025 3406 3419 \nQ 3406 3131 3298 2873 \nQ 3191 2616 2906 2266 \nQ 2828 2175 2409 1742 \nQ 1991 1309 1228 531 \nz\n\" id=\"DejaVuSans-32\" transform=\"scale(0.015625)\"/>\n        <path d=\"M 2034 4250 \nQ 1547 4250 1301 3770 \nQ 1056 3291 1056 2328 \nQ 1056 1369 1301 889 \nQ 1547 409 2034 409 \nQ 2525 409 2770 889 \nQ 3016 1369 3016 2328 \nQ 3016 3291 2770 3770 \nQ 2525 4250 2034 4250 \nz\nM 2034 4750 \nQ 2819 4750 3233 4129 \nQ 3647 3509 3647 2328 \nQ 3647 1150 3233 529 \nQ 2819 -91 2034 -91 \nQ 1250 -91 836 529 \nQ 422 1150 422 2328 \nQ 422 3509 836 4129 \nQ 1250 4750 2034 4750 \nz\n\" id=\"DejaVuSans-30\" transform=\"scale(0.015625)\"/>\n        <path d=\"M 794 531 \nL 1825 531 \nL 1825 4091 \nL 703 3866 \nL 703 4441 \nL 1819 4666 \nL 2450 4666 \nL 2450 531 \nL 3481 531 \nL 3481 0 \nL 794 0 \nL 794 531 \nz\n\" id=\"DejaVuSans-31\" transform=\"scale(0.015625)\"/>\n        <path d=\"M 525 4666 \nL 3525 4666 \nL 3525 4397 \nL 1831 0 \nL 1172 0 \nL 2766 4134 \nL 525 4134 \nL 525 4666 \nz\n\" id=\"DejaVuSans-37\" transform=\"scale(0.015625)\"/>\n        <path d=\"M 313 2009 \nL 1997 2009 \nL 1997 1497 \nL 313 1497 \nL 313 2009 \nz\n\" id=\"DejaVuSans-2d\" transform=\"scale(0.015625)\"/>\n       </defs>\n       <use xlink:href=\"#DejaVuSans-32\"/>\n       <use x=\"63.623047\" xlink:href=\"#DejaVuSans-30\"/>\n       <use x=\"127.246094\" xlink:href=\"#DejaVuSans-31\"/>\n       <use x=\"190.869141\" xlink:href=\"#DejaVuSans-37\"/>\n       <use x=\"254.492188\" xlink:href=\"#DejaVuSans-2d\"/>\n       <use x=\"290.576172\" xlink:href=\"#DejaVuSans-30\"/>\n       <use x=\"354.199219\" xlink:href=\"#DejaVuSans-31\"/>\n      </g>\n     </g>\n    </g>\n    <g id=\"xtick_2\">\n     <g id=\"line2d_2\">\n      <g>\n       <use style=\"stroke:#000000;stroke-width:0.8;\" x=\"113.904341\" xlink:href=\"#mddb149a2bd\" y=\"203.04\"/>\n      </g>\n     </g>\n     <g id=\"text_2\">\n      <!-- 2017-07 -->\n      <g transform=\"translate(76.67952 237.511846)rotate(-30)scale(0.1 -0.1)\">\n       <use xlink:href=\"#DejaVuSans-32\"/>\n       <use x=\"63.623047\" xlink:href=\"#DejaVuSans-30\"/>\n       <use x=\"127.246094\" xlink:href=\"#DejaVuSans-31\"/>\n       <use x=\"190.869141\" xlink:href=\"#DejaVuSans-37\"/>\n       <use x=\"254.492188\" xlink:href=\"#DejaVuSans-2d\"/>\n       <use x=\"290.576172\" xlink:href=\"#DejaVuSans-30\"/>\n       <use x=\"354.199219\" xlink:href=\"#DejaVuSans-37\"/>\n      </g>\n     </g>\n    </g>\n    <g id=\"xtick_3\">\n     <g id=\"line2d_3\">\n      <g>\n       <use style=\"stroke:#000000;stroke-width:0.8;\" x=\"153.067214\" xlink:href=\"#mddb149a2bd\" y=\"203.04\"/>\n      </g>\n     </g>\n     <g id=\"text_3\">\n      <!-- 2018-01 -->\n      <g transform=\"translate(115.842394 237.511846)rotate(-30)scale(0.1 -0.1)\">\n       <defs>\n        <path d=\"M 2034 2216 \nQ 1584 2216 1326 1975 \nQ 1069 1734 1069 1313 \nQ 1069 891 1326 650 \nQ 1584 409 2034 409 \nQ 2484 409 2743 651 \nQ 3003 894 3003 1313 \nQ 3003 1734 2745 1975 \nQ 2488 2216 2034 2216 \nz\nM 1403 2484 \nQ 997 2584 770 2862 \nQ 544 3141 544 3541 \nQ 544 4100 942 4425 \nQ 1341 4750 2034 4750 \nQ 2731 4750 3128 4425 \nQ 3525 4100 3525 3541 \nQ 3525 3141 3298 2862 \nQ 3072 2584 2669 2484 \nQ 3125 2378 3379 2068 \nQ 3634 1759 3634 1313 \nQ 3634 634 3220 271 \nQ 2806 -91 2034 -91 \nQ 1263 -91 848 271 \nQ 434 634 434 1313 \nQ 434 1759 690 2068 \nQ 947 2378 1403 2484 \nz\nM 1172 3481 \nQ 1172 3119 1398 2916 \nQ 1625 2713 2034 2713 \nQ 2441 2713 2670 2916 \nQ 2900 3119 2900 3481 \nQ 2900 3844 2670 4047 \nQ 2441 4250 2034 4250 \nQ 1625 4250 1398 4047 \nQ 1172 3844 1172 3481 \nz\n\" id=\"DejaVuSans-38\" transform=\"scale(0.015625)\"/>\n       </defs>\n       <use xlink:href=\"#DejaVuSans-32\"/>\n       <use x=\"63.623047\" xlink:href=\"#DejaVuSans-30\"/>\n       <use x=\"127.246094\" xlink:href=\"#DejaVuSans-31\"/>\n       <use x=\"190.869141\" xlink:href=\"#DejaVuSans-38\"/>\n       <use x=\"254.492188\" xlink:href=\"#DejaVuSans-2d\"/>\n       <use x=\"290.576172\" xlink:href=\"#DejaVuSans-30\"/>\n       <use x=\"354.199219\" xlink:href=\"#DejaVuSans-31\"/>\n      </g>\n     </g>\n    </g>\n    <g id=\"xtick_4\">\n     <g id=\"line2d_4\">\n      <g>\n       <use style=\"stroke:#000000;stroke-width:0.8;\" x=\"191.591563\" xlink:href=\"#mddb149a2bd\" y=\"203.04\"/>\n      </g>\n     </g>\n     <g id=\"text_4\">\n      <!-- 2018-07 -->\n      <g transform=\"translate(154.366742 237.511846)rotate(-30)scale(0.1 -0.1)\">\n       <use xlink:href=\"#DejaVuSans-32\"/>\n       <use x=\"63.623047\" xlink:href=\"#DejaVuSans-30\"/>\n       <use x=\"127.246094\" xlink:href=\"#DejaVuSans-31\"/>\n       <use x=\"190.869141\" xlink:href=\"#DejaVuSans-38\"/>\n       <use x=\"254.492188\" xlink:href=\"#DejaVuSans-2d\"/>\n       <use x=\"290.576172\" xlink:href=\"#DejaVuSans-30\"/>\n       <use x=\"354.199219\" xlink:href=\"#DejaVuSans-37\"/>\n      </g>\n     </g>\n    </g>\n    <g id=\"xtick_5\">\n     <g id=\"line2d_5\">\n      <g>\n       <use style=\"stroke:#000000;stroke-width:0.8;\" x=\"230.754436\" xlink:href=\"#mddb149a2bd\" y=\"203.04\"/>\n      </g>\n     </g>\n     <g id=\"text_5\">\n      <!-- 2019-01 -->\n      <g transform=\"translate(193.529615 237.511846)rotate(-30)scale(0.1 -0.1)\">\n       <defs>\n        <path d=\"M 703 97 \nL 703 672 \nQ 941 559 1184 500 \nQ 1428 441 1663 441 \nQ 2288 441 2617 861 \nQ 2947 1281 2994 2138 \nQ 2813 1869 2534 1725 \nQ 2256 1581 1919 1581 \nQ 1219 1581 811 2004 \nQ 403 2428 403 3163 \nQ 403 3881 828 4315 \nQ 1253 4750 1959 4750 \nQ 2769 4750 3195 4129 \nQ 3622 3509 3622 2328 \nQ 3622 1225 3098 567 \nQ 2575 -91 1691 -91 \nQ 1453 -91 1209 -44 \nQ 966 3 703 97 \nz\nM 1959 2075 \nQ 2384 2075 2632 2365 \nQ 2881 2656 2881 3163 \nQ 2881 3666 2632 3958 \nQ 2384 4250 1959 4250 \nQ 1534 4250 1286 3958 \nQ 1038 3666 1038 3163 \nQ 1038 2656 1286 2365 \nQ 1534 2075 1959 2075 \nz\n\" id=\"DejaVuSans-39\" transform=\"scale(0.015625)\"/>\n       </defs>\n       <use xlink:href=\"#DejaVuSans-32\"/>\n       <use x=\"63.623047\" xlink:href=\"#DejaVuSans-30\"/>\n       <use x=\"127.246094\" xlink:href=\"#DejaVuSans-31\"/>\n       <use x=\"190.869141\" xlink:href=\"#DejaVuSans-39\"/>\n       <use x=\"254.492188\" xlink:href=\"#DejaVuSans-2d\"/>\n       <use x=\"290.576172\" xlink:href=\"#DejaVuSans-30\"/>\n       <use x=\"354.199219\" xlink:href=\"#DejaVuSans-31\"/>\n      </g>\n     </g>\n    </g>\n    <g id=\"xtick_6\">\n     <g id=\"line2d_6\">\n      <g>\n       <use style=\"stroke:#000000;stroke-width:0.8;\" x=\"269.278785\" xlink:href=\"#mddb149a2bd\" y=\"203.04\"/>\n      </g>\n     </g>\n     <g id=\"text_6\">\n      <!-- 2019-07 -->\n      <g transform=\"translate(232.053964 237.511846)rotate(-30)scale(0.1 -0.1)\">\n       <use xlink:href=\"#DejaVuSans-32\"/>\n       <use x=\"63.623047\" xlink:href=\"#DejaVuSans-30\"/>\n       <use x=\"127.246094\" xlink:href=\"#DejaVuSans-31\"/>\n       <use x=\"190.869141\" xlink:href=\"#DejaVuSans-39\"/>\n       <use x=\"254.492188\" xlink:href=\"#DejaVuSans-2d\"/>\n       <use x=\"290.576172\" xlink:href=\"#DejaVuSans-30\"/>\n       <use x=\"354.199219\" xlink:href=\"#DejaVuSans-37\"/>\n      </g>\n     </g>\n    </g>\n    <g id=\"xtick_7\">\n     <g id=\"line2d_7\">\n      <g>\n       <use style=\"stroke:#000000;stroke-width:0.8;\" x=\"308.441658\" xlink:href=\"#mddb149a2bd\" y=\"203.04\"/>\n      </g>\n     </g>\n     <g id=\"text_7\">\n      <!-- 2020-01 -->\n      <g transform=\"translate(271.216837 237.511846)rotate(-30)scale(0.1 -0.1)\">\n       <use xlink:href=\"#DejaVuSans-32\"/>\n       <use x=\"63.623047\" xlink:href=\"#DejaVuSans-30\"/>\n       <use x=\"127.246094\" xlink:href=\"#DejaVuSans-32\"/>\n       <use x=\"190.869141\" xlink:href=\"#DejaVuSans-30\"/>\n       <use x=\"254.492188\" xlink:href=\"#DejaVuSans-2d\"/>\n       <use x=\"290.576172\" xlink:href=\"#DejaVuSans-30\"/>\n       <use x=\"354.199219\" xlink:href=\"#DejaVuSans-31\"/>\n      </g>\n     </g>\n    </g>\n    <g id=\"xtick_8\">\n     <g id=\"line2d_8\">\n      <g>\n       <use style=\"stroke:#000000;stroke-width:0.8;\" x=\"347.178848\" xlink:href=\"#mddb149a2bd\" y=\"203.04\"/>\n      </g>\n     </g>\n     <g id=\"text_8\">\n      <!-- 2020-07 -->\n      <g transform=\"translate(309.954027 237.511846)rotate(-30)scale(0.1 -0.1)\">\n       <use xlink:href=\"#DejaVuSans-32\"/>\n       <use x=\"63.623047\" xlink:href=\"#DejaVuSans-30\"/>\n       <use x=\"127.246094\" xlink:href=\"#DejaVuSans-32\"/>\n       <use x=\"190.869141\" xlink:href=\"#DejaVuSans-30\"/>\n       <use x=\"254.492188\" xlink:href=\"#DejaVuSans-2d\"/>\n       <use x=\"290.576172\" xlink:href=\"#DejaVuSans-30\"/>\n       <use x=\"354.199219\" xlink:href=\"#DejaVuSans-37\"/>\n      </g>\n     </g>\n    </g>\n    <g id=\"text_9\">\n     <!-- dates -->\n     <g transform=\"translate(200.485938 250.911346)scale(0.1 -0.1)\">\n      <defs>\n       <path d=\"M 2906 2969 \nL 2906 4863 \nL 3481 4863 \nL 3481 0 \nL 2906 0 \nL 2906 525 \nQ 2725 213 2448 61 \nQ 2172 -91 1784 -91 \nQ 1150 -91 751 415 \nQ 353 922 353 1747 \nQ 353 2572 751 3078 \nQ 1150 3584 1784 3584 \nQ 2172 3584 2448 3432 \nQ 2725 3281 2906 2969 \nz\nM 947 1747 \nQ 947 1113 1208 752 \nQ 1469 391 1925 391 \nQ 2381 391 2643 752 \nQ 2906 1113 2906 1747 \nQ 2906 2381 2643 2742 \nQ 2381 3103 1925 3103 \nQ 1469 3103 1208 2742 \nQ 947 2381 947 1747 \nz\n\" id=\"DejaVuSans-64\" transform=\"scale(0.015625)\"/>\n       <path d=\"M 2194 1759 \nQ 1497 1759 1228 1600 \nQ 959 1441 959 1056 \nQ 959 750 1161 570 \nQ 1363 391 1709 391 \nQ 2188 391 2477 730 \nQ 2766 1069 2766 1631 \nL 2766 1759 \nL 2194 1759 \nz\nM 3341 1997 \nL 3341 0 \nL 2766 0 \nL 2766 531 \nQ 2569 213 2275 61 \nQ 1981 -91 1556 -91 \nQ 1019 -91 701 211 \nQ 384 513 384 1019 \nQ 384 1609 779 1909 \nQ 1175 2209 1959 2209 \nL 2766 2209 \nL 2766 2266 \nQ 2766 2663 2505 2880 \nQ 2244 3097 1772 3097 \nQ 1472 3097 1187 3025 \nQ 903 2953 641 2809 \nL 641 3341 \nQ 956 3463 1253 3523 \nQ 1550 3584 1831 3584 \nQ 2591 3584 2966 3190 \nQ 3341 2797 3341 1997 \nz\n\" id=\"DejaVuSans-61\" transform=\"scale(0.015625)\"/>\n       <path d=\"M 1172 4494 \nL 1172 3500 \nL 2356 3500 \nL 2356 3053 \nL 1172 3053 \nL 1172 1153 \nQ 1172 725 1289 603 \nQ 1406 481 1766 481 \nL 2356 481 \nL 2356 0 \nL 1766 0 \nQ 1100 0 847 248 \nQ 594 497 594 1153 \nL 594 3053 \nL 172 3053 \nL 172 3500 \nL 594 3500 \nL 594 4494 \nL 1172 4494 \nz\n\" id=\"DejaVuSans-74\" transform=\"scale(0.015625)\"/>\n       <path d=\"M 3597 1894 \nL 3597 1613 \nL 953 1613 \nQ 991 1019 1311 708 \nQ 1631 397 2203 397 \nQ 2534 397 2845 478 \nQ 3156 559 3463 722 \nL 3463 178 \nQ 3153 47 2828 -22 \nQ 2503 -91 2169 -91 \nQ 1331 -91 842 396 \nQ 353 884 353 1716 \nQ 353 2575 817 3079 \nQ 1281 3584 2069 3584 \nQ 2775 3584 3186 3129 \nQ 3597 2675 3597 1894 \nz\nM 3022 2063 \nQ 3016 2534 2758 2815 \nQ 2500 3097 2075 3097 \nQ 1594 3097 1305 2825 \nQ 1016 2553 972 2059 \nL 3022 2063 \nz\n\" id=\"DejaVuSans-65\" transform=\"scale(0.015625)\"/>\n       <path d=\"M 2834 3397 \nL 2834 2853 \nQ 2591 2978 2328 3040 \nQ 2066 3103 1784 3103 \nQ 1356 3103 1142 2972 \nQ 928 2841 928 2578 \nQ 928 2378 1081 2264 \nQ 1234 2150 1697 2047 \nL 1894 2003 \nQ 2506 1872 2764 1633 \nQ 3022 1394 3022 966 \nQ 3022 478 2636 193 \nQ 2250 -91 1575 -91 \nQ 1294 -91 989 -36 \nQ 684 19 347 128 \nL 347 722 \nQ 666 556 975 473 \nQ 1284 391 1588 391 \nQ 1994 391 2212 530 \nQ 2431 669 2431 922 \nQ 2431 1156 2273 1281 \nQ 2116 1406 1581 1522 \nL 1381 1569 \nQ 847 1681 609 1914 \nQ 372 2147 372 2553 \nQ 372 3047 722 3315 \nQ 1072 3584 1716 3584 \nQ 2034 3584 2315 3537 \nQ 2597 3491 2834 3397 \nz\n\" id=\"DejaVuSans-73\" transform=\"scale(0.015625)\"/>\n      </defs>\n      <use xlink:href=\"#DejaVuSans-64\"/>\n      <use x=\"63.476562\" xlink:href=\"#DejaVuSans-61\"/>\n      <use x=\"124.755859\" xlink:href=\"#DejaVuSans-74\"/>\n      <use x=\"163.964844\" xlink:href=\"#DejaVuSans-65\"/>\n      <use x=\"225.488281\" xlink:href=\"#DejaVuSans-73\"/>\n     </g>\n    </g>\n   </g>\n   <g id=\"matplotlib.axis_2\">\n    <g id=\"ytick_1\">\n     <g id=\"line2d_9\">\n      <defs>\n       <path d=\"M 0 0 \nL -3.5 0 \n\" id=\"m21bcc89ae8\" style=\"stroke:#000000;stroke-width:0.8;\"/>\n      </defs>\n      <g>\n       <use style=\"stroke:#000000;stroke-width:0.8;\" x=\"46.965625\" xlink:href=\"#m21bcc89ae8\" y=\"194.554574\"/>\n      </g>\n     </g>\n     <g id=\"text_10\">\n      <!-- 0 -->\n      <g transform=\"translate(33.603125 198.353793)scale(0.1 -0.1)\">\n       <use xlink:href=\"#DejaVuSans-30\"/>\n      </g>\n     </g>\n    </g>\n    <g id=\"ytick_2\">\n     <g id=\"line2d_10\">\n      <g>\n       <use style=\"stroke:#000000;stroke-width:0.8;\" x=\"46.965625\" xlink:href=\"#m21bcc89ae8\" y=\"166.905366\"/>\n      </g>\n     </g>\n     <g id=\"text_11\">\n      <!-- 50 -->\n      <g transform=\"translate(27.240625 170.704585)scale(0.1 -0.1)\">\n       <defs>\n        <path d=\"M 691 4666 \nL 3169 4666 \nL 3169 4134 \nL 1269 4134 \nL 1269 2991 \nQ 1406 3038 1543 3061 \nQ 1681 3084 1819 3084 \nQ 2600 3084 3056 2656 \nQ 3513 2228 3513 1497 \nQ 3513 744 3044 326 \nQ 2575 -91 1722 -91 \nQ 1428 -91 1123 -41 \nQ 819 9 494 109 \nL 494 744 \nQ 775 591 1075 516 \nQ 1375 441 1709 441 \nQ 2250 441 2565 725 \nQ 2881 1009 2881 1497 \nQ 2881 1984 2565 2268 \nQ 2250 2553 1709 2553 \nQ 1456 2553 1204 2497 \nQ 953 2441 691 2322 \nL 691 4666 \nz\n\" id=\"DejaVuSans-35\" transform=\"scale(0.015625)\"/>\n       </defs>\n       <use xlink:href=\"#DejaVuSans-35\"/>\n       <use x=\"63.623047\" xlink:href=\"#DejaVuSans-30\"/>\n      </g>\n     </g>\n    </g>\n    <g id=\"ytick_3\">\n     <g id=\"line2d_11\">\n      <g>\n       <use style=\"stroke:#000000;stroke-width:0.8;\" x=\"46.965625\" xlink:href=\"#m21bcc89ae8\" y=\"139.256159\"/>\n      </g>\n     </g>\n     <g id=\"text_12\">\n      <!-- 100 -->\n      <g transform=\"translate(20.878125 143.055378)scale(0.1 -0.1)\">\n       <use xlink:href=\"#DejaVuSans-31\"/>\n       <use x=\"63.623047\" xlink:href=\"#DejaVuSans-30\"/>\n       <use x=\"127.246094\" xlink:href=\"#DejaVuSans-30\"/>\n      </g>\n     </g>\n    </g>\n    <g id=\"ytick_4\">\n     <g id=\"line2d_12\">\n      <g>\n       <use style=\"stroke:#000000;stroke-width:0.8;\" x=\"46.965625\" xlink:href=\"#m21bcc89ae8\" y=\"111.606951\"/>\n      </g>\n     </g>\n     <g id=\"text_13\">\n      <!-- 150 -->\n      <g transform=\"translate(20.878125 115.40617)scale(0.1 -0.1)\">\n       <use xlink:href=\"#DejaVuSans-31\"/>\n       <use x=\"63.623047\" xlink:href=\"#DejaVuSans-35\"/>\n       <use x=\"127.246094\" xlink:href=\"#DejaVuSans-30\"/>\n      </g>\n     </g>\n    </g>\n    <g id=\"ytick_5\">\n     <g id=\"line2d_13\">\n      <g>\n       <use style=\"stroke:#000000;stroke-width:0.8;\" x=\"46.965625\" xlink:href=\"#m21bcc89ae8\" y=\"83.957744\"/>\n      </g>\n     </g>\n     <g id=\"text_14\">\n      <!-- 200 -->\n      <g transform=\"translate(20.878125 87.756963)scale(0.1 -0.1)\">\n       <use xlink:href=\"#DejaVuSans-32\"/>\n       <use x=\"63.623047\" xlink:href=\"#DejaVuSans-30\"/>\n       <use x=\"127.246094\" xlink:href=\"#DejaVuSans-30\"/>\n      </g>\n     </g>\n    </g>\n    <g id=\"ytick_6\">\n     <g id=\"line2d_14\">\n      <g>\n       <use style=\"stroke:#000000;stroke-width:0.8;\" x=\"46.965625\" xlink:href=\"#m21bcc89ae8\" y=\"56.308536\"/>\n      </g>\n     </g>\n     <g id=\"text_15\">\n      <!-- 250 -->\n      <g transform=\"translate(20.878125 60.107755)scale(0.1 -0.1)\">\n       <use xlink:href=\"#DejaVuSans-32\"/>\n       <use x=\"63.623047\" xlink:href=\"#DejaVuSans-35\"/>\n       <use x=\"127.246094\" xlink:href=\"#DejaVuSans-30\"/>\n      </g>\n     </g>\n    </g>\n    <g id=\"ytick_7\">\n     <g id=\"line2d_15\">\n      <g>\n       <use style=\"stroke:#000000;stroke-width:0.8;\" x=\"46.965625\" xlink:href=\"#m21bcc89ae8\" y=\"28.659329\"/>\n      </g>\n     </g>\n     <g id=\"text_16\">\n      <!-- 300 -->\n      <g transform=\"translate(20.878125 32.458548)scale(0.1 -0.1)\">\n       <defs>\n        <path d=\"M 2597 2516 \nQ 3050 2419 3304 2112 \nQ 3559 1806 3559 1356 \nQ 3559 666 3084 287 \nQ 2609 -91 1734 -91 \nQ 1441 -91 1130 -33 \nQ 819 25 488 141 \nL 488 750 \nQ 750 597 1062 519 \nQ 1375 441 1716 441 \nQ 2309 441 2620 675 \nQ 2931 909 2931 1356 \nQ 2931 1769 2642 2001 \nQ 2353 2234 1838 2234 \nL 1294 2234 \nL 1294 2753 \nL 1863 2753 \nQ 2328 2753 2575 2939 \nQ 2822 3125 2822 3475 \nQ 2822 3834 2567 4026 \nQ 2313 4219 1838 4219 \nQ 1578 4219 1281 4162 \nQ 984 4106 628 3988 \nL 628 4550 \nQ 988 4650 1302 4700 \nQ 1616 4750 1894 4750 \nQ 2613 4750 3031 4423 \nQ 3450 4097 3450 3541 \nQ 3450 3153 3228 2886 \nQ 3006 2619 2597 2516 \nz\n\" id=\"DejaVuSans-33\" transform=\"scale(0.015625)\"/>\n       </defs>\n       <use xlink:href=\"#DejaVuSans-33\"/>\n       <use x=\"63.623047\" xlink:href=\"#DejaVuSans-30\"/>\n       <use x=\"127.246094\" xlink:href=\"#DejaVuSans-30\"/>\n      </g>\n     </g>\n    </g>\n    <g id=\"text_17\">\n     <!-- units -->\n     <g transform=\"translate(14.798438 117.411406)rotate(-90)scale(0.1 -0.1)\">\n      <defs>\n       <path d=\"M 544 1381 \nL 544 3500 \nL 1119 3500 \nL 1119 1403 \nQ 1119 906 1312 657 \nQ 1506 409 1894 409 \nQ 2359 409 2629 706 \nQ 2900 1003 2900 1516 \nL 2900 3500 \nL 3475 3500 \nL 3475 0 \nL 2900 0 \nL 2900 538 \nQ 2691 219 2414 64 \nQ 2138 -91 1772 -91 \nQ 1169 -91 856 284 \nQ 544 659 544 1381 \nz\nM 1991 3584 \nL 1991 3584 \nz\n\" id=\"DejaVuSans-75\" transform=\"scale(0.015625)\"/>\n       <path d=\"M 3513 2113 \nL 3513 0 \nL 2938 0 \nL 2938 2094 \nQ 2938 2591 2744 2837 \nQ 2550 3084 2163 3084 \nQ 1697 3084 1428 2787 \nQ 1159 2491 1159 1978 \nL 1159 0 \nL 581 0 \nL 581 3500 \nL 1159 3500 \nL 1159 2956 \nQ 1366 3272 1645 3428 \nQ 1925 3584 2291 3584 \nQ 2894 3584 3203 3211 \nQ 3513 2838 3513 2113 \nz\n\" id=\"DejaVuSans-6e\" transform=\"scale(0.015625)\"/>\n       <path d=\"M 603 3500 \nL 1178 3500 \nL 1178 0 \nL 603 0 \nL 603 3500 \nz\nM 603 4863 \nL 1178 4863 \nL 1178 4134 \nL 603 4134 \nL 603 4863 \nz\n\" id=\"DejaVuSans-69\" transform=\"scale(0.015625)\"/>\n      </defs>\n      <use xlink:href=\"#DejaVuSans-75\"/>\n      <use x=\"63.378906\" xlink:href=\"#DejaVuSans-6e\"/>\n      <use x=\"126.757812\" xlink:href=\"#DejaVuSans-69\"/>\n      <use x=\"154.541016\" xlink:href=\"#DejaVuSans-74\"/>\n      <use x=\"193.75\" xlink:href=\"#DejaVuSans-73\"/>\n     </g>\n    </g>\n   </g>\n   <g id=\"line2d_16\">\n    <path clip-path=\"url(#pd3f69cc084)\" d=\"M 62.183807 194.138182 \nL 62.60949 190.499019 \nL 62.822332 189.807788 \nL 63.035174 188.304057 \nL 63.248015 185.579143 \nL 63.460857 184.918435 \nL 63.88654 182.40347 \nL 64.312224 180.256282 \nL 64.525066 180.502053 \nL 64.737907 178.623511 \nL 64.950749 178.120798 \nL 65.163591 178.357791 \nL 65.376432 176.336347 \nL 65.589274 176.146035 \nL 65.802116 175.424642 \nL 66.227799 176.32314 \nL 66.440641 176.114674 \nL 66.653483 177.181143 \nL 66.866324 176.479094 \nL 67.079166 175.207796 \nL 67.504849 174.511282 \nL 67.930533 171.885967 \nL 68.143375 172.046317 \nL 68.356216 171.815907 \nL 68.569058 172.341242 \nL 68.7819 172.354409 \nL 68.994741 169.857881 \nL 69.207583 170.356773 \nL 69.420425 169.663231 \nL 69.846108 167.261696 \nL 70.05895 167.377393 \nL 70.271792 167.634651 \nL 70.484633 167.578078 \nL 70.697475 167.084511 \nL 70.910317 166.885743 \nL 71.336 168.213598 \nL 71.548842 167.167605 \nL 71.761683 166.79708 \nL 71.974525 166.931376 \nL 72.400209 168.630265 \nL 72.61305 168.291197 \nL 72.825892 167.075263 \nL 73.038734 166.877205 \nL 73.464417 165.218977 \nL 73.890101 165.262426 \nL 74.102942 165.768533 \nL 74.315784 164.905207 \nL 74.528626 163.097679 \nL 74.741467 162.747456 \nL 74.954309 163.146771 \nL 75.167151 161.524684 \nL 75.379992 162.202748 \nL 75.592834 161.25339 \nL 75.805676 161.787869 \nL 76.231359 159.67099 \nL 76.657043 158.473326 \nL 77.082726 160.702344 \nL 77.295568 160.082331 \nL 77.508409 161.201945 \nL 77.721251 161.275677 \nL 77.934093 162.750301 \nL 78.146935 162.415159 \nL 78.359776 161.784393 \nL 78.572618 160.099589 \nL 78.78546 160.171717 \nL 78.998301 158.286766 \nL 79.211143 157.97199 \nL 79.636827 159.856368 \nL 79.849668 159.300032 \nL 80.275352 163.43927 \nL 80.701035 161.663818 \nL 80.913877 161.529487 \nL 81.126718 162.414261 \nL 81.552402 161.128066 \nL 81.765244 161.373837 \nL 81.978085 160.62255 \nL 82.403769 160.851854 \nL 82.61661 158.636846 \nL 82.829452 157.960956 \nL 83.042294 157.658382 \nL 83.255135 158.211366 \nL 83.467977 157.663452 \nL 83.680819 158.208536 \nL 83.893661 160.226127 \nL 84.106502 161.008812 \nL 84.319344 161.061477 \nL 84.957869 156.570857 \nL 85.170711 156.570857 \nL 86.660603 154.25948 \nL 86.873444 154.425504 \nL 87.086286 154.98032 \nL 87.299128 153.815815 \nL 87.51197 154.049517 \nL 87.724811 151.908678 \nL 87.937653 153.944085 \nL 88.150495 153.722891 \nL 88.363336 153.688701 \nL 88.78902 156.082654 \nL 89.001861 153.751623 \nL 89.214703 154.041281 \nL 89.427545 153.143257 \nL 89.640387 155.355194 \nL 90.06607 155.612382 \nL 90.278912 156.691513 \nL 90.491753 155.665566 \nL 90.704595 155.678599 \nL 90.917437 155.569319 \nL 91.130279 156.997862 \nL 91.34312 155.971769 \nL 91.555962 157.802337 \nL 91.768804 157.915303 \nL 91.981645 156.025839 \nL 92.194487 157.131807 \nL 92.407329 156.336364 \nL 92.62017 157.190975 \nL 92.833012 158.844611 \nL 93.045854 158.419053 \nL 93.258696 158.868144 \nL 93.471537 157.954882 \nL 93.684379 160.310185 \nL 93.897221 160.154796 \nL 94.110062 161.048078 \nL 94.322904 159.297511 \nL 94.535746 158.741092 \nL 94.748587 161.242687 \nL 95.174271 160.512412 \nL 95.387113 161.8146 \nL 95.812796 157.922464 \nL 96.025638 159.148449 \nL 96.664163 155.267698 \nL 96.877005 156.803765 \nL 97.728371 157.679323 \nL 98.366896 157.458129 \nL 99.005422 159.318177 \nL 99.218263 160.719927 \nL 99.431105 160.094529 \nL 99.643947 160.647513 \nL 99.856788 160.450018 \nL 100.06963 160.745801 \nL 100.282472 162.404753 \nL 100.708155 162.641746 \nL 100.920997 163.19473 \nL 101.559522 162.499478 \nL 101.772364 163.605447 \nL 101.985205 162.527127 \nL 102.410889 163.633096 \nL 103.262256 162.794981 \nL 103.900781 162.525233 \nL 104.752148 163.631201 \nL 104.964989 164.184185 \nL 105.390673 164.737169 \nL 106.029198 165.290154 \nL 108.79614 164.908785 \nL 109.221823 165.461769 \nL 140.08387 161.382698 \nL 140.296712 161.935682 \nL 140.509554 159.020639 \nL 140.722396 160.126607 \nL 140.935237 156.847097 \nL 141.148079 157.400081 \nL 141.360921 156.130935 \nL 141.573762 156.068096 \nL 141.786604 155.493364 \nL 142.425129 151.324713 \nL 142.637971 150.598387 \nL 142.850813 150.741191 \nL 143.276496 146.976914 \nL 143.489338 146.474423 \nL 143.915021 145.134772 \nL 144.127863 142.284856 \nL 144.340704 142.044428 \nL 144.553546 143.18694 \nL 144.97923 140.812081 \nL 145.192071 140.554091 \nL 145.404913 139.503421 \nL 145.617755 141.416447 \nL 145.830596 141.515984 \nL 146.043438 139.506808 \nL 146.25628 139.598972 \nL 146.469122 137.471149 \nL 146.681963 137.10059 \nL 147.320488 139.873256 \nL 147.959013 133.878364 \nL 148.171855 133.694239 \nL 148.384697 132.517651 \nL 148.597539 133.042986 \nL 148.81038 132.795709 \nL 149.023222 133.338059 \nL 149.236064 132.450213 \nL 149.448905 132.176903 \nL 149.661747 129.833889 \nL 149.874589 128.890464 \nL 150.08743 130.831252 \nL 150.300272 130.958864 \nL 150.513114 130.73106 \nL 150.938797 128.348738 \nL 151.151639 129.186722 \nL 151.577322 130.317267 \nL 151.790164 129.448799 \nL 152.003006 130.538356 \nL 152.215848 129.556082 \nL 152.641531 135.749504 \nL 152.854373 135.178599 \nL 153.280056 132.544027 \nL 153.492898 132.194475 \nL 153.705739 132.286639 \nL 153.918581 130.644148 \nL 154.131423 130.707954 \nL 154.344265 129.594666 \nL 154.557106 127.603084 \nL 154.769948 128.156068 \nL 154.98279 129.451091 \nL 155.408473 127.4575 \nL 155.621315 128.69108 \nL 155.834156 128.255199 \nL 156.046998 128.159962 \nL 156.25984 128.515452 \nL 156.472682 129.861606 \nL 156.685523 129.86022 \nL 156.898365 130.523801 \nL 157.111207 128.370369 \nL 157.53689 129.085461 \nL 157.749732 128.974864 \nL 158.388257 128.036138 \nL 158.601099 126.865668 \nL 158.81394 126.691669 \nL 159.026782 125.602716 \nL 159.239624 125.321543 \nL 159.665307 123.079069 \nL 160.090991 123.776264 \nL 160.303832 123.271037 \nL 160.516674 123.070955 \nL 160.942357 120.994783 \nL 161.155199 121.194833 \nL 161.368041 120.771437 \nL 161.580882 119.308023 \nL 162.219408 122.346776 \nL 162.432249 121.570509 \nL 162.645091 122.123494 \nL 164.134983 121.717972 \nL 164.347825 120.925 \nL 164.773508 121.155982 \nL 164.98635 120.286837 \nL 165.412033 123.425513 \nL 165.624875 123.637491 \nL 166.050558 124.67696 \nL 166.476242 122.258086 \nL 166.689083 122.391041 \nL 166.901925 122.308243 \nL 167.114767 122.358514 \nL 167.327608 120.620316 \nL 167.54045 120.005889 \nL 167.753292 120.022479 \nL 167.966134 119.792069 \nL 168.178975 120.353561 \nL 168.391817 121.238335 \nL 168.604659 120.336314 \nL 168.8175 120.479539 \nL 169.030342 118.030471 \nL 169.243184 117.618409 \nL 169.668867 114.893002 \nL 170.094551 112.99033 \nL 170.520234 111.603423 \nL 170.733076 111.559017 \nL 170.945917 111.048841 \nL 171.158759 111.067274 \nL 171.371601 111.620258 \nL 171.584443 111.067274 \nL 171.797284 112.038532 \nL 172.010126 111.430249 \nL 172.222968 112.123268 \nL 172.648651 110.702524 \nL 173.074334 107.356046 \nL 173.287176 107.343317 \nL 173.500018 109.856881 \nL 173.71286 109.856881 \nL 173.925701 110.269502 \nL 174.138543 111.928455 \nL 174.351385 111.618285 \nL 174.98991 111.950075 \nL 175.202752 111.29483 \nL 175.628435 111.345101 \nL 175.841277 111.898086 \nL 176.054118 110.870599 \nL 176.26696 111.53418 \nL 176.479802 111.323785 \nL 176.692643 113.535722 \nL 177.118327 112.762962 \nL 177.331169 112.381593 \nL 177.54401 112.934578 \nL 177.756852 111.916722 \nL 178.182535 111.448509 \nL 178.395377 110.453138 \nL 178.608219 111.006122 \nL 179.033902 110.72963 \nL 179.459586 110.01075 \nL 179.672427 111.116719 \nL 180.310952 110.422975 \nL 181.162319 109.869991 \nL 181.375161 110.422975 \nL 181.800844 109.49489 \nL 183.290736 109.069517 \nL 183.503578 108.542866 \nL 184.142103 109.09585 \nL 184.354945 109.648834 \nL 186.27052 110.201818 \nL 186.696204 110.754802 \nL 217.558251 109.444655 \nL 217.771092 107.616226 \nL 218.196776 101.555041 \nL 218.409617 101.049814 \nL 218.835301 97.978578 \nL 219.048142 98.636161 \nL 219.260984 97.970066 \nL 219.473826 95.466277 \nL 219.686668 94.885644 \nL 219.899509 93.183069 \nL 220.112351 93.11987 \nL 220.325193 93.672855 \nL 220.538034 91.714881 \nL 220.750876 91.226342 \nL 220.963718 91.088883 \nL 221.17656 89.615376 \nL 221.602243 85.206143 \nL 221.815085 84.883569 \nL 222.027926 79.454911 \nL 222.666451 77.395568 \nL 222.879293 78.778028 \nL 223.092135 77.391618 \nL 223.304977 77.194577 \nL 223.73066 75.484214 \nL 224.156343 72.25439 \nL 224.369185 71.555619 \nL 224.582027 71.560739 \nL 225.00771 69.016106 \nL 225.220552 68.573719 \nL 225.433394 67.387478 \nL 225.646235 67.634184 \nL 225.859077 67.689482 \nL 226.071919 65.508555 \nL 226.28476 65.860454 \nL 226.497602 64.239683 \nL 226.710444 64.746585 \nL 226.923286 65.981583 \nL 227.136127 65.264379 \nL 227.561811 67.62713 \nL 227.774652 68.456606 \nL 227.987494 67.975334 \nL 228.200336 68.171554 \nL 228.413177 68.693952 \nL 228.626019 68.637198 \nL 228.838861 69.105918 \nL 229.264544 69.211249 \nL 229.690228 66.011497 \nL 229.903069 67.180525 \nL 230.115911 67.598039 \nL 230.328753 67.479483 \nL 230.541594 66.200967 \nL 230.754436 66.82608 \nL 231.18012 65.013391 \nL 231.818645 62.886536 \nL 232.031486 61.249096 \nL 232.244328 60.992712 \nL 232.45717 61.213906 \nL 232.882853 62.980606 \nL 233.095695 61.640808 \nL 233.308537 61.438705 \nL 233.73422 61.949986 \nL 233.947062 61.595232 \nL 234.159903 61.766847 \nL 234.585587 61.431985 \nL 235.01127 61.711768 \nL 235.224112 60.726783 \nL 235.649795 62.061306 \nL 235.862637 60.65541 \nL 236.075479 61.484886 \nL 236.28832 60.880943 \nL 236.501162 61.756501 \nL 236.926846 60.100387 \nL 237.139687 62.312323 \nL 237.352529 61.661754 \nL 237.565371 61.609759 \nL 237.991054 60.489468 \nL 238.203896 61.131905 \nL 238.416738 60.721048 \nL 238.629579 60.639356 \nL 239.055263 58.173676 \nL 239.268104 58.26584 \nL 239.480946 56.751639 \nL 239.693788 58.410591 \nL 239.906629 58.453963 \nL 240.119471 58.699733 \nL 241.609363 56.731323 \nL 241.822205 54.979025 \nL 242.035046 54.677655 \nL 242.46073 54.277245 \nL 242.673572 53.606961 \nL 243.099255 56.739963 \nL 243.312097 57.630639 \nL 243.73778 61.269794 \nL 243.950622 62.145352 \nL 244.163464 63.881916 \nL 244.376305 63.999385 \nL 244.589147 64.552369 \nL 245.866197 59.44434 \nL 246.079039 58.941627 \nL 246.291881 59.264202 \nL 246.504722 59.295058 \nL 246.717564 60.187066 \nL 246.930406 61.739371 \nL 247.143247 61.314615 \nL 247.356089 63.754251 \nL 247.568931 63.357237 \nL 247.781772 64.074068 \nL 247.994614 65.502611 \nL 248.207456 64.972249 \nL 248.420298 65.312546 \nL 248.633139 66.11518 \nL 248.845981 65.470032 \nL 249.058823 63.514734 \nL 249.271664 62.921389 \nL 249.484506 62.843031 \nL 249.697348 63.948999 \nL 249.91019 62.219727 \nL 250.123031 61.998534 \nL 250.335873 64.614574 \nL 250.548715 65.167558 \nL 250.761556 64.762036 \nL 250.974398 65.315021 \nL 251.18724 67.67442 \nL 251.612923 66.696063 \nL 251.825765 66.493302 \nL 252.46429 67.046286 \nL 252.677132 66.464944 \nL 253.315657 65.79976 \nL 253.528498 66.614684 \nL 253.74134 66.916312 \nL 254.167024 69.993789 \nL 254.592707 68.839938 \nL 255.01839 68.471282 \nL 255.231232 69.024266 \nL 255.656916 68.430879 \nL 255.869757 68.691279 \nL 256.082599 68.460869 \nL 256.295441 69.013853 \nL 256.508282 68.460869 \nL 256.721124 68.768082 \nL 256.933966 68.442797 \nL 257.146807 69.548766 \nL 257.359649 69.575098 \nL 257.998174 67.975738 \nL 258.636699 68.303014 \nL 259.700908 67.897493 \nL 259.91375 68.450477 \nL 260.126591 68.031549 \nL 260.339433 68.584534 \nL 260.552275 67.843535 \nL 262.46785 67.008545 \nL 263.7449 68.114513 \nL 264.170584 68.667497 \nL 265.447634 69.773465 \nL 289.498746 67.838021 \nL 289.92443 68.391005 \nL 290.988638 68.943989 \nL 293.329897 67.917019 \nL 293.542739 66.81895 \nL 293.968422 67.732272 \nL 294.181264 67.960022 \nL 294.394106 67.775693 \nL 294.606947 67.865344 \nL 294.819789 68.418328 \nL 295.032631 65.638398 \nL 295.245472 65.710081 \nL 295.458314 64.125389 \nL 295.883998 58.738369 \nL 296.309681 55.645076 \nL 296.522523 53.063273 \nL 296.735364 51.948088 \nL 296.948206 49.572154 \nL 297.161048 49.11301 \nL 297.373889 46.888785 \nL 297.586731 47.0604 \nL 298.225256 42.620121 \nL 298.438098 40.975396 \nL 298.863781 40.645904 \nL 299.076623 38.839489 \nL 299.289465 38.690095 \nL 299.502307 36.637401 \nL 299.715148 37.190385 \nL 300.566515 32.181515 \nL 300.779357 32.734499 \nL 300.992198 30.704232 \nL 301.417882 30.366522 \nL 301.630724 30.70682 \nL 301.843565 29.476952 \nL 302.056407 29.240609 \nL 302.269249 28.043314 \nL 302.48209 24.769493 \nL 303.120615 23.974811 \nL 303.333457 22.472538 \nL 303.546299 22.525369 \nL 303.759141 21.66573 \nL 303.971982 21.693738 \nL 304.610507 23.117335 \nL 304.823349 22.891114 \nL 305.036191 24.319657 \nL 305.249033 23.287172 \nL 305.461874 24.920246 \nL 305.674716 25.483105 \nL 305.887558 23.061135 \nL 306.313241 24.448862 \nL 306.526083 23.424549 \nL 306.951766 23.811638 \nL 308.015975 27.483272 \nL 308.228816 27.284503 \nL 308.441658 27.512203 \nL 308.6545 25.599183 \nL 308.867341 25.676795 \nL 309.080183 24.216576 \nL 309.293025 24.316446 \nL 309.718708 22.766979 \nL 309.93155 23.132343 \nL 310.144392 23.232886 \nL 310.570075 20.365068 \nL 310.782917 19.984083 \nL 310.995759 20.26969 \nL 311.2086 20.96604 \nL 311.421442 20.208536 \nL 311.634284 20.026618 \nL 311.847125 19.348268 \nL 312.059967 18.177895 \nL 312.272809 19.283864 \nL 312.48565 17.79438 \nL 312.698492 18.347364 \nL 312.911334 18.023426 \nL 313.124176 18.114789 \nL 313.337017 18.352367 \nL 313.549859 18.087725 \nL 313.762701 18.813006 \nL 314.188384 18.177074 \nL 314.401226 18.271872 \nL 314.614067 17.798763 \nL 314.826909 16.758427 \nL 315.252593 17.310214 \nL 315.465434 17.207692 \nL 315.891118 16.231795 \nL 316.316801 18.420691 \nL 316.529643 18.001576 \nL 316.955326 20.901247 \nL 317.168168 19.244704 \nL 317.38101 20.272264 \nL 317.593851 18.961932 \nL 319.083743 19.286182 \nL 319.296585 20.038033 \nL 319.509427 21.405941 \nL 319.722268 19.876653 \nL 319.93511 20.982622 \nL 320.147952 21.351278 \nL 320.360793 19.570757 \nL 320.999319 20.506341 \nL 321.21216 19.262734 \nL 321.425002 19.863117 \nL 321.637844 20.088105 \nL 321.850685 19.50861 \nL 322.063527 20.614578 \nL 322.276369 18.856385 \nL 322.489211 19.757544 \nL 322.914894 22.683609 \nL 323.127736 23.562798 \nL 323.340577 23.452201 \nL 353.351258 22.46206 \nL 353.564099 22.65758 \nL 353.776941 20.410453 \nL 353.989783 19.472757 \nL 354.202624 20.071142 \nL 354.415466 18.899342 \nL 354.628308 18.844206 \nL 354.841149 18.357273 \nL 355.266833 16.101818 \nL 355.692516 18.005155 \nL 356.1182 20.40142 \nL 356.331041 20.96091 \nL 356.543883 19.857617 \nL 357.182408 19.132909 \nL 357.608092 20.56564 \nL 358.033775 20.312137 \nL 358.246617 19.440529 \nL 358.459458 19.647898 \nL 358.885142 18.064352 \nL 359.736509 17.80715 \nL 359.94935 18.913119 \nL 360.162192 18.360135 \nL 360.375034 18.487746 \nL 360.587875 18.81032 \nL 360.800717 19.363305 \nL 361.226401 21.022257 \nL 361.439242 20.358676 \nL 362.290609 24.229565 \nL 362.503451 24.782549 \nL 362.716293 24.569863 \nL 362.929134 22.745015 \nL 363.780501 23.850984 \nL 363.993343 23.660299 \nL 364.206184 24.213284 \nL 364.419026 24.028955 \nL 365.057551 22.038213 \nL 365.270393 22.591197 \nL 365.696076 21.96909 \nL 365.908918 21.25021 \nL 366.547443 20.9513 \nL 366.547443 20.9513 \n\" style=\"fill:none;stroke:#1f77b4;stroke-linecap:square;stroke-width:1.5;\"/>\n   </g>\n   <g id=\"patch_3\">\n    <path d=\"M 46.965625 203.04 \nL 46.965625 7.2 \n\" style=\"fill:none;stroke:#000000;stroke-linecap:square;stroke-linejoin:miter;stroke-width:0.8;\"/>\n   </g>\n   <g id=\"patch_4\">\n    <path d=\"M 381.765625 203.04 \nL 381.765625 7.2 \n\" style=\"fill:none;stroke:#000000;stroke-linecap:square;stroke-linejoin:miter;stroke-width:0.8;\"/>\n   </g>\n   <g id=\"patch_5\">\n    <path d=\"M 46.965625 203.04 \nL 381.765625 203.04 \n\" style=\"fill:none;stroke:#000000;stroke-linecap:square;stroke-linejoin:miter;stroke-width:0.8;\"/>\n   </g>\n   <g id=\"patch_6\">\n    <path d=\"M 46.965625 7.2 \nL 381.765625 7.2 \n\" style=\"fill:none;stroke:#000000;stroke-linecap:square;stroke-linejoin:miter;stroke-width:0.8;\"/>\n   </g>\n   <g id=\"legend_1\">\n    <g id=\"patch_7\">\n     <path d=\"M 53.965625 29.878125 \nL 141.55625 29.878125 \nQ 143.55625 29.878125 143.55625 27.878125 \nL 143.55625 14.2 \nQ 143.55625 12.2 141.55625 12.2 \nL 53.965625 12.2 \nQ 51.965625 12.2 51.965625 14.2 \nL 51.965625 27.878125 \nQ 51.965625 29.878125 53.965625 29.878125 \nz\n\" style=\"fill:#ffffff;opacity:0.8;stroke:#cccccc;stroke-linejoin:miter;\"/>\n    </g>\n    <g id=\"line2d_17\">\n     <path d=\"M 55.965625 20.298437 \nL 75.965625 20.298437 \n\" style=\"fill:none;stroke:#1f77b4;stroke-linecap:square;stroke-width:1.5;\"/>\n    </g>\n    <g id=\"line2d_18\"/>\n    <g id=\"text_18\">\n     <!-- cumulative -->\n     <g transform=\"translate(83.965625 23.798437)scale(0.1 -0.1)\">\n      <defs>\n       <path d=\"M 3122 3366 \nL 3122 2828 \nQ 2878 2963 2633 3030 \nQ 2388 3097 2138 3097 \nQ 1578 3097 1268 2742 \nQ 959 2388 959 1747 \nQ 959 1106 1268 751 \nQ 1578 397 2138 397 \nQ 2388 397 2633 464 \nQ 2878 531 3122 666 \nL 3122 134 \nQ 2881 22 2623 -34 \nQ 2366 -91 2075 -91 \nQ 1284 -91 818 406 \nQ 353 903 353 1747 \nQ 353 2603 823 3093 \nQ 1294 3584 2113 3584 \nQ 2378 3584 2631 3529 \nQ 2884 3475 3122 3366 \nz\n\" id=\"DejaVuSans-63\" transform=\"scale(0.015625)\"/>\n       <path d=\"M 3328 2828 \nQ 3544 3216 3844 3400 \nQ 4144 3584 4550 3584 \nQ 5097 3584 5394 3201 \nQ 5691 2819 5691 2113 \nL 5691 0 \nL 5113 0 \nL 5113 2094 \nQ 5113 2597 4934 2840 \nQ 4756 3084 4391 3084 \nQ 3944 3084 3684 2787 \nQ 3425 2491 3425 1978 \nL 3425 0 \nL 2847 0 \nL 2847 2094 \nQ 2847 2600 2669 2842 \nQ 2491 3084 2119 3084 \nQ 1678 3084 1418 2786 \nQ 1159 2488 1159 1978 \nL 1159 0 \nL 581 0 \nL 581 3500 \nL 1159 3500 \nL 1159 2956 \nQ 1356 3278 1631 3431 \nQ 1906 3584 2284 3584 \nQ 2666 3584 2933 3390 \nQ 3200 3197 3328 2828 \nz\n\" id=\"DejaVuSans-6d\" transform=\"scale(0.015625)\"/>\n       <path d=\"M 603 4863 \nL 1178 4863 \nL 1178 0 \nL 603 0 \nL 603 4863 \nz\n\" id=\"DejaVuSans-6c\" transform=\"scale(0.015625)\"/>\n       <path d=\"M 191 3500 \nL 800 3500 \nL 1894 563 \nL 2988 3500 \nL 3597 3500 \nL 2284 0 \nL 1503 0 \nL 191 3500 \nz\n\" id=\"DejaVuSans-76\" transform=\"scale(0.015625)\"/>\n      </defs>\n      <use xlink:href=\"#DejaVuSans-63\"/>\n      <use x=\"54.980469\" xlink:href=\"#DejaVuSans-75\"/>\n      <use x=\"118.359375\" xlink:href=\"#DejaVuSans-6d\"/>\n      <use x=\"215.771484\" xlink:href=\"#DejaVuSans-75\"/>\n      <use x=\"279.150391\" xlink:href=\"#DejaVuSans-6c\"/>\n      <use x=\"306.933594\" xlink:href=\"#DejaVuSans-61\"/>\n      <use x=\"368.212891\" xlink:href=\"#DejaVuSans-74\"/>\n      <use x=\"407.421875\" xlink:href=\"#DejaVuSans-69\"/>\n      <use x=\"435.205078\" xlink:href=\"#DejaVuSans-76\"/>\n      <use x=\"494.384766\" xlink:href=\"#DejaVuSans-65\"/>\n     </g>\n    </g>\n   </g>\n  </g>\n </g>\n <defs>\n  <clipPath id=\"pd3f69cc084\">\n   <rect height=\"195.84\" width=\"334.8\" x=\"46.965625\" y=\"7.2\"/>\n  </clipPath>\n </defs>\n</svg>\n",
                        "text/plain": [
                            "<Figure size 432x288 with 1 Axes>"
                        ]
                    },
                    "metadata": {
                        "needs_background": "light"
                    }
                },
                {
                    "output_type": "display_data",
                    "data": {
                        "text/plain": [
                            "'Accuracy: 0.6934548467274234'"
                        ]
                    },
                    "metadata": {}
                },
                {
                    "output_type": "display_data",
                    "data": {
                        "text/plain": [
                            "'Total Profit: 313.93896940235396'"
                        ]
                    },
                    "metadata": {}
                },
                {
                    "output_type": "display_data",
                    "data": {
                        "text/plain": [
                            "'Best 7 days: 26.31763452468982'"
                        ]
                    },
                    "metadata": {}
                },
                {
                    "output_type": "display_data",
                    "data": {
                        "text/plain": [
                            "'Worst 7 days: -18.58092201885108'"
                        ]
                    },
                    "metadata": {}
                },
                {
                    "output_type": "display_data",
                    "data": {
                        "text/plain": [
                            "'Best 30 days: 68.8117475126163'"
                        ]
                    },
                    "metadata": {}
                },
                {
                    "output_type": "display_data",
                    "data": {
                        "text/plain": [
                            "'Worst 30 days: -20.683279255328706'"
                        ]
                    },
                    "metadata": {}
                }
            ],
            "metadata": {}
        }
    ],
    "metadata": {
        "orig_nbformat": 4,
        "language_info": {
            "name": "python",
            "version": "3.7.7",
            "mimetype": "text/x-python",
            "codemirror_mode": {
                "name": "ipython",
                "version": 3
            },
            "pygments_lexer": "ipython3",
            "nbconvert_exporter": "python",
            "file_extension": ".py"
        },
        "kernelspec": {
            "name": "python3",
            "display_name": "Python 3.7.7 64-bit ('venv': venv)"
        },
        "interpreter": {
            "hash": "6062681f7a8b23dd7786723a653b3e21ab61a1e293d17ded925360d6ea5d73a4"
        }
    },
    "nbformat": 4,
    "nbformat_minor": 2
}